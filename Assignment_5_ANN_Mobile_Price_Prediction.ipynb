{
  "nbformat": 4,
  "nbformat_minor": 0,
  "metadata": {
    "colab": {
      "provenance": []
    },
    "kernelspec": {
      "name": "python3",
      "display_name": "Python 3"
    },
    "language_info": {
      "name": "python"
    }
  },
  "cells": [
    {
      "cell_type": "markdown",
      "source": [
        "# **Mobile Price Classification using Artificial Neural Network (ANN)**"
      ],
      "metadata": {
        "id": "VPFiVlkUVniz"
      }
    },
    {
      "cell_type": "markdown",
      "source": [
        "# **Introduction**\n",
        "\n",
        "In today’s competitive smartphone market, determining the appropriate price of a mobile phone based on its features is a critical task. Bob, a new entrepreneur in the mobile industry, aims to compete with major brands like Apple and Samsung. However, he lacks the expertise to estimate the price range of the mobile phones his company designs.\n",
        "\n",
        "To assist Bob, we use Machine Learning — specifically an Artificial Neural Network (ANN) — to predict the price range of a mobile phone based on its technical specifications. The model learns from past mobile sales data and identifies hidden patterns between a phone’s features (such as RAM, battery power, screen size, camera quality, etc.) and its price category.\n",
        "\n",
        "\n",
        "# Objective\n",
        "\n",
        "The main goal of the project is to:\n",
        "\n",
        "* Build an **ANN-based classification** model that predicts the price range of a mobile phone.\n",
        "* Use hyperparameter tuning to find the most accurate and efficient model configuration.\n",
        "* Help Bob make data-driven decisions when pricing new mobile devices.\n",
        "\n",
        "# Dataset Description\n",
        "\n",
        "The dataset used for this project is named mobile_price_classification.csv.\n",
        "It contains several mobile phone features and a target column named price_range, which indicates the class label.\n",
        "\n",
        "## Features:-\n",
        "1. **battery_power**  - Total energy capacity of the battery(in mAh).\n",
        "2. **bluetooth**\t- Whether the phone supports Bluetooth (1 = Yes, 0 = No).\n",
        "3. **clock_speed**\t- Speed at which the microprocessor executes instructions (in GHz).\n",
        "4. **dual_sim**\t- Whether the phone supports dual SIMs (1 = Yes, 0 = No).\n",
        "5. **front_cam**\t- Megapixels of the front camera.\n",
        "6. **4G**\t- Whether the phone supports 4G (1 = Yes, 0 = No).\n",
        "7. **int_memory**\t- Internal memory (in GB).\n",
        "8. **m_dep**\t- Mobile depth (in cm).\n",
        "9. **mobile_wt** - Weight of the mobile phone (in grams).\n",
        "10. **n_cores**\t- Number of processor cores.\n",
        "11. **primary_camera**\t- Megapixels of the primary camera.\n",
        "12. **px_height**\t- Pixel resolution height.\n",
        "13. **px_width**\t- Pixel resolution width.\n",
        "14. **ram**\tRAM capacity (in MB).\n",
        "15. **sc_h**\t- Screen height of the mobile (in cm).\n",
        "16. **sc_w** - Screen width of the mobile (in cm).\n",
        "17. **talk_time**\t- Maximum time the phone can last on a single charge (in hours).\n",
        "18. **three_g**\t- Whether the phone supports 3G (1 = Yes, 0 = No).\n",
        "19. **touch_screen**\t- Whether the phone has a touch screen (1 = Yes, 0 = No).\n",
        "10. **wifi** - Whether the phone supports Wi-Fi (1 = Yes, 0 = No).\n",
        "\n",
        "## Target:-\n",
        "* **price_range** - Target variable (0 = Low cost, 1 = Medium cost, 2 = High cost, 3 = Very high cost)."
      ],
      "metadata": {
        "id": "pnM7FLLZTnCX"
      }
    },
    {
      "cell_type": "code",
      "source": [
        "from google.colab import drive\n",
        "drive.mount('/content/drive')"
      ],
      "metadata": {
        "colab": {
          "base_uri": "https://localhost:8080/"
        },
        "id": "d7scPG0bVoZV",
        "outputId": "aec65f86-c5cc-48c1-d767-e330377cd07a"
      },
      "execution_count": 1,
      "outputs": [
        {
          "output_type": "stream",
          "name": "stdout",
          "text": [
            "Drive already mounted at /content/drive; to attempt to forcibly remount, call drive.mount(\"/content/drive\", force_remount=True).\n"
          ]
        }
      ]
    },
    {
      "cell_type": "code",
      "source": [
        "path = '/content/drive/MyDrive/Colab Notebooks/AI_ML_ICT/NOTES/Codes/Data/mobile_price_classification.csv'"
      ],
      "metadata": {
        "id": "TFsjnbJmVxJp"
      },
      "execution_count": 2,
      "outputs": []
    },
    {
      "cell_type": "markdown",
      "source": [
        "# 1. Import Libraries"
      ],
      "metadata": {
        "id": "s9kzze9gVdQS"
      }
    },
    {
      "cell_type": "code",
      "source": [
        "!pip install keras-tuner -q"
      ],
      "metadata": {
        "colab": {
          "base_uri": "https://localhost:8080/"
        },
        "id": "xCWUs0GHY9AL",
        "outputId": "5f4c501f-d5e8-46e4-82bd-5f51472f6dab"
      },
      "execution_count": 4,
      "outputs": [
        {
          "output_type": "stream",
          "name": "stdout",
          "text": [
            "\u001b[?25l   \u001b[90m━━━━━━━━━━━━━━━━━━━━━━━━━━━━━━━━━━━━━━━━\u001b[0m \u001b[32m0.0/129.1 kB\u001b[0m \u001b[31m?\u001b[0m eta \u001b[36m-:--:--\u001b[0m\r\u001b[2K   \u001b[90m━━━━━━━━━━━━━━━━━━━━━━━━━━━━━━━━━━━━━━━━\u001b[0m \u001b[32m129.1/129.1 kB\u001b[0m \u001b[31m4.9 MB/s\u001b[0m eta \u001b[36m0:00:00\u001b[0m\n",
            "\u001b[?25h"
          ]
        }
      ]
    },
    {
      "cell_type": "code",
      "execution_count": 3,
      "metadata": {
        "id": "DmUUl1KDT8R7"
      },
      "outputs": [],
      "source": [
        "# Importing pandas for data manipulation and analysis\n",
        "import pandas as pd\n",
        "\n",
        "# Importing numpy for numerical computations and array operations\n",
        "import numpy as np\n",
        "\n",
        "# Importing train_test_split to divide the dataset into training and testing sets\n",
        "from sklearn.model_selection import train_test_split\n",
        "\n",
        "# Importing StandardScaler to normalize or scale feature values\n",
        "from sklearn.preprocessing import StandardScaler\n",
        "\n",
        "# Importing Sequential model from Keras to build a neural network layer by layer\n",
        "from tensorflow.keras.models import Sequential\n",
        "\n",
        "# Importing Dense and Drpout layers to create fully connected layers and prevent overfitting\n",
        "from tensorflow.keras.layers import Dense, Dropout\n",
        "\n",
        "# Importing to_categorical to convert class labels into one-hot encoded format\n",
        "from tensorflow.keras.utils import to_categorical\n",
        "\n",
        "# Importing RandomSearch tuner from keras_tuner for hyperparameter tuning\n",
        "from keras_tuner.tuners import RandomSearch\n",
        "\n",
        "# Importing matplotlib for visualizing graphs and performance metrics\n",
        "import matplotlib.pyplot as plt\n",
        "\n",
        "# Importing TensorFlow library as tf for deep learning model training and execution\n",
        "import tensorflow as tf\n",
        "\n",
        "# Importing keras as kt for Keras API operations and model creation\n",
        "import keras as kt\n",
        "\n",
        "# Importing HyperParameters class from keras_tuner to define tunable parameters\n",
        "from keras_tuner import HyperParameters"
      ]
    },
    {
      "cell_type": "markdown",
      "source": [
        "# 2. Load Dataset\n"
      ],
      "metadata": {
        "id": "SV8n7zmIVE7_"
      }
    },
    {
      "cell_type": "code",
      "source": [
        "# Reading the dataset from the specified file path using pandas\n",
        "df = pd.read_csv(path)\n",
        "\n",
        "# Printing a message to indicate that the first 5 rows of the dataset will be displayed\n",
        "print('First 5 rows of the dataset:')\n",
        "\n",
        "# Displaying the first 5 rows of the DataFrame to get an overview of the data\n",
        "df.head(5)\n"
      ],
      "metadata": {
        "colab": {
          "base_uri": "https://localhost:8080/",
          "height": 273
        },
        "id": "JB7Z-THMU1hL",
        "outputId": "56199d3e-c5ab-46cd-cf16-cf2d19809f80"
      },
      "execution_count": 4,
      "outputs": [
        {
          "output_type": "stream",
          "name": "stdout",
          "text": [
            "First 5 rows of the dataset:\n"
          ]
        },
        {
          "output_type": "execute_result",
          "data": {
            "text/plain": [
              "   battery_power  bluetooth  clock_speed  dual_sim  front_cam  4G  int_memory  \\\n",
              "0            842          0          2.2         0          1   0           7   \n",
              "1           1021          1          0.5         1          0   1          53   \n",
              "2            563          1          0.5         1          2   1          41   \n",
              "3            615          1          2.5         0          0   0          10   \n",
              "4           1821          1          1.2         0         13   1          44   \n",
              "\n",
              "   m_dep  mobile_wt  n_cores  ...  px_height  px_width   ram  sc_h  sc_w  \\\n",
              "0    0.6        188        2  ...         20       756  2549     9     7   \n",
              "1    0.7        136        3  ...        905      1988  2631    17     3   \n",
              "2    0.9        145        5  ...       1263      1716  2603    11     2   \n",
              "3    0.8        131        6  ...       1216      1786  2769    16     8   \n",
              "4    0.6        141        2  ...       1208      1212  1411     8     2   \n",
              "\n",
              "   talk_time  three_g  touch_screen  wifi  price_range  \n",
              "0         19        0             0     1            1  \n",
              "1          7        1             1     0            2  \n",
              "2          9        1             1     0            2  \n",
              "3         11        1             0     0            2  \n",
              "4         15        1             1     0            1  \n",
              "\n",
              "[5 rows x 21 columns]"
            ],
            "text/html": [
              "\n",
              "  <div id=\"df-8bb33a5b-c021-48fb-a694-ad132910c4cf\" class=\"colab-df-container\">\n",
              "    <div>\n",
              "<style scoped>\n",
              "    .dataframe tbody tr th:only-of-type {\n",
              "        vertical-align: middle;\n",
              "    }\n",
              "\n",
              "    .dataframe tbody tr th {\n",
              "        vertical-align: top;\n",
              "    }\n",
              "\n",
              "    .dataframe thead th {\n",
              "        text-align: right;\n",
              "    }\n",
              "</style>\n",
              "<table border=\"1\" class=\"dataframe\">\n",
              "  <thead>\n",
              "    <tr style=\"text-align: right;\">\n",
              "      <th></th>\n",
              "      <th>battery_power</th>\n",
              "      <th>bluetooth</th>\n",
              "      <th>clock_speed</th>\n",
              "      <th>dual_sim</th>\n",
              "      <th>front_cam</th>\n",
              "      <th>4G</th>\n",
              "      <th>int_memory</th>\n",
              "      <th>m_dep</th>\n",
              "      <th>mobile_wt</th>\n",
              "      <th>n_cores</th>\n",
              "      <th>...</th>\n",
              "      <th>px_height</th>\n",
              "      <th>px_width</th>\n",
              "      <th>ram</th>\n",
              "      <th>sc_h</th>\n",
              "      <th>sc_w</th>\n",
              "      <th>talk_time</th>\n",
              "      <th>three_g</th>\n",
              "      <th>touch_screen</th>\n",
              "      <th>wifi</th>\n",
              "      <th>price_range</th>\n",
              "    </tr>\n",
              "  </thead>\n",
              "  <tbody>\n",
              "    <tr>\n",
              "      <th>0</th>\n",
              "      <td>842</td>\n",
              "      <td>0</td>\n",
              "      <td>2.2</td>\n",
              "      <td>0</td>\n",
              "      <td>1</td>\n",
              "      <td>0</td>\n",
              "      <td>7</td>\n",
              "      <td>0.6</td>\n",
              "      <td>188</td>\n",
              "      <td>2</td>\n",
              "      <td>...</td>\n",
              "      <td>20</td>\n",
              "      <td>756</td>\n",
              "      <td>2549</td>\n",
              "      <td>9</td>\n",
              "      <td>7</td>\n",
              "      <td>19</td>\n",
              "      <td>0</td>\n",
              "      <td>0</td>\n",
              "      <td>1</td>\n",
              "      <td>1</td>\n",
              "    </tr>\n",
              "    <tr>\n",
              "      <th>1</th>\n",
              "      <td>1021</td>\n",
              "      <td>1</td>\n",
              "      <td>0.5</td>\n",
              "      <td>1</td>\n",
              "      <td>0</td>\n",
              "      <td>1</td>\n",
              "      <td>53</td>\n",
              "      <td>0.7</td>\n",
              "      <td>136</td>\n",
              "      <td>3</td>\n",
              "      <td>...</td>\n",
              "      <td>905</td>\n",
              "      <td>1988</td>\n",
              "      <td>2631</td>\n",
              "      <td>17</td>\n",
              "      <td>3</td>\n",
              "      <td>7</td>\n",
              "      <td>1</td>\n",
              "      <td>1</td>\n",
              "      <td>0</td>\n",
              "      <td>2</td>\n",
              "    </tr>\n",
              "    <tr>\n",
              "      <th>2</th>\n",
              "      <td>563</td>\n",
              "      <td>1</td>\n",
              "      <td>0.5</td>\n",
              "      <td>1</td>\n",
              "      <td>2</td>\n",
              "      <td>1</td>\n",
              "      <td>41</td>\n",
              "      <td>0.9</td>\n",
              "      <td>145</td>\n",
              "      <td>5</td>\n",
              "      <td>...</td>\n",
              "      <td>1263</td>\n",
              "      <td>1716</td>\n",
              "      <td>2603</td>\n",
              "      <td>11</td>\n",
              "      <td>2</td>\n",
              "      <td>9</td>\n",
              "      <td>1</td>\n",
              "      <td>1</td>\n",
              "      <td>0</td>\n",
              "      <td>2</td>\n",
              "    </tr>\n",
              "    <tr>\n",
              "      <th>3</th>\n",
              "      <td>615</td>\n",
              "      <td>1</td>\n",
              "      <td>2.5</td>\n",
              "      <td>0</td>\n",
              "      <td>0</td>\n",
              "      <td>0</td>\n",
              "      <td>10</td>\n",
              "      <td>0.8</td>\n",
              "      <td>131</td>\n",
              "      <td>6</td>\n",
              "      <td>...</td>\n",
              "      <td>1216</td>\n",
              "      <td>1786</td>\n",
              "      <td>2769</td>\n",
              "      <td>16</td>\n",
              "      <td>8</td>\n",
              "      <td>11</td>\n",
              "      <td>1</td>\n",
              "      <td>0</td>\n",
              "      <td>0</td>\n",
              "      <td>2</td>\n",
              "    </tr>\n",
              "    <tr>\n",
              "      <th>4</th>\n",
              "      <td>1821</td>\n",
              "      <td>1</td>\n",
              "      <td>1.2</td>\n",
              "      <td>0</td>\n",
              "      <td>13</td>\n",
              "      <td>1</td>\n",
              "      <td>44</td>\n",
              "      <td>0.6</td>\n",
              "      <td>141</td>\n",
              "      <td>2</td>\n",
              "      <td>...</td>\n",
              "      <td>1208</td>\n",
              "      <td>1212</td>\n",
              "      <td>1411</td>\n",
              "      <td>8</td>\n",
              "      <td>2</td>\n",
              "      <td>15</td>\n",
              "      <td>1</td>\n",
              "      <td>1</td>\n",
              "      <td>0</td>\n",
              "      <td>1</td>\n",
              "    </tr>\n",
              "  </tbody>\n",
              "</table>\n",
              "<p>5 rows × 21 columns</p>\n",
              "</div>\n",
              "    <div class=\"colab-df-buttons\">\n",
              "\n",
              "  <div class=\"colab-df-container\">\n",
              "    <button class=\"colab-df-convert\" onclick=\"convertToInteractive('df-8bb33a5b-c021-48fb-a694-ad132910c4cf')\"\n",
              "            title=\"Convert this dataframe to an interactive table.\"\n",
              "            style=\"display:none;\">\n",
              "\n",
              "  <svg xmlns=\"http://www.w3.org/2000/svg\" height=\"24px\" viewBox=\"0 -960 960 960\">\n",
              "    <path d=\"M120-120v-720h720v720H120Zm60-500h600v-160H180v160Zm220 220h160v-160H400v160Zm0 220h160v-160H400v160ZM180-400h160v-160H180v160Zm440 0h160v-160H620v160ZM180-180h160v-160H180v160Zm440 0h160v-160H620v160Z\"/>\n",
              "  </svg>\n",
              "    </button>\n",
              "\n",
              "  <style>\n",
              "    .colab-df-container {\n",
              "      display:flex;\n",
              "      gap: 12px;\n",
              "    }\n",
              "\n",
              "    .colab-df-convert {\n",
              "      background-color: #E8F0FE;\n",
              "      border: none;\n",
              "      border-radius: 50%;\n",
              "      cursor: pointer;\n",
              "      display: none;\n",
              "      fill: #1967D2;\n",
              "      height: 32px;\n",
              "      padding: 0 0 0 0;\n",
              "      width: 32px;\n",
              "    }\n",
              "\n",
              "    .colab-df-convert:hover {\n",
              "      background-color: #E2EBFA;\n",
              "      box-shadow: 0px 1px 2px rgba(60, 64, 67, 0.3), 0px 1px 3px 1px rgba(60, 64, 67, 0.15);\n",
              "      fill: #174EA6;\n",
              "    }\n",
              "\n",
              "    .colab-df-buttons div {\n",
              "      margin-bottom: 4px;\n",
              "    }\n",
              "\n",
              "    [theme=dark] .colab-df-convert {\n",
              "      background-color: #3B4455;\n",
              "      fill: #D2E3FC;\n",
              "    }\n",
              "\n",
              "    [theme=dark] .colab-df-convert:hover {\n",
              "      background-color: #434B5C;\n",
              "      box-shadow: 0px 1px 3px 1px rgba(0, 0, 0, 0.15);\n",
              "      filter: drop-shadow(0px 1px 2px rgba(0, 0, 0, 0.3));\n",
              "      fill: #FFFFFF;\n",
              "    }\n",
              "  </style>\n",
              "\n",
              "    <script>\n",
              "      const buttonEl =\n",
              "        document.querySelector('#df-8bb33a5b-c021-48fb-a694-ad132910c4cf button.colab-df-convert');\n",
              "      buttonEl.style.display =\n",
              "        google.colab.kernel.accessAllowed ? 'block' : 'none';\n",
              "\n",
              "      async function convertToInteractive(key) {\n",
              "        const element = document.querySelector('#df-8bb33a5b-c021-48fb-a694-ad132910c4cf');\n",
              "        const dataTable =\n",
              "          await google.colab.kernel.invokeFunction('convertToInteractive',\n",
              "                                                    [key], {});\n",
              "        if (!dataTable) return;\n",
              "\n",
              "        const docLinkHtml = 'Like what you see? Visit the ' +\n",
              "          '<a target=\"_blank\" href=https://colab.research.google.com/notebooks/data_table.ipynb>data table notebook</a>'\n",
              "          + ' to learn more about interactive tables.';\n",
              "        element.innerHTML = '';\n",
              "        dataTable['output_type'] = 'display_data';\n",
              "        await google.colab.output.renderOutput(dataTable, element);\n",
              "        const docLink = document.createElement('div');\n",
              "        docLink.innerHTML = docLinkHtml;\n",
              "        element.appendChild(docLink);\n",
              "      }\n",
              "    </script>\n",
              "  </div>\n",
              "\n",
              "\n",
              "    <div id=\"df-5d107219-226a-41e7-b3ce-e162fd96e2eb\">\n",
              "      <button class=\"colab-df-quickchart\" onclick=\"quickchart('df-5d107219-226a-41e7-b3ce-e162fd96e2eb')\"\n",
              "                title=\"Suggest charts\"\n",
              "                style=\"display:none;\">\n",
              "\n",
              "<svg xmlns=\"http://www.w3.org/2000/svg\" height=\"24px\"viewBox=\"0 0 24 24\"\n",
              "     width=\"24px\">\n",
              "    <g>\n",
              "        <path d=\"M19 3H5c-1.1 0-2 .9-2 2v14c0 1.1.9 2 2 2h14c1.1 0 2-.9 2-2V5c0-1.1-.9-2-2-2zM9 17H7v-7h2v7zm4 0h-2V7h2v10zm4 0h-2v-4h2v4z\"/>\n",
              "    </g>\n",
              "</svg>\n",
              "      </button>\n",
              "\n",
              "<style>\n",
              "  .colab-df-quickchart {\n",
              "      --bg-color: #E8F0FE;\n",
              "      --fill-color: #1967D2;\n",
              "      --hover-bg-color: #E2EBFA;\n",
              "      --hover-fill-color: #174EA6;\n",
              "      --disabled-fill-color: #AAA;\n",
              "      --disabled-bg-color: #DDD;\n",
              "  }\n",
              "\n",
              "  [theme=dark] .colab-df-quickchart {\n",
              "      --bg-color: #3B4455;\n",
              "      --fill-color: #D2E3FC;\n",
              "      --hover-bg-color: #434B5C;\n",
              "      --hover-fill-color: #FFFFFF;\n",
              "      --disabled-bg-color: #3B4455;\n",
              "      --disabled-fill-color: #666;\n",
              "  }\n",
              "\n",
              "  .colab-df-quickchart {\n",
              "    background-color: var(--bg-color);\n",
              "    border: none;\n",
              "    border-radius: 50%;\n",
              "    cursor: pointer;\n",
              "    display: none;\n",
              "    fill: var(--fill-color);\n",
              "    height: 32px;\n",
              "    padding: 0;\n",
              "    width: 32px;\n",
              "  }\n",
              "\n",
              "  .colab-df-quickchart:hover {\n",
              "    background-color: var(--hover-bg-color);\n",
              "    box-shadow: 0 1px 2px rgba(60, 64, 67, 0.3), 0 1px 3px 1px rgba(60, 64, 67, 0.15);\n",
              "    fill: var(--button-hover-fill-color);\n",
              "  }\n",
              "\n",
              "  .colab-df-quickchart-complete:disabled,\n",
              "  .colab-df-quickchart-complete:disabled:hover {\n",
              "    background-color: var(--disabled-bg-color);\n",
              "    fill: var(--disabled-fill-color);\n",
              "    box-shadow: none;\n",
              "  }\n",
              "\n",
              "  .colab-df-spinner {\n",
              "    border: 2px solid var(--fill-color);\n",
              "    border-color: transparent;\n",
              "    border-bottom-color: var(--fill-color);\n",
              "    animation:\n",
              "      spin 1s steps(1) infinite;\n",
              "  }\n",
              "\n",
              "  @keyframes spin {\n",
              "    0% {\n",
              "      border-color: transparent;\n",
              "      border-bottom-color: var(--fill-color);\n",
              "      border-left-color: var(--fill-color);\n",
              "    }\n",
              "    20% {\n",
              "      border-color: transparent;\n",
              "      border-left-color: var(--fill-color);\n",
              "      border-top-color: var(--fill-color);\n",
              "    }\n",
              "    30% {\n",
              "      border-color: transparent;\n",
              "      border-left-color: var(--fill-color);\n",
              "      border-top-color: var(--fill-color);\n",
              "      border-right-color: var(--fill-color);\n",
              "    }\n",
              "    40% {\n",
              "      border-color: transparent;\n",
              "      border-right-color: var(--fill-color);\n",
              "      border-top-color: var(--fill-color);\n",
              "    }\n",
              "    60% {\n",
              "      border-color: transparent;\n",
              "      border-right-color: var(--fill-color);\n",
              "    }\n",
              "    80% {\n",
              "      border-color: transparent;\n",
              "      border-right-color: var(--fill-color);\n",
              "      border-bottom-color: var(--fill-color);\n",
              "    }\n",
              "    90% {\n",
              "      border-color: transparent;\n",
              "      border-bottom-color: var(--fill-color);\n",
              "    }\n",
              "  }\n",
              "</style>\n",
              "\n",
              "      <script>\n",
              "        async function quickchart(key) {\n",
              "          const quickchartButtonEl =\n",
              "            document.querySelector('#' + key + ' button');\n",
              "          quickchartButtonEl.disabled = true;  // To prevent multiple clicks.\n",
              "          quickchartButtonEl.classList.add('colab-df-spinner');\n",
              "          try {\n",
              "            const charts = await google.colab.kernel.invokeFunction(\n",
              "                'suggestCharts', [key], {});\n",
              "          } catch (error) {\n",
              "            console.error('Error during call to suggestCharts:', error);\n",
              "          }\n",
              "          quickchartButtonEl.classList.remove('colab-df-spinner');\n",
              "          quickchartButtonEl.classList.add('colab-df-quickchart-complete');\n",
              "        }\n",
              "        (() => {\n",
              "          let quickchartButtonEl =\n",
              "            document.querySelector('#df-5d107219-226a-41e7-b3ce-e162fd96e2eb button');\n",
              "          quickchartButtonEl.style.display =\n",
              "            google.colab.kernel.accessAllowed ? 'block' : 'none';\n",
              "        })();\n",
              "      </script>\n",
              "    </div>\n",
              "\n",
              "    </div>\n",
              "  </div>\n"
            ],
            "application/vnd.google.colaboratory.intrinsic+json": {
              "type": "dataframe",
              "variable_name": "df"
            }
          },
          "metadata": {},
          "execution_count": 4
        }
      ]
    },
    {
      "cell_type": "code",
      "source": [
        "# Display dataset information such as column names, data types, and non-null counts\n",
        "print(\"\\nDataset info:\")\n",
        "df.info()"
      ],
      "metadata": {
        "colab": {
          "base_uri": "https://localhost:8080/"
        },
        "id": "_8DzuCrgWDI7",
        "outputId": "ca28cdc4-3d99-4f1b-b8c8-88a0a67fe5bf"
      },
      "execution_count": 5,
      "outputs": [
        {
          "output_type": "stream",
          "name": "stdout",
          "text": [
            "\n",
            "Dataset info:\n",
            "<class 'pandas.core.frame.DataFrame'>\n",
            "RangeIndex: 2000 entries, 0 to 1999\n",
            "Data columns (total 21 columns):\n",
            " #   Column          Non-Null Count  Dtype  \n",
            "---  ------          --------------  -----  \n",
            " 0   battery_power   2000 non-null   int64  \n",
            " 1   bluetooth       2000 non-null   int64  \n",
            " 2   clock_speed     2000 non-null   float64\n",
            " 3   dual_sim        2000 non-null   int64  \n",
            " 4   front_cam       2000 non-null   int64  \n",
            " 5   4G              2000 non-null   int64  \n",
            " 6   int_memory      2000 non-null   int64  \n",
            " 7   m_dep           2000 non-null   float64\n",
            " 8   mobile_wt       2000 non-null   int64  \n",
            " 9   n_cores         2000 non-null   int64  \n",
            " 10  primary_camera  2000 non-null   int64  \n",
            " 11  px_height       2000 non-null   int64  \n",
            " 12  px_width        2000 non-null   int64  \n",
            " 13  ram             2000 non-null   int64  \n",
            " 14  sc_h            2000 non-null   int64  \n",
            " 15  sc_w            2000 non-null   int64  \n",
            " 16  talk_time       2000 non-null   int64  \n",
            " 17  three_g         2000 non-null   int64  \n",
            " 18  touch_screen    2000 non-null   int64  \n",
            " 19  wifi            2000 non-null   int64  \n",
            " 20  price_range     2000 non-null   int64  \n",
            "dtypes: float64(2), int64(19)\n",
            "memory usage: 328.3 KB\n"
          ]
        }
      ]
    },
    {
      "cell_type": "markdown",
      "source": [
        "# 3. Preprocessing"
      ],
      "metadata": {
        "id": "s-1mp1oNWk49"
      }
    },
    {
      "cell_type": "code",
      "source": [
        "# Check for missing values\n",
        "print('Missing values in dataset:')\n",
        "df.isnull().sum()"
      ],
      "metadata": {
        "colab": {
          "base_uri": "https://localhost:8080/",
          "height": 760
        },
        "id": "pxkS-nOAWLs4",
        "outputId": "61382007-3f00-496b-dad5-b715b05f236f"
      },
      "execution_count": 6,
      "outputs": [
        {
          "output_type": "stream",
          "name": "stdout",
          "text": [
            "Missing values in dataset:\n"
          ]
        },
        {
          "output_type": "execute_result",
          "data": {
            "text/plain": [
              "battery_power     0\n",
              "bluetooth         0\n",
              "clock_speed       0\n",
              "dual_sim          0\n",
              "front_cam         0\n",
              "4G                0\n",
              "int_memory        0\n",
              "m_dep             0\n",
              "mobile_wt         0\n",
              "n_cores           0\n",
              "primary_camera    0\n",
              "px_height         0\n",
              "px_width          0\n",
              "ram               0\n",
              "sc_h              0\n",
              "sc_w              0\n",
              "talk_time         0\n",
              "three_g           0\n",
              "touch_screen      0\n",
              "wifi              0\n",
              "price_range       0\n",
              "dtype: int64"
            ],
            "text/html": [
              "<div>\n",
              "<style scoped>\n",
              "    .dataframe tbody tr th:only-of-type {\n",
              "        vertical-align: middle;\n",
              "    }\n",
              "\n",
              "    .dataframe tbody tr th {\n",
              "        vertical-align: top;\n",
              "    }\n",
              "\n",
              "    .dataframe thead th {\n",
              "        text-align: right;\n",
              "    }\n",
              "</style>\n",
              "<table border=\"1\" class=\"dataframe\">\n",
              "  <thead>\n",
              "    <tr style=\"text-align: right;\">\n",
              "      <th></th>\n",
              "      <th>0</th>\n",
              "    </tr>\n",
              "  </thead>\n",
              "  <tbody>\n",
              "    <tr>\n",
              "      <th>battery_power</th>\n",
              "      <td>0</td>\n",
              "    </tr>\n",
              "    <tr>\n",
              "      <th>bluetooth</th>\n",
              "      <td>0</td>\n",
              "    </tr>\n",
              "    <tr>\n",
              "      <th>clock_speed</th>\n",
              "      <td>0</td>\n",
              "    </tr>\n",
              "    <tr>\n",
              "      <th>dual_sim</th>\n",
              "      <td>0</td>\n",
              "    </tr>\n",
              "    <tr>\n",
              "      <th>front_cam</th>\n",
              "      <td>0</td>\n",
              "    </tr>\n",
              "    <tr>\n",
              "      <th>4G</th>\n",
              "      <td>0</td>\n",
              "    </tr>\n",
              "    <tr>\n",
              "      <th>int_memory</th>\n",
              "      <td>0</td>\n",
              "    </tr>\n",
              "    <tr>\n",
              "      <th>m_dep</th>\n",
              "      <td>0</td>\n",
              "    </tr>\n",
              "    <tr>\n",
              "      <th>mobile_wt</th>\n",
              "      <td>0</td>\n",
              "    </tr>\n",
              "    <tr>\n",
              "      <th>n_cores</th>\n",
              "      <td>0</td>\n",
              "    </tr>\n",
              "    <tr>\n",
              "      <th>primary_camera</th>\n",
              "      <td>0</td>\n",
              "    </tr>\n",
              "    <tr>\n",
              "      <th>px_height</th>\n",
              "      <td>0</td>\n",
              "    </tr>\n",
              "    <tr>\n",
              "      <th>px_width</th>\n",
              "      <td>0</td>\n",
              "    </tr>\n",
              "    <tr>\n",
              "      <th>ram</th>\n",
              "      <td>0</td>\n",
              "    </tr>\n",
              "    <tr>\n",
              "      <th>sc_h</th>\n",
              "      <td>0</td>\n",
              "    </tr>\n",
              "    <tr>\n",
              "      <th>sc_w</th>\n",
              "      <td>0</td>\n",
              "    </tr>\n",
              "    <tr>\n",
              "      <th>talk_time</th>\n",
              "      <td>0</td>\n",
              "    </tr>\n",
              "    <tr>\n",
              "      <th>three_g</th>\n",
              "      <td>0</td>\n",
              "    </tr>\n",
              "    <tr>\n",
              "      <th>touch_screen</th>\n",
              "      <td>0</td>\n",
              "    </tr>\n",
              "    <tr>\n",
              "      <th>wifi</th>\n",
              "      <td>0</td>\n",
              "    </tr>\n",
              "    <tr>\n",
              "      <th>price_range</th>\n",
              "      <td>0</td>\n",
              "    </tr>\n",
              "  </tbody>\n",
              "</table>\n",
              "</div><br><label><b>dtype:</b> int64</label>"
            ]
          },
          "metadata": {},
          "execution_count": 6
        }
      ]
    },
    {
      "cell_type": "code",
      "source": [
        "# Remove any leading/ trailing spaces in column names\n",
        "df.columns = df.columns.str.strip()"
      ],
      "metadata": {
        "id": "UZFPr6I2Wpen"
      },
      "execution_count": 7,
      "outputs": []
    },
    {
      "cell_type": "code",
      "source": [
        "# Split dataset into features (X) and target (y)\n",
        "x = df.drop('price_range', axis=1)\n",
        "\n",
        "# Convert target variable into one-hot encoded format for multi-class classification\n",
        "y = to_categorical(df['price_range'])"
      ],
      "metadata": {
        "id": "6b797UY9WsqV"
      },
      "execution_count": 8,
      "outputs": []
    },
    {
      "cell_type": "code",
      "source": [
        "# Feature scaling\n",
        "# Initialize StandardScaler to normalize feature values\n",
        "scaler = StandardScaler()\n",
        "\n",
        "# Fit the scaler on feature data and transform it for uniform scaling\n",
        "x_scaled = scaler.fit_transform(x)"
      ],
      "metadata": {
        "id": "nirc6KphW7B6"
      },
      "execution_count": 9,
      "outputs": []
    },
    {
      "cell_type": "code",
      "source": [
        "# Train-test split\n",
        "# Split the scaled data into training and testing sets (80%-20%) with stratified sampling\n",
        "x_train, x_test, y_train, y_test = train_test_split(\n",
        "    x_scaled, y, test_size=0.2, random_state=42, stratify=y )"
      ],
      "metadata": {
        "id": "8u0qbMP2XL2K"
      },
      "execution_count": 10,
      "outputs": []
    },
    {
      "cell_type": "code",
      "source": [
        "# Display shapes of the training and testing datasets\n",
        "print(\"\\nTraining shape:\", x_train.shape)\n",
        "print(\"Testing shape:\", x_test.shape)"
      ],
      "metadata": {
        "colab": {
          "base_uri": "https://localhost:8080/"
        },
        "id": "S37BC0cHXToY",
        "outputId": "a173120e-8cfc-4e76-fc41-7fb5b68da586"
      },
      "execution_count": 11,
      "outputs": [
        {
          "output_type": "stream",
          "name": "stdout",
          "text": [
            "\n",
            "Training shape: (1600, 20)\n",
            "Testing shape: (400, 20)\n"
          ]
        }
      ]
    },
    {
      "cell_type": "markdown",
      "source": [
        "# 4. Base ANN Model"
      ],
      "metadata": {
        "id": "HRjhc1bhXbuS"
      }
    },
    {
      "cell_type": "markdown",
      "source": [
        "## 4.1 Build Base ANN Model"
      ],
      "metadata": {
        "id": "fnvMmtgNbunj"
      }
    },
    {
      "cell_type": "code",
      "source": [
        "# Build a base neural network model using the Sequential API\n",
        "base_model = Sequential([\n",
        "    # Input layer with 64 neurons and ReLU activation function\n",
        "    Dense(64, activation='relu', input_shape=(x_train.shape[1],)),\n",
        "\n",
        "    # Dropout\n",
        "    Dropout(0.3),\n",
        "\n",
        "    # Hidden layer with 32 neurons and ReLU activation\n",
        "    Dense(32, activation='relu'),\n",
        "\n",
        "    # Hidden layer with 16 neurons and ReLU activation\n",
        "    Dense(16, activation='relu'),\n",
        "\n",
        "    # Output layer with 4 neurons (for 4 classes) using softmax for probability distribution\n",
        "    Dense(4, activation='softmax')\n",
        "])\n",
        "\n",
        "# Compile the model with Adam optimizer and categorical crossentropy loss for multi-class classification\n",
        "base_model.compile(optimizer='adam', loss='categorical_crossentropy', metrics=['accuracy'])\n",
        "\n",
        "# Train the model on training data and validate using testing data\n",
        "history_base = base_model.fit(\n",
        "    x_train, y_train,                 # Training data and labels\n",
        "    validation_data=(x_test, y_test), # Validation data for monitoring performance\n",
        "    epochs=50,                        # Number of iterations through the entire dataset\n",
        "    batch_size=32,                    # Number of samples per gradient update\n",
        "    verbose=1                         # Display progress output during training\n",
        ")\n"
      ],
      "metadata": {
        "colab": {
          "base_uri": "https://localhost:8080/"
        },
        "id": "J_VFub-jXYP6",
        "outputId": "0dd4aa59-5a80-4e56-e680-95ce097c39ce"
      },
      "execution_count": 13,
      "outputs": [
        {
          "output_type": "stream",
          "name": "stdout",
          "text": [
            "Epoch 1/50\n",
            "\u001b[1m50/50\u001b[0m \u001b[32m━━━━━━━━━━━━━━━━━━━━\u001b[0m\u001b[37m\u001b[0m \u001b[1m2s\u001b[0m 8ms/step - accuracy: 0.2504 - loss: 1.4381 - val_accuracy: 0.4575 - val_loss: 1.2679\n",
            "Epoch 2/50\n",
            "\u001b[1m50/50\u001b[0m \u001b[32m━━━━━━━━━━━━━━━━━━━━\u001b[0m\u001b[37m\u001b[0m \u001b[1m0s\u001b[0m 4ms/step - accuracy: 0.4310 - loss: 1.2344 - val_accuracy: 0.5600 - val_loss: 1.0257\n",
            "Epoch 3/50\n",
            "\u001b[1m50/50\u001b[0m \u001b[32m━━━━━━━━━━━━━━━━━━━━\u001b[0m\u001b[37m\u001b[0m \u001b[1m0s\u001b[0m 4ms/step - accuracy: 0.5609 - loss: 1.0131 - val_accuracy: 0.6700 - val_loss: 0.7831\n",
            "Epoch 4/50\n",
            "\u001b[1m50/50\u001b[0m \u001b[32m━━━━━━━━━━━━━━━━━━━━\u001b[0m\u001b[37m\u001b[0m \u001b[1m0s\u001b[0m 4ms/step - accuracy: 0.6460 - loss: 0.8038 - val_accuracy: 0.7675 - val_loss: 0.5945\n",
            "Epoch 5/50\n",
            "\u001b[1m50/50\u001b[0m \u001b[32m━━━━━━━━━━━━━━━━━━━━\u001b[0m\u001b[37m\u001b[0m \u001b[1m0s\u001b[0m 4ms/step - accuracy: 0.7592 - loss: 0.6087 - val_accuracy: 0.8500 - val_loss: 0.4596\n",
            "Epoch 6/50\n",
            "\u001b[1m50/50\u001b[0m \u001b[32m━━━━━━━━━━━━━━━━━━━━\u001b[0m\u001b[37m\u001b[0m \u001b[1m0s\u001b[0m 4ms/step - accuracy: 0.8164 - loss: 0.4833 - val_accuracy: 0.8775 - val_loss: 0.3761\n",
            "Epoch 7/50\n",
            "\u001b[1m50/50\u001b[0m \u001b[32m━━━━━━━━━━━━━━━━━━━━\u001b[0m\u001b[37m\u001b[0m \u001b[1m0s\u001b[0m 4ms/step - accuracy: 0.7994 - loss: 0.4629 - val_accuracy: 0.8875 - val_loss: 0.3370\n",
            "Epoch 8/50\n",
            "\u001b[1m50/50\u001b[0m \u001b[32m━━━━━━━━━━━━━━━━━━━━\u001b[0m\u001b[37m\u001b[0m \u001b[1m0s\u001b[0m 4ms/step - accuracy: 0.8341 - loss: 0.3863 - val_accuracy: 0.8950 - val_loss: 0.2992\n",
            "Epoch 9/50\n",
            "\u001b[1m50/50\u001b[0m \u001b[32m━━━━━━━━━━━━━━━━━━━━\u001b[0m\u001b[37m\u001b[0m \u001b[1m0s\u001b[0m 4ms/step - accuracy: 0.8404 - loss: 0.3655 - val_accuracy: 0.9100 - val_loss: 0.2691\n",
            "Epoch 10/50\n",
            "\u001b[1m50/50\u001b[0m \u001b[32m━━━━━━━━━━━━━━━━━━━━\u001b[0m\u001b[37m\u001b[0m \u001b[1m0s\u001b[0m 4ms/step - accuracy: 0.8644 - loss: 0.3278 - val_accuracy: 0.9100 - val_loss: 0.2539\n",
            "Epoch 11/50\n",
            "\u001b[1m50/50\u001b[0m \u001b[32m━━━━━━━━━━━━━━━━━━━━\u001b[0m\u001b[37m\u001b[0m \u001b[1m0s\u001b[0m 4ms/step - accuracy: 0.8840 - loss: 0.2886 - val_accuracy: 0.9050 - val_loss: 0.2407\n",
            "Epoch 12/50\n",
            "\u001b[1m50/50\u001b[0m \u001b[32m━━━━━━━━━━━━━━━━━━━━\u001b[0m\u001b[37m\u001b[0m \u001b[1m0s\u001b[0m 4ms/step - accuracy: 0.8858 - loss: 0.2767 - val_accuracy: 0.8950 - val_loss: 0.2412\n",
            "Epoch 13/50\n",
            "\u001b[1m50/50\u001b[0m \u001b[32m━━━━━━━━━━━━━━━━━━━━\u001b[0m\u001b[37m\u001b[0m \u001b[1m0s\u001b[0m 4ms/step - accuracy: 0.8932 - loss: 0.2802 - val_accuracy: 0.8925 - val_loss: 0.2282\n",
            "Epoch 14/50\n",
            "\u001b[1m50/50\u001b[0m \u001b[32m━━━━━━━━━━━━━━━━━━━━\u001b[0m\u001b[37m\u001b[0m \u001b[1m0s\u001b[0m 4ms/step - accuracy: 0.8941 - loss: 0.2651 - val_accuracy: 0.8975 - val_loss: 0.2399\n",
            "Epoch 15/50\n",
            "\u001b[1m50/50\u001b[0m \u001b[32m━━━━━━━━━━━━━━━━━━━━\u001b[0m\u001b[37m\u001b[0m \u001b[1m0s\u001b[0m 4ms/step - accuracy: 0.8742 - loss: 0.2777 - val_accuracy: 0.9225 - val_loss: 0.2112\n",
            "Epoch 16/50\n",
            "\u001b[1m50/50\u001b[0m \u001b[32m━━━━━━━━━━━━━━━━━━━━\u001b[0m\u001b[37m\u001b[0m \u001b[1m0s\u001b[0m 4ms/step - accuracy: 0.8946 - loss: 0.2424 - val_accuracy: 0.9275 - val_loss: 0.2102\n",
            "Epoch 17/50\n",
            "\u001b[1m50/50\u001b[0m \u001b[32m━━━━━━━━━━━━━━━━━━━━\u001b[0m\u001b[37m\u001b[0m \u001b[1m0s\u001b[0m 4ms/step - accuracy: 0.9114 - loss: 0.2206 - val_accuracy: 0.9100 - val_loss: 0.2080\n",
            "Epoch 18/50\n",
            "\u001b[1m50/50\u001b[0m \u001b[32m━━━━━━━━━━━━━━━━━━━━\u001b[0m\u001b[37m\u001b[0m \u001b[1m0s\u001b[0m 4ms/step - accuracy: 0.9232 - loss: 0.1977 - val_accuracy: 0.9100 - val_loss: 0.2137\n",
            "Epoch 19/50\n",
            "\u001b[1m50/50\u001b[0m \u001b[32m━━━━━━━━━━━━━━━━━━━━\u001b[0m\u001b[37m\u001b[0m \u001b[1m0s\u001b[0m 4ms/step - accuracy: 0.9200 - loss: 0.1973 - val_accuracy: 0.9200 - val_loss: 0.2030\n",
            "Epoch 20/50\n",
            "\u001b[1m50/50\u001b[0m \u001b[32m━━━━━━━━━━━━━━━━━━━━\u001b[0m\u001b[37m\u001b[0m \u001b[1m0s\u001b[0m 4ms/step - accuracy: 0.9160 - loss: 0.1934 - val_accuracy: 0.9175 - val_loss: 0.1960\n",
            "Epoch 21/50\n",
            "\u001b[1m50/50\u001b[0m \u001b[32m━━━━━━━━━━━━━━━━━━━━\u001b[0m\u001b[37m\u001b[0m \u001b[1m0s\u001b[0m 4ms/step - accuracy: 0.9275 - loss: 0.1876 - val_accuracy: 0.9225 - val_loss: 0.1883\n",
            "Epoch 22/50\n",
            "\u001b[1m50/50\u001b[0m \u001b[32m━━━━━━━━━━━━━━━━━━━━\u001b[0m\u001b[37m\u001b[0m \u001b[1m0s\u001b[0m 4ms/step - accuracy: 0.9136 - loss: 0.1896 - val_accuracy: 0.8950 - val_loss: 0.2150\n",
            "Epoch 23/50\n",
            "\u001b[1m50/50\u001b[0m \u001b[32m━━━━━━━━━━━━━━━━━━━━\u001b[0m\u001b[37m\u001b[0m \u001b[1m0s\u001b[0m 4ms/step - accuracy: 0.9211 - loss: 0.1765 - val_accuracy: 0.9225 - val_loss: 0.1962\n",
            "Epoch 24/50\n",
            "\u001b[1m50/50\u001b[0m \u001b[32m━━━━━━━━━━━━━━━━━━━━\u001b[0m\u001b[37m\u001b[0m \u001b[1m0s\u001b[0m 4ms/step - accuracy: 0.9293 - loss: 0.1687 - val_accuracy: 0.9125 - val_loss: 0.1990\n",
            "Epoch 25/50\n",
            "\u001b[1m50/50\u001b[0m \u001b[32m━━━━━━━━━━━━━━━━━━━━\u001b[0m\u001b[37m\u001b[0m \u001b[1m0s\u001b[0m 5ms/step - accuracy: 0.9441 - loss: 0.1627 - val_accuracy: 0.9175 - val_loss: 0.1872\n",
            "Epoch 26/50\n",
            "\u001b[1m50/50\u001b[0m \u001b[32m━━━━━━━━━━━━━━━━━━━━\u001b[0m\u001b[37m\u001b[0m \u001b[1m0s\u001b[0m 6ms/step - accuracy: 0.9386 - loss: 0.1554 - val_accuracy: 0.9175 - val_loss: 0.1900\n",
            "Epoch 27/50\n",
            "\u001b[1m50/50\u001b[0m \u001b[32m━━━━━━━━━━━━━━━━━━━━\u001b[0m\u001b[37m\u001b[0m \u001b[1m1s\u001b[0m 7ms/step - accuracy: 0.9258 - loss: 0.1734 - val_accuracy: 0.9100 - val_loss: 0.1914\n",
            "Epoch 28/50\n",
            "\u001b[1m50/50\u001b[0m \u001b[32m━━━━━━━━━━━━━━━━━━━━\u001b[0m\u001b[37m\u001b[0m \u001b[1m1s\u001b[0m 6ms/step - accuracy: 0.9420 - loss: 0.1610 - val_accuracy: 0.9175 - val_loss: 0.1905\n",
            "Epoch 29/50\n",
            "\u001b[1m50/50\u001b[0m \u001b[32m━━━━━━━━━━━━━━━━━━━━\u001b[0m\u001b[37m\u001b[0m \u001b[1m0s\u001b[0m 6ms/step - accuracy: 0.9324 - loss: 0.1565 - val_accuracy: 0.9075 - val_loss: 0.1950\n",
            "Epoch 30/50\n",
            "\u001b[1m50/50\u001b[0m \u001b[32m━━━━━━━━━━━━━━━━━━━━\u001b[0m\u001b[37m\u001b[0m \u001b[1m1s\u001b[0m 6ms/step - accuracy: 0.9427 - loss: 0.1438 - val_accuracy: 0.8950 - val_loss: 0.2067\n",
            "Epoch 31/50\n",
            "\u001b[1m50/50\u001b[0m \u001b[32m━━━━━━━━━━━━━━━━━━━━\u001b[0m\u001b[37m\u001b[0m \u001b[1m0s\u001b[0m 7ms/step - accuracy: 0.9221 - loss: 0.1637 - val_accuracy: 0.9050 - val_loss: 0.1890\n",
            "Epoch 32/50\n",
            "\u001b[1m50/50\u001b[0m \u001b[32m━━━━━━━━━━━━━━━━━━━━\u001b[0m\u001b[37m\u001b[0m \u001b[1m0s\u001b[0m 5ms/step - accuracy: 0.9496 - loss: 0.1332 - val_accuracy: 0.9250 - val_loss: 0.1807\n",
            "Epoch 33/50\n",
            "\u001b[1m50/50\u001b[0m \u001b[32m━━━━━━━━━━━━━━━━━━━━\u001b[0m\u001b[37m\u001b[0m \u001b[1m0s\u001b[0m 4ms/step - accuracy: 0.9464 - loss: 0.1371 - val_accuracy: 0.9225 - val_loss: 0.1841\n",
            "Epoch 34/50\n",
            "\u001b[1m50/50\u001b[0m \u001b[32m━━━━━━━━━━━━━━━━━━━━\u001b[0m\u001b[37m\u001b[0m \u001b[1m0s\u001b[0m 4ms/step - accuracy: 0.9323 - loss: 0.1593 - val_accuracy: 0.9225 - val_loss: 0.1809\n",
            "Epoch 35/50\n",
            "\u001b[1m50/50\u001b[0m \u001b[32m━━━━━━━━━━━━━━━━━━━━\u001b[0m\u001b[37m\u001b[0m \u001b[1m0s\u001b[0m 4ms/step - accuracy: 0.9535 - loss: 0.1248 - val_accuracy: 0.9150 - val_loss: 0.1853\n",
            "Epoch 36/50\n",
            "\u001b[1m50/50\u001b[0m \u001b[32m━━━━━━━━━━━━━━━━━━━━\u001b[0m\u001b[37m\u001b[0m \u001b[1m0s\u001b[0m 4ms/step - accuracy: 0.9497 - loss: 0.1373 - val_accuracy: 0.9225 - val_loss: 0.1920\n",
            "Epoch 37/50\n",
            "\u001b[1m50/50\u001b[0m \u001b[32m━━━━━━━━━━━━━━━━━━━━\u001b[0m\u001b[37m\u001b[0m \u001b[1m0s\u001b[0m 4ms/step - accuracy: 0.9349 - loss: 0.1457 - val_accuracy: 0.9200 - val_loss: 0.2007\n",
            "Epoch 38/50\n",
            "\u001b[1m50/50\u001b[0m \u001b[32m━━━━━━━━━━━━━━━━━━━━\u001b[0m\u001b[37m\u001b[0m \u001b[1m0s\u001b[0m 4ms/step - accuracy: 0.9501 - loss: 0.1268 - val_accuracy: 0.9200 - val_loss: 0.1832\n",
            "Epoch 39/50\n",
            "\u001b[1m50/50\u001b[0m \u001b[32m━━━━━━━━━━━━━━━━━━━━\u001b[0m\u001b[37m\u001b[0m \u001b[1m0s\u001b[0m 4ms/step - accuracy: 0.9596 - loss: 0.1241 - val_accuracy: 0.9150 - val_loss: 0.1866\n",
            "Epoch 40/50\n",
            "\u001b[1m50/50\u001b[0m \u001b[32m━━━━━━━━━━━━━━━━━━━━\u001b[0m\u001b[37m\u001b[0m \u001b[1m0s\u001b[0m 4ms/step - accuracy: 0.9540 - loss: 0.1037 - val_accuracy: 0.9150 - val_loss: 0.1887\n",
            "Epoch 41/50\n",
            "\u001b[1m50/50\u001b[0m \u001b[32m━━━━━━━━━━━━━━━━━━━━\u001b[0m\u001b[37m\u001b[0m \u001b[1m0s\u001b[0m 4ms/step - accuracy: 0.9511 - loss: 0.1299 - val_accuracy: 0.9225 - val_loss: 0.2012\n",
            "Epoch 42/50\n",
            "\u001b[1m50/50\u001b[0m \u001b[32m━━━━━━━━━━━━━━━━━━━━\u001b[0m\u001b[37m\u001b[0m \u001b[1m0s\u001b[0m 4ms/step - accuracy: 0.9728 - loss: 0.0956 - val_accuracy: 0.9125 - val_loss: 0.1970\n",
            "Epoch 43/50\n",
            "\u001b[1m50/50\u001b[0m \u001b[32m━━━━━━━━━━━━━━━━━━━━\u001b[0m\u001b[37m\u001b[0m \u001b[1m0s\u001b[0m 4ms/step - accuracy: 0.9593 - loss: 0.1080 - val_accuracy: 0.9150 - val_loss: 0.1920\n",
            "Epoch 44/50\n",
            "\u001b[1m50/50\u001b[0m \u001b[32m━━━━━━━━━━━━━━━━━━━━\u001b[0m\u001b[37m\u001b[0m \u001b[1m0s\u001b[0m 4ms/step - accuracy: 0.9571 - loss: 0.1033 - val_accuracy: 0.9225 - val_loss: 0.1907\n",
            "Epoch 45/50\n",
            "\u001b[1m50/50\u001b[0m \u001b[32m━━━━━━━━━━━━━━━━━━━━\u001b[0m\u001b[37m\u001b[0m \u001b[1m0s\u001b[0m 5ms/step - accuracy: 0.9611 - loss: 0.1087 - val_accuracy: 0.9175 - val_loss: 0.2050\n",
            "Epoch 46/50\n",
            "\u001b[1m50/50\u001b[0m \u001b[32m━━━━━━━━━━━━━━━━━━━━\u001b[0m\u001b[37m\u001b[0m \u001b[1m0s\u001b[0m 4ms/step - accuracy: 0.9591 - loss: 0.1103 - val_accuracy: 0.9150 - val_loss: 0.2016\n",
            "Epoch 47/50\n",
            "\u001b[1m50/50\u001b[0m \u001b[32m━━━━━━━━━━━━━━━━━━━━\u001b[0m\u001b[37m\u001b[0m \u001b[1m0s\u001b[0m 4ms/step - accuracy: 0.9597 - loss: 0.1048 - val_accuracy: 0.9375 - val_loss: 0.1840\n",
            "Epoch 48/50\n",
            "\u001b[1m50/50\u001b[0m \u001b[32m━━━━━━━━━━━━━━━━━━━━\u001b[0m\u001b[37m\u001b[0m \u001b[1m0s\u001b[0m 4ms/step - accuracy: 0.9445 - loss: 0.1192 - val_accuracy: 0.9150 - val_loss: 0.2083\n",
            "Epoch 49/50\n",
            "\u001b[1m50/50\u001b[0m \u001b[32m━━━━━━━━━━━━━━━━━━━━\u001b[0m\u001b[37m\u001b[0m \u001b[1m0s\u001b[0m 4ms/step - accuracy: 0.9485 - loss: 0.1311 - val_accuracy: 0.9375 - val_loss: 0.1711\n",
            "Epoch 50/50\n",
            "\u001b[1m50/50\u001b[0m \u001b[32m━━━━━━━━━━━━━━━━━━━━\u001b[0m\u001b[37m\u001b[0m \u001b[1m0s\u001b[0m 4ms/step - accuracy: 0.9571 - loss: 0.0927 - val_accuracy: 0.9175 - val_loss: 0.2078\n"
          ]
        }
      ]
    },
    {
      "cell_type": "markdown",
      "source": [
        "## 4.2 Evaluate Base Model"
      ],
      "metadata": {
        "id": "Jk8h1s-Ob3UF"
      }
    },
    {
      "cell_type": "code",
      "source": [
        "# Evaluate the base model on the test dataset\n",
        "# This will return the final loss and accuracy values for the model\n",
        "loss, acc = base_model.evaluate(x_test, y_test)\n",
        "\n",
        "# Print test loss and accuracy to assess how well the model performs on unseen (test) data\n",
        "print(\"Test Loss:\", loss)\n",
        "print(\"Test Accuracy:\", acc)"
      ],
      "metadata": {
        "colab": {
          "base_uri": "https://localhost:8080/"
        },
        "id": "xsyvGN4oUouA",
        "outputId": "f05a342e-e9f4-4c25-9ce2-11105eee2913"
      },
      "execution_count": 14,
      "outputs": [
        {
          "output_type": "stream",
          "name": "stdout",
          "text": [
            "\u001b[1m13/13\u001b[0m \u001b[32m━━━━━━━━━━━━━━━━━━━━\u001b[0m\u001b[37m\u001b[0m \u001b[1m0s\u001b[0m 3ms/step - accuracy: 0.9136 - loss: 0.2178 \n",
            "Test Loss: 0.20780207216739655\n",
            "Test Accuracy: 0.9175000190734863\n"
          ]
        }
      ]
    },
    {
      "cell_type": "code",
      "source": [
        "# Predict class probabilities on the test data\n",
        "# - The model outputs probabilities for each class (e.g., [0.1, 0.7, 0.15, 0.05])\n",
        "# - Each row corresponds to one test sample's probability distribution across all classes\n",
        "y_pred_base = base_model.predict(x_test)\n",
        "\n",
        "# Displat the predicted class probabilities on the test data\n",
        "y_pred_base"
      ],
      "metadata": {
        "colab": {
          "base_uri": "https://localhost:8080/"
        },
        "id": "80TOSIkuY28F",
        "outputId": "47f269ff-f830-477c-91d9-8fcdde6cf14d"
      },
      "execution_count": 15,
      "outputs": [
        {
          "output_type": "stream",
          "name": "stdout",
          "text": [
            "\u001b[1m13/13\u001b[0m \u001b[32m━━━━━━━━━━━━━━━━━━━━\u001b[0m\u001b[37m\u001b[0m \u001b[1m0s\u001b[0m 6ms/step\n"
          ]
        },
        {
          "output_type": "execute_result",
          "data": {
            "text/plain": [
              "array([[4.4669601e-01, 5.5330402e-01, 2.3048721e-10, 4.4466974e-26],\n",
              "       [3.2876729e-10, 1.9544724e-01, 8.0455279e-01, 5.3477023e-09],\n",
              "       [4.1602649e-31, 2.0457273e-12, 3.5818695e-04, 9.9964178e-01],\n",
              "       ...,\n",
              "       [2.1063204e-14, 2.2318757e-04, 9.9828899e-01, 1.4879789e-03],\n",
              "       [8.5592270e-04, 9.9913120e-01, 1.2879045e-05, 3.6198146e-16],\n",
              "       [9.0007298e-13, 5.5261876e-04, 9.9883801e-01, 6.0938572e-04]],\n",
              "      dtype=float32)"
            ]
          },
          "metadata": {},
          "execution_count": 15
        }
      ]
    },
    {
      "cell_type": "code",
      "source": [
        "# Convert predicted probabilities to class labels\n",
        "# - np.argmax() selects the index (class) with the highest probability for each sample\n",
        "y_pred_base_classes = np.argmax(y_pred_base, axis=1)\n",
        "\n",
        "# Display the Predicted class labels\n",
        "y_pred_base_classes"
      ],
      "metadata": {
        "colab": {
          "base_uri": "https://localhost:8080/"
        },
        "id": "jZ9kCpQPZyDx",
        "outputId": "7e1e7522-94ea-4d3f-a8c6-89c57f38c703"
      },
      "execution_count": 16,
      "outputs": [
        {
          "output_type": "execute_result",
          "data": {
            "text/plain": [
              "array([1, 2, 3, 1, 0, 1, 2, 3, 2, 3, 0, 3, 3, 2, 0, 0, 1, 3, 2, 0, 2, 3,\n",
              "       0, 1, 0, 2, 2, 3, 1, 2, 3, 1, 3, 1, 1, 0, 3, 0, 2, 3, 1, 3, 3, 1,\n",
              "       0, 3, 1, 0, 1, 2, 3, 0, 3, 1, 3, 0, 0, 3, 1, 2, 2, 1, 0, 2, 3, 2,\n",
              "       3, 2, 0, 0, 0, 1, 2, 2, 1, 3, 1, 1, 2, 0, 0, 1, 1, 3, 3, 2, 3, 3,\n",
              "       3, 3, 3, 1, 1, 0, 3, 0, 3, 3, 1, 1, 1, 2, 1, 2, 0, 0, 2, 1, 2, 2,\n",
              "       3, 1, 0, 2, 0, 1, 1, 1, 1, 2, 1, 3, 1, 3, 0, 0, 1, 3, 1, 1, 0, 3,\n",
              "       3, 2, 1, 2, 2, 0, 1, 0, 0, 0, 1, 2, 0, 1, 2, 2, 3, 2, 0, 3, 2, 2,\n",
              "       0, 0, 0, 0, 3, 1, 1, 2, 3, 0, 2, 3, 0, 1, 0, 2, 2, 2, 2, 0, 0, 2,\n",
              "       2, 0, 3, 0, 1, 2, 1, 0, 3, 1, 3, 2, 3, 2, 3, 1, 2, 1, 1, 3, 1, 0,\n",
              "       2, 2, 2, 1, 2, 1, 3, 3, 0, 2, 2, 1, 3, 0, 1, 3, 3, 0, 2, 1, 0, 0,\n",
              "       3, 0, 1, 1, 1, 2, 1, 1, 2, 2, 3, 1, 3, 3, 3, 3, 3, 1, 1, 1, 1, 0,\n",
              "       3, 2, 0, 1, 0, 0, 0, 1, 2, 3, 0, 0, 2, 0, 0, 1, 1, 0, 1, 1, 1, 2,\n",
              "       3, 3, 0, 2, 1, 0, 0, 3, 3, 3, 2, 0, 1, 1, 1, 2, 0, 1, 1, 2, 2, 3,\n",
              "       2, 2, 2, 0, 2, 3, 0, 2, 2, 2, 3, 2, 2, 2, 2, 0, 3, 1, 1, 0, 2, 1,\n",
              "       2, 1, 3, 3, 1, 0, 0, 1, 0, 2, 3, 1, 3, 1, 0, 0, 3, 3, 0, 2, 3, 2,\n",
              "       2, 3, 3, 3, 3, 3, 0, 2, 1, 3, 1, 1, 0, 1, 0, 2, 1, 2, 2, 1, 1, 3,\n",
              "       1, 1, 2, 3, 3, 2, 1, 2, 0, 2, 2, 3, 1, 0, 0, 2, 1, 2, 2, 3, 2, 0,\n",
              "       2, 3, 3, 3, 0, 2, 2, 1, 3, 0, 3, 0, 1, 0, 1, 1, 3, 2, 2, 2, 2, 2,\n",
              "       1, 2, 1, 2])"
            ]
          },
          "metadata": {},
          "execution_count": 16
        }
      ]
    },
    {
      "cell_type": "code",
      "source": [
        "# Convert one-hot encoded true labels (e.g., [0, 0, 1, 0]) to class indices (e.g., 2)\n",
        "# This makes it possible to compare true labels with predicted labels\n",
        "y_true_classes = np.argmax(y_test, axis=1)\n",
        "\n",
        "# Display the true class labels\n",
        "# - Used to evaluate model accuracy and performance\n",
        "y_true_classes"
      ],
      "metadata": {
        "colab": {
          "base_uri": "https://localhost:8080/"
        },
        "id": "6plhtiQZZ8a7",
        "outputId": "82dcc820-db93-454b-8e5f-93a54b3a27cd"
      },
      "execution_count": 17,
      "outputs": [
        {
          "output_type": "execute_result",
          "data": {
            "text/plain": [
              "array([0, 2, 3, 1, 0, 1, 3, 3, 2, 3, 0, 3, 3, 2, 0, 0, 1, 3, 2, 0, 2, 3,\n",
              "       0, 1, 1, 2, 2, 3, 1, 2, 2, 1, 3, 1, 1, 0, 3, 0, 2, 3, 1, 3, 3, 1,\n",
              "       0, 3, 0, 0, 1, 2, 3, 0, 3, 1, 3, 0, 0, 3, 1, 2, 2, 1, 0, 2, 3, 2,\n",
              "       3, 2, 0, 0, 0, 1, 2, 2, 1, 3, 0, 0, 2, 0, 0, 1, 1, 3, 3, 2, 3, 3,\n",
              "       3, 3, 3, 1, 1, 0, 3, 0, 3, 3, 1, 1, 0, 2, 2, 3, 0, 0, 2, 1, 2, 2,\n",
              "       3, 1, 0, 2, 0, 1, 1, 1, 1, 1, 1, 3, 0, 3, 0, 0, 1, 3, 1, 0, 0, 3,\n",
              "       3, 2, 0, 2, 2, 0, 1, 0, 0, 0, 1, 2, 0, 1, 2, 2, 3, 2, 0, 3, 2, 2,\n",
              "       0, 0, 0, 0, 3, 1, 1, 2, 3, 0, 2, 2, 0, 1, 0, 3, 2, 2, 2, 0, 1, 2,\n",
              "       2, 0, 3, 0, 1, 1, 1, 0, 3, 1, 3, 2, 2, 2, 3, 1, 2, 1, 0, 3, 1, 0,\n",
              "       2, 2, 2, 1, 2, 1, 3, 3, 0, 2, 2, 1, 3, 0, 1, 3, 3, 0, 2, 1, 0, 0,\n",
              "       3, 0, 1, 1, 1, 2, 1, 1, 2, 2, 3, 1, 3, 3, 3, 3, 3, 1, 1, 1, 1, 0,\n",
              "       3, 2, 0, 1, 0, 0, 0, 1, 2, 3, 0, 0, 2, 0, 1, 1, 1, 1, 1, 1, 1, 2,\n",
              "       3, 3, 0, 2, 1, 0, 0, 3, 3, 3, 2, 0, 1, 1, 0, 2, 0, 1, 1, 2, 2, 3,\n",
              "       2, 2, 2, 0, 2, 3, 0, 2, 2, 2, 3, 2, 2, 2, 2, 0, 3, 1, 1, 0, 3, 1,\n",
              "       2, 1, 3, 3, 1, 0, 0, 1, 0, 2, 3, 1, 3, 1, 0, 0, 3, 3, 0, 2, 3, 2,\n",
              "       2, 3, 3, 3, 3, 3, 0, 2, 0, 3, 1, 1, 0, 1, 0, 3, 1, 2, 1, 0, 0, 3,\n",
              "       1, 1, 2, 3, 3, 2, 1, 1, 0, 2, 2, 3, 0, 0, 0, 2, 1, 2, 2, 3, 3, 0,\n",
              "       2, 3, 3, 3, 0, 2, 2, 1, 3, 0, 3, 0, 1, 0, 1, 1, 3, 2, 2, 2, 3, 2,\n",
              "       1, 2, 1, 2])"
            ]
          },
          "metadata": {},
          "execution_count": 17
        }
      ]
    },
    {
      "cell_type": "code",
      "source": [
        "# Import accuracy_score and classification_report from sklearn for evaluation\n",
        "from sklearn.metrics import accuracy_score, classification_report\n",
        "\n",
        "# Calculate and print the test accuracy of the base model\n",
        "print(\"\\nBase Model Test Accuracy:\", accuracy_score(y_true_classes, y_pred_base_classes))\n",
        "\n",
        "# Print detailed classification report including precision, recall, and F1-score\n",
        "print(\"\\nClassification Report (Base Model):\\n\", classification_report(y_true_classes, y_pred_base_classes))"
      ],
      "metadata": {
        "colab": {
          "base_uri": "https://localhost:8080/"
        },
        "id": "OR0NcLjYaElj",
        "outputId": "83cea9ed-f468-440e-a17b-b3415841786d"
      },
      "execution_count": 18,
      "outputs": [
        {
          "output_type": "stream",
          "name": "stdout",
          "text": [
            "\n",
            "Base Model Test Accuracy: 0.9175\n",
            "\n",
            "Classification Report (Base Model):\n",
            "               precision    recall  f1-score   support\n",
            "\n",
            "           0       0.96      0.86      0.91       100\n",
            "           1       0.86      0.92      0.89       100\n",
            "           2       0.90      0.96      0.93       100\n",
            "           3       0.97      0.93      0.95       100\n",
            "\n",
            "    accuracy                           0.92       400\n",
            "   macro avg       0.92      0.92      0.92       400\n",
            "weighted avg       0.92      0.92      0.92       400\n",
            "\n"
          ]
        }
      ]
    },
    {
      "cell_type": "markdown",
      "source": [
        "## 4.3 Base Model Performance Graphs"
      ],
      "metadata": {
        "id": "GX6YBT1rdOZs"
      }
    },
    {
      "cell_type": "code",
      "source": [
        "# Create a figure of size (10, 6)\n",
        "plt.figure(figsize=(10, 6))\n",
        "\n",
        "# Plot Accuracy\n",
        "# Plot validation accuracy (dotted line)\n",
        "plt.plot(history_base.history['val_accuracy'], label='Val Accuracy', color='blue', linestyle='-')\n",
        "\n",
        "\n",
        "# Plot Loss\n",
        "# Plot validation loss (dotted line)\n",
        "plt.plot(history_base.history['val_loss'], label='Val Loss', color='red', linestyle='--')\n",
        "\n",
        "#  Add Titles and Labels\n",
        "\n",
        "plt.title(\"Base Model: Validation Accuracy & Loss\")  # Main title\n",
        "plt.xlabel(\"Epochs\")                                            # X-axis label\n",
        "plt.ylabel(\"Value (Accuracy / Loss)\")                           # Y-axis label\n",
        "\n",
        "# Show legend to identify each curve\n",
        "plt.legend()\n",
        "\n",
        "# Add grid for clarity\n",
        "plt.grid(True)\n",
        "\n",
        "# Display the graph\n",
        "plt.show()\n"
      ],
      "metadata": {
        "colab": {
          "base_uri": "https://localhost:8080/",
          "height": 411
        },
        "id": "JTsWOmbydLzi",
        "outputId": "1bd7d37d-496b-41e5-fa23-f825e2219f02"
      },
      "execution_count": 33,
      "outputs": [
        {
          "output_type": "display_data",
          "data": {
            "text/plain": [
              "<Figure size 1000x600 with 1 Axes>"
            ],
            "image/png": "[encoded data removed]"
          },
          "metadata": {}
        }
      ]
    },
    {
      "cell_type": "markdown",
      "source": [
        "**Insights:-**\n",
        "\n",
        "The graph represents the validation accuracy and loss for the base artificial neural network model over 50 epochs. From the plot, it can be observed that the validation accuracy (blue curve) steadily increases during the initial epochs and stabilizes around 0.9 (or 90%), indicating that the model learns the underlying patterns effectively. Meanwhile, the validation loss (red dashed curve) shows a sharp decline during the early epochs, dropping from above 1.2 to below 0.2, and then flattens out. This behavior shows the model successfully minimizes the error between predicted and actual values. The point of stabilization for both metrics suggests that the model achieves good generalization after approximately 10 epochs. However, since there is no significant improvement after this stage, further training could lead to overfitting. Overall, the base model performs well, but fine-tuning the parameters might yield even better accuracy and faster convergence."
      ],
      "metadata": {
        "id": "aNU-eDgUgA1N"
      }
    },
    {
      "cell_type": "markdown",
      "source": [
        "# 5. Hyperparameter Tuning with Keras Tuner"
      ],
      "metadata": {
        "id": "8tutsMPKcUm8"
      }
    },
    {
      "cell_type": "markdown",
      "source": [
        "## 5.1 Hyperparameter Tuned ANN Model"
      ],
      "metadata": {
        "id": "pOSlRV2llCDd"
      }
    },
    {
      "cell_type": "code",
      "source": [
        "# Create a HyperParameters object to store tunable parameter values\n",
        "hp = HyperParameters()\n",
        "\n",
        "# Define a tunable integer hyperparameter for number of layers (1 to 4)\n",
        "num_layers = hp.Int('num_layers', 1, 4)\n",
        "\n",
        "# Define a tunable choice hyperparameter for number of neurons in each layer\n",
        "units = hp.Choice('units', [32, 64, 128, 256])\n",
        "\n",
        "# Define a tunable choice hyperparameter for activation function\n",
        "activation = hp.Choice('activation', ['relu', 'tanh'])\n",
        "\n",
        "# Display the current hyperparameter settings\n",
        "print(\"Current Hyperparameters:\")\n",
        "print(hp.values)"
      ],
      "metadata": {
        "colab": {
          "base_uri": "https://localhost:8080/"
        },
        "id": "aj_7T3M0dFoF",
        "outputId": "9a165a93-6d76-4243-b3ac-4da16f393731"
      },
      "execution_count": 19,
      "outputs": [
        {
          "output_type": "stream",
          "name": "stdout",
          "text": [
            "Current Hyperparameters:\n",
            "{'num_layers': 1, 'units': 32, 'activation': 'relu'}\n"
          ]
        }
      ]
    },
    {
      "cell_type": "code",
      "source": [
        "# Define a function to build a neural network with hyperparameter tuning\n",
        "def build_model(hp):\n",
        "    model = Sequential()  # Initialize a Sequential model\n",
        "\n",
        "    # Define number of hidden layers to be tuned (1 to 4)\n",
        "    num_layers = hp.Int('num_layers', 1, 4)\n",
        "\n",
        "    # Add hidden layers dynamically based on tuner choice\n",
        "    for i in range(num_layers):\n",
        "        model.add(Dense(\n",
        "            units=hp.Choice(f'units_{i}', [32, 64, 128, 256]),     # Tune number of neurons\n",
        "            activation=hp.Choice(f'activation_{i}', ['relu', 'tanh']),  # Tune activation function\n",
        "            input_shape=(x_train.shape[1],) if i == 0 else None    # Set input shape for first layer\n",
        "        ))\n",
        "        # Add optional dropout to prevent overfitting\n",
        "        model.add(Dropout(rate=hp.Choice('dropout', [0.0, 0.2, 0.3])))\n",
        "\n",
        "    # Add output layer with 4 neurons (for 4 classes) using softmax activation\n",
        "    model.add(Dense(4, activation='softmax'))\n",
        "\n",
        "    # Choose optimizer type to be tuned\n",
        "    optimizer = hp.Choice('optimizer', ['adam', 'sgd', 'rmsprop'])\n",
        "\n",
        "    # Set learning rate based on optimizer choice\n",
        "    if optimizer == 'adam':\n",
        "        opt = tf.keras.optimizers.Adam(learning_rate=hp.Choice('lr', [0.01, 0.001, 0.0001]))\n",
        "    elif optimizer == 'sgd':\n",
        "        opt = tf.keras.optimizers.SGD(learning_rate=hp.Choice('lr', [0.01, 0.001, 0.0001]))\n",
        "    else:\n",
        "        opt = tf.keras.optimizers.RMSprop(learning_rate=hp.Choice('lr', [0.01, 0.001, 0.0001]))\n",
        "\n",
        "    # Compile the model with categorical crossentropy loss and accuracy metric\n",
        "    model.compile(optimizer=opt, loss='categorical_crossentropy', metrics=['accuracy'])\n",
        "\n",
        "    # Return the built and compiled model for tuning\n",
        "    return model"
      ],
      "metadata": {
        "id": "uq6yKSC8cMkw"
      },
      "execution_count": 20,
      "outputs": []
    },
    {
      "cell_type": "code",
      "source": [
        "# Initialize a RandomSearch tuner for hyperparameter optimization\n",
        "# - Uses the build_model function to create models with different hyperparameters\n",
        "tuner = RandomSearch(\n",
        "    build_model,                        # Model building function\n",
        "    objective='val_accuracy',            # Metric to optimize (validation accuracy)\n",
        "    max_trials=10,                       # Maximum number of hyperparameter combinations to try\n",
        "    directory='tuner_results',           # Directory to save tuner results\n",
        "    project_name='mobile_price_classification_prediction'  # Name for the tuning project\n",
        ")\n",
        "\n",
        "# Run the hyperparameter search on training data\n",
        "# - Evaluates different hyperparameter combinations and selects the best\n",
        "# - epochs can be reduced for faster testing during development\n",
        "tuner.search(\n",
        "    x_train, y_train,                    # Training data and labels\n",
        "    validation_data=(x_test, y_test),    # Validation data for evaluation during tuning\n",
        "    epochs=50,                            # Number of epochs for each trial\n",
        "    batch_size=32,                        # Batch size for training\n",
        "    verbose=1                             # Display training progress\n",
        ")\n",
        "\n",
        "# Retrieve the best model found by the tuner\n",
        "best_model = tuner.get_best_models(num_models=1)[0]\n",
        "\n",
        "# Retrieve the hyperparameters of the best model\n",
        "best_hp = tuner.get_best_hyperparameters(num_trials=1)[0]\n",
        "\n",
        "# Display the best hyperparameters chosen by the tuner\n",
        "print(\"\\nBest Hyperparameters:\")\n",
        "print(best_hp.values)"
      ],
      "metadata": {
        "colab": {
          "base_uri": "https://localhost:8080/"
        },
        "id": "aOLD1RLkdlHY",
        "outputId": "d186d008-14c7-4538-e09c-2380a1e0d676"
      },
      "execution_count": 22,
      "outputs": [
        {
          "output_type": "stream",
          "name": "stdout",
          "text": [
            "Trial 10 Complete [00h 00m 15s]\n",
            "val_accuracy: 0.8774999976158142\n",
            "\n",
            "Best val_accuracy So Far: 0.9574999809265137\n",
            "Total elapsed time: 00h 02m 35s\n",
            "\n",
            "Best Hyperparameters:\n",
            "{'num_layers': 1, 'units_0': 64, 'activation_0': 'tanh', 'dropout': 0.3, 'optimizer': 'rmsprop', 'lr': 0.01, 'units_1': 64, 'activation_1': 'relu', 'units_2': 256, 'activation_2': 'tanh', 'units_3': 256, 'activation_3': 'tanh'}\n"
          ]
        },
        {
          "output_type": "stream",
          "name": "stderr",
          "text": [
            "/usr/local/lib/python3.12/dist-packages/keras/src/saving/saving_lib.py:802: UserWarning: Skipping variable loading for optimizer 'rmsprop', because it has 2 variables whereas the saved optimizer has 6 variables. \n",
            "  saveable.load_own_variables(weights_store.get(inner_path))\n"
          ]
        }
      ]
    },
    {
      "cell_type": "markdown",
      "source": [
        "## 5.2. Train Best Model on Full Training data"
      ],
      "metadata": {
        "id": "ixN3uuMofWhq"
      }
    },
    {
      "cell_type": "code",
      "source": [
        "from tensorflow.keras.callbacks import EarlyStopping, ModelCheckpoint, ReduceLROnPlateau\n",
        "\n",
        "# EarlyStopping: Stop training when validation loss stops improving\n",
        "early_stop = EarlyStopping(\n",
        "    monitor='val_loss',          # Monitor validation loss\n",
        "    patience=5,                  # Stop after 5 epochs with no improvement\n",
        "    restore_best_weights=True    # Restore model weights from the best epoch\n",
        ")\n",
        "\n",
        "# ModelCheckpoint: Save the model with the best validation accuracy\n",
        "checkpoint = ModelCheckpoint(\n",
        "    'best_model.keras',             # File to save the best model\n",
        "    monitor='val_accuracy',      # Monitor validation accuracy\n",
        "    save_best_only=True,         # Save only if val_accuracy improves\n",
        "    mode='max',                  # Maximize the monitored metric\n",
        "    verbose=1\n",
        ")\n",
        "\n",
        "# ReduceLROnPlateau: Reduce learning rate if validation loss plateaus\n",
        "lr_scheduler = ReduceLROnPlateau(\n",
        "    monitor='val_loss',          # Monitor validation loss\n",
        "    factor=0.5,                  # Reduce learning rate by 50%\n",
        "    patience=3,                  # Wait 3 epochs before reducing LR\n",
        "    min_lr=1e-6,                 # Minimum learning rate\n",
        "    verbose=1\n",
        ")"
      ],
      "metadata": {
        "id": "NIc-ew7Ii9zR"
      },
      "execution_count": 23,
      "outputs": []
    },
    {
      "cell_type": "code",
      "source": [
        "# Train the model with all callbacks applied\n",
        "history_best = best_model.fit(\n",
        "    x_train, y_train,                     # Training features and labels\n",
        "    validation_data=(x_test, y_test),     # Validation data\n",
        "    epochs=50,                             # Maximum number of epochs\n",
        "    batch_size=32,                         # Number of samples per gradient update\n",
        "    verbose=1,                             # Show training progress\n",
        "    callbacks=[early_stop, checkpoint, lr_scheduler]  # Apply EarlyStopping, ModelCheckpoint, and LR scheduler\n",
        ")"
      ],
      "metadata": {
        "colab": {
          "base_uri": "https://localhost:8080/"
        },
        "id": "El9foGVpeaSU",
        "outputId": "b703e45d-5b16-422b-b3c0-d652f858d280"
      },
      "execution_count": 24,
      "outputs": [
        {
          "output_type": "stream",
          "name": "stdout",
          "text": [
            "Epoch 1/50\n",
            "\u001b[1m26/50\u001b[0m \u001b[32m━━━━━━━━━━\u001b[0m\u001b[37m━━━━━━━━━━\u001b[0m \u001b[1m0s\u001b[0m 2ms/step - accuracy: 0.9251 - loss: 0.1697   \n",
            "Epoch 1: val_accuracy improved from -inf to 0.93250, saving model to best_model.keras\n",
            "\u001b[1m50/50\u001b[0m \u001b[32m━━━━━━━━━━━━━━━━━━━━\u001b[0m\u001b[37m\u001b[0m \u001b[1m1s\u001b[0m 9ms/step - accuracy: 0.9276 - loss: 0.1646 - val_accuracy: 0.9325 - val_loss: 0.1568 - learning_rate: 0.0100\n",
            "Epoch 2/50\n",
            "\u001b[1m27/50\u001b[0m \u001b[32m━━━━━━━━━━\u001b[0m\u001b[37m━━━━━━━━━━\u001b[0m \u001b[1m0s\u001b[0m 2ms/step - accuracy: 0.9729 - loss: 0.0858 \n",
            "Epoch 2: val_accuracy improved from 0.93250 to 0.94250, saving model to best_model.keras\n",
            "\u001b[1m50/50\u001b[0m \u001b[32m━━━━━━━━━━━━━━━━━━━━\u001b[0m\u001b[37m\u001b[0m \u001b[1m0s\u001b[0m 4ms/step - accuracy: 0.9660 - loss: 0.0992 - val_accuracy: 0.9425 - val_loss: 0.1385 - learning_rate: 0.0100\n",
            "Epoch 3/50\n",
            "\u001b[1m30/50\u001b[0m \u001b[32m━━━━━━━━━━━━\u001b[0m\u001b[37m━━━━━━━━\u001b[0m \u001b[1m0s\u001b[0m 2ms/step - accuracy: 0.9522 - loss: 0.1158 \n",
            "Epoch 3: val_accuracy improved from 0.94250 to 0.94750, saving model to best_model.keras\n",
            "\u001b[1m50/50\u001b[0m \u001b[32m━━━━━━━━━━━━━━━━━━━━\u001b[0m\u001b[37m\u001b[0m \u001b[1m0s\u001b[0m 4ms/step - accuracy: 0.9499 - loss: 0.1238 - val_accuracy: 0.9475 - val_loss: 0.1228 - learning_rate: 0.0100\n",
            "Epoch 4/50\n",
            "\u001b[1m50/50\u001b[0m \u001b[32m━━━━━━━━━━━━━━━━━━━━\u001b[0m\u001b[37m\u001b[0m \u001b[1m0s\u001b[0m 3ms/step - accuracy: 0.9630 - loss: 0.1020\n",
            "Epoch 4: val_accuracy did not improve from 0.94750\n",
            "\u001b[1m50/50\u001b[0m \u001b[32m━━━━━━━━━━━━━━━━━━━━\u001b[0m\u001b[37m\u001b[0m \u001b[1m0s\u001b[0m 6ms/step - accuracy: 0.9629 - loss: 0.1021 - val_accuracy: 0.9450 - val_loss: 0.1376 - learning_rate: 0.0100\n",
            "Epoch 5/50\n",
            "\u001b[1m36/50\u001b[0m \u001b[32m━━━━━━━━━━━━━━\u001b[0m\u001b[37m━━━━━━\u001b[0m \u001b[1m0s\u001b[0m 3ms/step - accuracy: 0.9553 - loss: 0.1204\n",
            "Epoch 5: val_accuracy improved from 0.94750 to 0.95750, saving model to best_model.keras\n",
            "\u001b[1m50/50\u001b[0m \u001b[32m━━━━━━━━━━━━━━━━━━━━\u001b[0m\u001b[37m\u001b[0m \u001b[1m1s\u001b[0m 6ms/step - accuracy: 0.9551 - loss: 0.1201 - val_accuracy: 0.9575 - val_loss: 0.1183 - learning_rate: 0.0100\n",
            "Epoch 6/50\n",
            "\u001b[1m32/50\u001b[0m \u001b[32m━━━━━━━━━━━━\u001b[0m\u001b[37m━━━━━━━━\u001b[0m \u001b[1m0s\u001b[0m 3ms/step - accuracy: 0.9485 - loss: 0.1210\n",
            "Epoch 6: val_accuracy did not improve from 0.95750\n",
            "\u001b[1m50/50\u001b[0m \u001b[32m━━━━━━━━━━━━━━━━━━━━\u001b[0m\u001b[37m\u001b[0m \u001b[1m1s\u001b[0m 6ms/step - accuracy: 0.9480 - loss: 0.1240 - val_accuracy: 0.9550 - val_loss: 0.1234 - learning_rate: 0.0100\n",
            "Epoch 7/50\n",
            "\u001b[1m35/50\u001b[0m \u001b[32m━━━━━━━━━━━━━━\u001b[0m\u001b[37m━━━━━━\u001b[0m \u001b[1m0s\u001b[0m 3ms/step - accuracy: 0.9463 - loss: 0.1342\n",
            "Epoch 7: val_accuracy did not improve from 0.95750\n",
            "\u001b[1m50/50\u001b[0m \u001b[32m━━━━━━━━━━━━━━━━━━━━\u001b[0m\u001b[37m\u001b[0m \u001b[1m0s\u001b[0m 6ms/step - accuracy: 0.9466 - loss: 0.1309 - val_accuracy: 0.9275 - val_loss: 0.1354 - learning_rate: 0.0100\n",
            "Epoch 8/50\n",
            "\u001b[1m36/50\u001b[0m \u001b[32m━━━━━━━━━━━━━━\u001b[0m\u001b[37m━━━━━━\u001b[0m \u001b[1m0s\u001b[0m 3ms/step - accuracy: 0.9466 - loss: 0.1181\n",
            "Epoch 8: val_accuracy did not improve from 0.95750\n",
            "\n",
            "Epoch 8: ReduceLROnPlateau reducing learning rate to 0.004999999888241291.\n",
            "\u001b[1m50/50\u001b[0m \u001b[32m━━━━━━━━━━━━━━━━━━━━\u001b[0m\u001b[37m\u001b[0m \u001b[1m0s\u001b[0m 6ms/step - accuracy: 0.9477 - loss: 0.1164 - val_accuracy: 0.9400 - val_loss: 0.1613 - learning_rate: 0.0100\n",
            "Epoch 9/50\n",
            "\u001b[1m44/50\u001b[0m \u001b[32m━━━━━━━━━━━━━━━━━\u001b[0m\u001b[37m━━━\u001b[0m \u001b[1m0s\u001b[0m 4ms/step - accuracy: 0.9744 - loss: 0.0709\n",
            "Epoch 9: val_accuracy improved from 0.95750 to 0.96000, saving model to best_model.keras\n",
            "\u001b[1m50/50\u001b[0m \u001b[32m━━━━━━━━━━━━━━━━━━━━\u001b[0m\u001b[37m\u001b[0m \u001b[1m1s\u001b[0m 7ms/step - accuracy: 0.9736 - loss: 0.0722 - val_accuracy: 0.9600 - val_loss: 0.1045 - learning_rate: 0.0050\n",
            "Epoch 10/50\n",
            "\u001b[1m30/50\u001b[0m \u001b[32m━━━━━━━━━━━━\u001b[0m\u001b[37m━━━━━━━━\u001b[0m \u001b[1m0s\u001b[0m 2ms/step - accuracy: 0.9595 - loss: 0.0976   \n",
            "Epoch 10: val_accuracy did not improve from 0.96000\n",
            "\u001b[1m50/50\u001b[0m \u001b[32m━━━━━━━━━━━━━━━━━━━━\u001b[0m\u001b[37m\u001b[0m \u001b[1m0s\u001b[0m 3ms/step - accuracy: 0.9650 - loss: 0.0880 - val_accuracy: 0.9550 - val_loss: 0.1044 - learning_rate: 0.0050\n",
            "Epoch 11/50\n",
            "\u001b[1m30/50\u001b[0m \u001b[32m━━━━━━━━━━━━\u001b[0m\u001b[37m━━━━━━━━\u001b[0m \u001b[1m0s\u001b[0m 2ms/step - accuracy: 0.9843 - loss: 0.0628 \n",
            "Epoch 11: val_accuracy improved from 0.96000 to 0.96500, saving model to best_model.keras\n",
            "\u001b[1m50/50\u001b[0m \u001b[32m━━━━━━━━━━━━━━━━━━━━\u001b[0m\u001b[37m\u001b[0m \u001b[1m0s\u001b[0m 4ms/step - accuracy: 0.9824 - loss: 0.0627 - val_accuracy: 0.9650 - val_loss: 0.1060 - learning_rate: 0.0050\n",
            "Epoch 12/50\n",
            "\u001b[1m30/50\u001b[0m \u001b[32m━━━━━━━━━━━━\u001b[0m\u001b[37m━━━━━━━━\u001b[0m \u001b[1m0s\u001b[0m 2ms/step - accuracy: 0.9709 - loss: 0.0582 \n",
            "Epoch 12: val_accuracy did not improve from 0.96500\n",
            "\u001b[1m50/50\u001b[0m \u001b[32m━━━━━━━━━━━━━━━━━━━━\u001b[0m\u001b[37m\u001b[0m \u001b[1m0s\u001b[0m 4ms/step - accuracy: 0.9704 - loss: 0.0618 - val_accuracy: 0.9475 - val_loss: 0.1158 - learning_rate: 0.0050\n",
            "Epoch 13/50\n",
            "\u001b[1m29/50\u001b[0m \u001b[32m━━━━━━━━━━━\u001b[0m\u001b[37m━━━━━━━━━\u001b[0m \u001b[1m0s\u001b[0m 2ms/step - accuracy: 0.9660 - loss: 0.0747 \n",
            "Epoch 13: val_accuracy did not improve from 0.96500\n",
            "\n",
            "Epoch 13: ReduceLROnPlateau reducing learning rate to 0.0024999999441206455.\n",
            "\u001b[1m50/50\u001b[0m \u001b[32m━━━━━━━━━━━━━━━━━━━━\u001b[0m\u001b[37m\u001b[0m \u001b[1m0s\u001b[0m 3ms/step - accuracy: 0.9680 - loss: 0.0733 - val_accuracy: 0.9600 - val_loss: 0.1050 - learning_rate: 0.0050\n",
            "Epoch 14/50\n",
            "\u001b[1m28/50\u001b[0m \u001b[32m━━━━━━━━━━━\u001b[0m\u001b[37m━━━━━━━━━\u001b[0m \u001b[1m0s\u001b[0m 2ms/step - accuracy: 0.9883 - loss: 0.0505 \n",
            "Epoch 14: val_accuracy did not improve from 0.96500\n",
            "\u001b[1m50/50\u001b[0m \u001b[32m━━━━━━━━━━━━━━━━━━━━\u001b[0m\u001b[37m\u001b[0m \u001b[1m0s\u001b[0m 4ms/step - accuracy: 0.9853 - loss: 0.0533 - val_accuracy: 0.9625 - val_loss: 0.1063 - learning_rate: 0.0025\n",
            "Epoch 15/50\n",
            "\u001b[1m28/50\u001b[0m \u001b[32m━━━━━━━━━━━\u001b[0m\u001b[37m━━━━━━━━━\u001b[0m \u001b[1m0s\u001b[0m 2ms/step - accuracy: 0.9727 - loss: 0.0611 \n",
            "Epoch 15: val_accuracy did not improve from 0.96500\n",
            "\u001b[1m50/50\u001b[0m \u001b[32m━━━━━━━━━━━━━━━━━━━━\u001b[0m\u001b[37m\u001b[0m \u001b[1m0s\u001b[0m 4ms/step - accuracy: 0.9730 - loss: 0.0634 - val_accuracy: 0.9600 - val_loss: 0.1070 - learning_rate: 0.0025\n"
          ]
        }
      ]
    },
    {
      "cell_type": "code",
      "source": [
        "# Load the best saved model\n",
        "best_model = tf.keras.models.load_model('best_model.keras')"
      ],
      "metadata": {
        "id": "7urYhVh0f9kV"
      },
      "execution_count": 25,
      "outputs": []
    },
    {
      "cell_type": "markdown",
      "source": [
        "## 5.3 Evaluate the Best Model"
      ],
      "metadata": {
        "id": "2BKeF6fklKKq"
      }
    },
    {
      "cell_type": "code",
      "source": [
        "# Predict class probabilities on the test data using the best saved model\n",
        "y_pred = best_model.predict(x_test)  # y_pred will have probabilities for each class\n",
        "\n",
        "# Display predicted probabilities\n",
        "y_pred  # Shows the model's confidence for each class for each test sample"
      ],
      "metadata": {
        "colab": {
          "base_uri": "https://localhost:8080/"
        },
        "id": "ylYRe-mpkb0F",
        "outputId": "29b99dee-6bfe-4aef-94b8-bbff0b9bc513"
      },
      "execution_count": 26,
      "outputs": [
        {
          "output_type": "stream",
          "name": "stdout",
          "text": [
            "\u001b[1m13/13\u001b[0m \u001b[32m━━━━━━━━━━━━━━━━━━━━\u001b[0m\u001b[37m\u001b[0m \u001b[1m0s\u001b[0m 5ms/step \n"
          ]
        },
        {
          "output_type": "execute_result",
          "data": {
            "text/plain": [
              "array([[9.1852862e-01, 8.1471354e-02, 1.2303383e-10, 2.8119892e-21],\n",
              "       [6.5669520e-10, 3.0130029e-01, 6.9869965e-01, 2.0523692e-09],\n",
              "       [1.8836026e-30, 4.6891311e-20, 4.6952970e-09, 9.9999994e-01],\n",
              "       ...,\n",
              "       [2.2913088e-16, 3.8239787e-06, 9.9987721e-01, 1.1899420e-04],\n",
              "       [6.4723141e-04, 9.9934703e-01, 5.7553270e-06, 2.1357680e-15],\n",
              "       [1.5984312e-16, 2.7841995e-06, 9.9993366e-01, 6.3494095e-05]],\n",
              "      dtype=float32)"
            ]
          },
          "metadata": {},
          "execution_count": 26
        }
      ]
    },
    {
      "cell_type": "code",
      "source": [
        "# Convert predicted probabilities to discrete class labels\n",
        "y_pred_classes = np.argmax(y_pred, axis=1)  # Picks the class with highest probability for each sample\n",
        "\n",
        "# Display predicted class labels\n",
        "y_pred_classes  # Shows the predicted class index for each test sample"
      ],
      "metadata": {
        "colab": {
          "base_uri": "https://localhost:8080/"
        },
        "id": "tee0lXhPmfdK",
        "outputId": "703253dd-6e49-4a73-c2e5-69ed161cd2ce"
      },
      "execution_count": 27,
      "outputs": [
        {
          "output_type": "execute_result",
          "data": {
            "text/plain": [
              "array([0, 2, 3, 1, 0, 1, 3, 3, 2, 3, 0, 3, 3, 2, 0, 0, 1, 3, 2, 0, 2, 3,\n",
              "       0, 0, 0, 2, 2, 3, 1, 2, 2, 1, 3, 1, 1, 0, 3, 0, 2, 3, 1, 3, 3, 1,\n",
              "       0, 3, 0, 0, 1, 2, 3, 0, 3, 1, 3, 0, 0, 3, 1, 2, 2, 1, 0, 2, 3, 2,\n",
              "       3, 2, 0, 0, 0, 1, 2, 2, 1, 3, 0, 0, 2, 0, 0, 1, 1, 3, 3, 2, 3, 3,\n",
              "       3, 3, 3, 1, 1, 0, 3, 0, 3, 3, 1, 1, 1, 2, 1, 3, 0, 0, 2, 1, 2, 2,\n",
              "       3, 1, 0, 2, 0, 1, 1, 0, 1, 2, 1, 3, 0, 3, 0, 0, 1, 3, 0, 0, 0, 3,\n",
              "       3, 2, 0, 2, 2, 0, 1, 0, 0, 0, 1, 2, 0, 1, 2, 2, 3, 2, 0, 3, 2, 2,\n",
              "       0, 0, 0, 0, 3, 1, 1, 2, 3, 0, 2, 3, 0, 1, 0, 3, 2, 2, 2, 0, 0, 2,\n",
              "       2, 0, 3, 0, 1, 1, 1, 0, 3, 1, 3, 2, 2, 2, 3, 1, 3, 1, 0, 3, 1, 0,\n",
              "       2, 2, 2, 1, 2, 1, 3, 3, 0, 2, 2, 1, 3, 0, 1, 3, 3, 0, 2, 1, 0, 0,\n",
              "       3, 0, 1, 1, 1, 2, 1, 1, 2, 2, 3, 1, 3, 3, 3, 3, 3, 1, 1, 1, 1, 0,\n",
              "       3, 2, 0, 1, 0, 0, 0, 1, 2, 3, 0, 0, 2, 0, 0, 1, 1, 0, 1, 1, 1, 2,\n",
              "       3, 3, 0, 2, 1, 0, 0, 3, 3, 3, 2, 0, 1, 1, 0, 2, 0, 1, 1, 2, 2, 3,\n",
              "       2, 2, 2, 0, 2, 3, 0, 2, 2, 2, 3, 2, 2, 2, 2, 0, 3, 1, 1, 0, 3, 1,\n",
              "       2, 1, 3, 3, 1, 0, 0, 1, 0, 2, 3, 1, 3, 1, 0, 0, 3, 3, 0, 2, 3, 2,\n",
              "       2, 3, 3, 3, 3, 3, 0, 2, 0, 3, 1, 1, 0, 1, 0, 3, 1, 2, 1, 0, 0, 3,\n",
              "       1, 1, 2, 3, 3, 2, 1, 1, 0, 2, 2, 3, 0, 0, 0, 2, 1, 2, 2, 3, 2, 0,\n",
              "       2, 3, 3, 3, 0, 2, 2, 1, 3, 0, 3, 0, 2, 0, 1, 1, 3, 2, 2, 2, 3, 2,\n",
              "       1, 2, 1, 2])"
            ]
          },
          "metadata": {},
          "execution_count": 27
        }
      ]
    },
    {
      "cell_type": "code",
      "source": [
        "# Convert one-hot encoded true labels to class indices\n",
        "y_true_classes = np.argmax(y_test, axis=1)  # Converts one-hot labels to original class indices\n",
        "\n",
        "# Display true class labels\n",
        "y_true_classes  # Shows the actual class index for each test sample"
      ],
      "metadata": {
        "colab": {
          "base_uri": "https://localhost:8080/"
        },
        "id": "2gRFRwOmmmIL",
        "outputId": "82ca87c6-d58f-4442-e5be-b6a9ed341b14"
      },
      "execution_count": 28,
      "outputs": [
        {
          "output_type": "execute_result",
          "data": {
            "text/plain": [
              "array([0, 2, 3, 1, 0, 1, 3, 3, 2, 3, 0, 3, 3, 2, 0, 0, 1, 3, 2, 0, 2, 3,\n",
              "       0, 1, 1, 2, 2, 3, 1, 2, 2, 1, 3, 1, 1, 0, 3, 0, 2, 3, 1, 3, 3, 1,\n",
              "       0, 3, 0, 0, 1, 2, 3, 0, 3, 1, 3, 0, 0, 3, 1, 2, 2, 1, 0, 2, 3, 2,\n",
              "       3, 2, 0, 0, 0, 1, 2, 2, 1, 3, 0, 0, 2, 0, 0, 1, 1, 3, 3, 2, 3, 3,\n",
              "       3, 3, 3, 1, 1, 0, 3, 0, 3, 3, 1, 1, 0, 2, 2, 3, 0, 0, 2, 1, 2, 2,\n",
              "       3, 1, 0, 2, 0, 1, 1, 1, 1, 1, 1, 3, 0, 3, 0, 0, 1, 3, 1, 0, 0, 3,\n",
              "       3, 2, 0, 2, 2, 0, 1, 0, 0, 0, 1, 2, 0, 1, 2, 2, 3, 2, 0, 3, 2, 2,\n",
              "       0, 0, 0, 0, 3, 1, 1, 2, 3, 0, 2, 2, 0, 1, 0, 3, 2, 2, 2, 0, 1, 2,\n",
              "       2, 0, 3, 0, 1, 1, 1, 0, 3, 1, 3, 2, 2, 2, 3, 1, 2, 1, 0, 3, 1, 0,\n",
              "       2, 2, 2, 1, 2, 1, 3, 3, 0, 2, 2, 1, 3, 0, 1, 3, 3, 0, 2, 1, 0, 0,\n",
              "       3, 0, 1, 1, 1, 2, 1, 1, 2, 2, 3, 1, 3, 3, 3, 3, 3, 1, 1, 1, 1, 0,\n",
              "       3, 2, 0, 1, 0, 0, 0, 1, 2, 3, 0, 0, 2, 0, 1, 1, 1, 1, 1, 1, 1, 2,\n",
              "       3, 3, 0, 2, 1, 0, 0, 3, 3, 3, 2, 0, 1, 1, 0, 2, 0, 1, 1, 2, 2, 3,\n",
              "       2, 2, 2, 0, 2, 3, 0, 2, 2, 2, 3, 2, 2, 2, 2, 0, 3, 1, 1, 0, 3, 1,\n",
              "       2, 1, 3, 3, 1, 0, 0, 1, 0, 2, 3, 1, 3, 1, 0, 0, 3, 3, 0, 2, 3, 2,\n",
              "       2, 3, 3, 3, 3, 3, 0, 2, 0, 3, 1, 1, 0, 1, 0, 3, 1, 2, 1, 0, 0, 3,\n",
              "       1, 1, 2, 3, 3, 2, 1, 1, 0, 2, 2, 3, 0, 0, 0, 2, 1, 2, 2, 3, 3, 0,\n",
              "       2, 3, 3, 3, 0, 2, 2, 1, 3, 0, 3, 0, 1, 0, 1, 1, 3, 2, 2, 2, 3, 2,\n",
              "       1, 2, 1, 2])"
            ]
          },
          "metadata": {},
          "execution_count": 28
        }
      ]
    },
    {
      "cell_type": "code",
      "source": [
        "# Calculate test accuracy by comparing predicted vs true class labels\n",
        "test_accuracy = accuracy_score(y_true_classes, y_pred_classes)  # Returns overall accuracy\n",
        "\n",
        "# Print test accuracy\n",
        "print(\"Test Accuracy:\", test_accuracy)  # Shows the model's performance on unseen data\n",
        "\n",
        "# Generate detailed classification metrics for each class\n",
        "print(\"\\nClassification Report:\\n\", classification_report(y_true_classes, y_pred_classes))\n",
        "# Outputs precision, recall, f1-score, and support for each class"
      ],
      "metadata": {
        "colab": {
          "base_uri": "https://localhost:8080/"
        },
        "id": "i9umzFBrmsoM",
        "outputId": "646a16e1-87d7-44c2-840d-af917ad0f96c"
      },
      "execution_count": 29,
      "outputs": [
        {
          "output_type": "stream",
          "name": "stdout",
          "text": [
            "Test Accuracy: 0.965\n",
            "\n",
            "Classification Report:\n",
            "               precision    recall  f1-score   support\n",
            "\n",
            "           0       0.93      0.99      0.96       100\n",
            "           1       0.98      0.91      0.94       100\n",
            "           2       0.97      0.97      0.97       100\n",
            "           3       0.98      0.99      0.99       100\n",
            "\n",
            "    accuracy                           0.96       400\n",
            "   macro avg       0.97      0.97      0.96       400\n",
            "weighted avg       0.97      0.96      0.96       400\n",
            "\n"
          ]
        }
      ]
    },
    {
      "cell_type": "markdown",
      "source": [
        "## 5.4 Best Model Graphs"
      ],
      "metadata": {
        "id": "_fkHt20reh33"
      }
    },
    {
      "cell_type": "code",
      "source": [
        "# Create a figure of size 10x6 inches for clear visualization\n",
        "plt.figure(figsize=(10, 6))\n",
        "\n",
        "# Plot Accuracy\n",
        "# Plot validation accuracy as a solid blue line\n",
        "plt.plot(history_best.history['val_accuracy'], label='Val Accuracy', color='blue', linestyle='-')\n",
        "\n",
        "# Plot Loss\n",
        "# Plot validation loss as a dashed red line\n",
        "plt.plot(history_best.history['val_loss'], label='Val Loss', color='red', linestyle='--')\n",
        "\n",
        "#  Titles and Labels\n",
        "plt.title(\"Hyperparameter Tuned Model: Validation Accuracy & Loss\")  # Main graph title\n",
        "plt.xlabel(\"Epochs\")                        # Label for x-axis\n",
        "plt.ylabel(\"Value (Accuracy / Loss)\")       # Label for y-axis\n",
        "\n",
        "# Show legend to distinguish between train/validation and accuracy/loss\n",
        "plt.legend()\n",
        "\n",
        "# Add grid lines for clarity\n",
        "plt.grid(True)\n",
        "\n",
        "# Display the combined graph\n",
        "plt.show()\n"
      ],
      "metadata": {
        "colab": {
          "base_uri": "https://localhost:8080/",
          "height": 584
        },
        "id": "0q-T7CPCm0EO",
        "outputId": "eabc697c-61d1-49cc-99e2-0410e63a392e"
      },
      "execution_count": 34,
      "outputs": [
        {
          "output_type": "display_data",
          "data": {
            "text/plain": [
              "<Figure size 1000x600 with 1 Axes>"
            ],
            "image/png": "[encoded data removed]"
          },
          "metadata": {}
        }
      ]
    },
    {
      "cell_type": "markdown",
      "source": [
        "**Insights:**\n",
        "\n",
        "These graph shows the validation accuracy and loss trends for the hyperparameter-tuned artificial neural network model. The validation accuracy curve (blue line) maintains a consistently high value, hovering close to 0.96 (or 96%) across all epochs, while the validation loss (red dashed line) remains very low (around 0.1 or below). This indicates that the hyperparameter tuning process significantly improved the model’s performance and stability. Unlike the base model, the tuned model reaches high accuracy within just a few epochs and maintains it throughout training without signs of overfitting or oscillations. The reduction in both training time and validation loss demonstrates that the optimized parameters—such as learning rate, batch size, and number of neurons—help the model learn more efficiently. Hence, the tuned model not only performs better in terms of accuracy but also achieves higher convergence behavior compared to the base model."
      ],
      "metadata": {
        "id": "1FPetXndgYPy"
      }
    },
    {
      "cell_type": "markdown",
      "source": [
        "# 6. Prediction on Unseen Data"
      ],
      "metadata": {
        "id": "a10h5jEhhf4B"
      }
    },
    {
      "cell_type": "markdown",
      "source": [
        "## 6.1 Generate Random Unseen data"
      ],
      "metadata": {
        "id": "d3-7ROvOi097"
      }
    },
    {
      "cell_type": "code",
      "source": [
        "# Number of unseen samples you want\n",
        "n_samples = 3\n",
        "# This defines how many new (unseen) data points you want to generate for testing your model.\n",
        "\n",
        "# Generate random unseen data\n",
        "unseen_data = pd.DataFrame({\n",
        "    # Create a new DataFrame with randomly generated feature values similar to the training data.\n",
        "\n",
        "    'battery_power': np.random.randint(500, 5000, n_samples),\n",
        "    # 🔹 Randomly generate integer values between 500 and 5000 for 'battery_power' feature.\n",
        "\n",
        "    'bluetooth': np.random.randint(0, 2, n_samples),\n",
        "    # 🔹 Randomly generate 0 or 1 values (no/yes) for 'bluetooth' availability.\n",
        "\n",
        "    'clock_speed': np.round(np.random.uniform(0.5, 3.0, n_samples), 2),\n",
        "    # 🔹 Generate floating-point values between 0.5 and 3.0 for CPU clock speed, rounded to 2 decimals.\n",
        "\n",
        "    'dual_sim': np.random.randint(0, 2, n_samples),\n",
        "    # 🔹 Randomly assign 0 or 1 to represent if the phone supports dual SIM.\n",
        "\n",
        "    'front_cam': np.random.randint(0, 20, n_samples),\n",
        "    # 🔹 Generate random front camera megapixels between 0 and 20.\n",
        "\n",
        "    '4G': np.random.randint(0, 2, n_samples),\n",
        "    # 🔹 Randomly assign 0 (no 4G) or 1 (4G support).\n",
        "\n",
        "    'int_memory': np.random.randint(2, 256, n_samples),\n",
        "    # 🔹 Internal memory in GB, random values between 2 and 256.\n",
        "\n",
        "    'm_dep': np.round(np.random.uniform(0.1, 2.0, n_samples), 2),\n",
        "    # 🔹 Mobile depth in cm, random float between 0.1 and 2.0, rounded to 2 decimals.\n",
        "\n",
        "    'mobile_wt': np.random.randint(80, 250, n_samples),\n",
        "    # 🔹 Mobile weight in grams, between 80 and 250.\n",
        "\n",
        "    'n_cores': np.random.randint(1, 9, n_samples),\n",
        "    # 🔹 Number of processor cores, between 1 and 8.\n",
        "\n",
        "    'primary_camera': np.random.randint(0, 20, n_samples),\n",
        "    # 🔹 Primary (rear) camera megapixels, between 0 and 20.\n",
        "\n",
        "    'px_height': np.random.randint(400, 3000, n_samples),\n",
        "    # 🔹 Screen pixel height between 400 and 3000.\n",
        "\n",
        "    'px_width': np.random.randint(400, 3000, n_samples),\n",
        "    # 🔹 Screen pixel width between 400 and 3000.\n",
        "\n",
        "    'ram': np.random.randint(256, 4000, n_samples),\n",
        "    # 🔹 RAM size in MB, between 256 and 4000.\n",
        "\n",
        "    'sc_h': np.random.randint(5, 30, n_samples),\n",
        "    # 🔹 Screen height in cm, between 5 and 30.\n",
        "\n",
        "    'sc_w': np.random.randint(0, 20, n_samples),\n",
        "    # 🔹 Screen width in cm, between 0 and 20.\n",
        "\n",
        "    'talk_time': np.random.randint(2, 30, n_samples),\n",
        "    # 🔹 Battery talk time in hours, between 2 and 30.\n",
        "\n",
        "    'three_g': np.random.randint(0, 2, n_samples),\n",
        "    # 🔹 Randomly assign 0 (no 3G) or 1 (3G support).\n",
        "\n",
        "    'touch_screen': np.random.randint(0, 2, n_samples),\n",
        "    # 🔹 Randomly assign 0 (non-touch) or 1 (touchscreen).\n",
        "\n",
        "    'wifi': np.random.randint(0, 2, n_samples)\n",
        "    # 🔹 Randomly assign 0 (no WiFi) or 1 (WiFi support).\n",
        "})\n",
        "\n",
        "# Convert the generated dictionary into a DataFrame\n",
        "unseen_df = pd.DataFrame(unseen_data)\n",
        "\n",
        "# Display the generated unseen data DataFrame\n",
        "print(unseen_df)\n",
        "# Prints the randomly generated unseen samples for verification.\n",
        "\n",
        "\n"
      ],
      "metadata": {
        "colab": {
          "base_uri": "https://localhost:8080/"
        },
        "id": "q44MKOjrfGZb",
        "outputId": "73750c8b-3caa-4690-ff5c-bfff546fcb7a"
      },
      "execution_count": 55,
      "outputs": [
        {
          "output_type": "stream",
          "name": "stdout",
          "text": [
            "   battery_power  bluetooth  clock_speed  dual_sim  front_cam  4G  int_memory  \\\n",
            "0           4962          1         2.40         0         18   1         215   \n",
            "1            999          0         1.41         1          6   0         115   \n",
            "2           4729          1         2.74         1          0   1         109   \n",
            "\n",
            "   m_dep  mobile_wt  n_cores  primary_camera  px_height  px_width   ram  sc_h  \\\n",
            "0   0.41        181        8              11        657      2100  1191    24   \n",
            "1   0.52        168        1              15       2769       637   755    15   \n",
            "2   1.82        157        8              13        549      2710  1954     8   \n",
            "\n",
            "   sc_w  talk_time  three_g  touch_screen  wifi  \n",
            "0    17         18        0             0     0  \n",
            "1    17         18        0             0     1  \n",
            "2    13         23        1             1     1  \n"
          ]
        }
      ]
    },
    {
      "cell_type": "markdown",
      "source": [
        "## 6.2 Scaled the Unseen **Data**"
      ],
      "metadata": {
        "id": "8LBOhVuii95o"
      }
    },
    {
      "cell_type": "code",
      "source": [
        "# Scale it with same scaler used earlier\n",
        "unseen_df_scaled = scaler.transform(unseen_df)\n",
        "\n",
        "unseen_df_scaled"
      ],
      "metadata": {
        "colab": {
          "base_uri": "https://localhost:8080/"
        },
        "id": "vKTHY2G9h3ZJ",
        "outputId": "9306fc01-070b-4a17-81c9-34a11a601b4c"
      },
      "execution_count": 56,
      "outputs": [
        {
          "output_type": "execute_result",
          "data": {
            "text/plain": [
              "array([[ 8.47578154,  1.0100505 ,  1.07593749, -1.01918398,  3.15423272,\n",
              "         0.95788598, 10.08498458, -0.31819694,  1.15145731,  1.52124939,\n",
              "         0.17871285,  0.02680371,  1.9636691 , -0.86053177,  2.77610831,\n",
              "         2.57915147,  1.27942995, -1.78686097, -1.00601811, -1.01409939],\n",
              "       [-0.54521729, -0.9900495 , -0.13759497,  0.98117712,  0.38948398,\n",
              "        -1.04396559,  4.57266337,  0.06329258,  0.78413025, -1.53917473,\n",
              "         0.83847416,  4.78710012, -1.42218874, -1.26257488,  0.63945335,\n",
              "         2.57915147,  1.27942995, -1.78686097, -1.00601811,  0.98609664],\n",
              "       [ 7.94540235,  1.0100505 ,  1.49270621,  0.98117712, -0.99289039,\n",
              "         0.95788598,  4.2419241 ,  4.57180512,  0.47331505,  1.52124939,\n",
              "         0.5085935 , -0.21662053,  3.37540751, -0.15695634, -1.0223894 ,\n",
              "         1.660732  ,  2.19474683,  0.55964063,  0.99401789,  0.98609664]])"
            ]
          },
          "metadata": {},
          "execution_count": 56
        }
      ]
    },
    {
      "cell_type": "markdown",
      "source": [
        "## 6.3 Predict using Best Trained Model"
      ],
      "metadata": {
        "id": "K86oNm74jHiN"
      }
    },
    {
      "cell_type": "code",
      "source": [
        "# Predict class probabilities for unseen (new) data\n",
        "unseen_pred = best_model.predict(unseen_df_scaled)\n",
        "\n",
        "# Display the predicted probabilities for each class\n",
        "print(\"Predicted Probabilities:\\n\", unseen_pred)"
      ],
      "metadata": {
        "colab": {
          "base_uri": "https://localhost:8080/"
        },
        "id": "gJ8Ct5e7iKoA",
        "outputId": "3d556023-1247-4ea7-85b5-28e595aec27c"
      },
      "execution_count": 57,
      "outputs": [
        {
          "output_type": "stream",
          "name": "stdout",
          "text": [
            "\u001b[1m1/1\u001b[0m \u001b[32m━━━━━━━━━━━━━━━━━━━━\u001b[0m\u001b[37m\u001b[0m \u001b[1m0s\u001b[0m 45ms/step\n",
            "Predicted Probabilities:\n",
            " [[6.2210309e-20 4.0836518e-12 6.4759784e-05 9.9993527e-01]\n",
            " [6.8775672e-01 3.1224319e-01 6.4353706e-08 6.9243957e-17]\n",
            " [1.1829099e-25 3.6375944e-16 1.5549697e-06 9.9999845e-01]]\n"
          ]
        }
      ]
    },
    {
      "cell_type": "markdown",
      "source": [
        "## 6.4 Convert Probabilities into Class Labels"
      ],
      "metadata": {
        "id": "lDdAl90ajYvS"
      }
    },
    {
      "cell_type": "code",
      "source": [
        "# Convert predicted probabilities to class labels\n",
        "unseen_pred_classes = np.argmax(unseen_pred, axis=1)\n",
        "\n",
        "# Display the predicted class indices\n",
        "print(\"\\nPredicted Classes (Numeric Labels):\", unseen_pred_classes)"
      ],
      "metadata": {
        "colab": {
          "base_uri": "https://localhost:8080/"
        },
        "id": "oOBQL_RwiQsm",
        "outputId": "350590c0-2360-4113-937f-aa7722f8ac39"
      },
      "execution_count": 58,
      "outputs": [
        {
          "output_type": "stream",
          "name": "stdout",
          "text": [
            "\n",
            "Predicted Classes (Numeric Labels): [3 0 3]\n"
          ]
        }
      ]
    },
    {
      "cell_type": "markdown",
      "source": [
        "## 6.4 Decode Labels into Readable Form"
      ],
      "metadata": {
        "id": "YF2KMpgYjoMI"
      }
    },
    {
      "cell_type": "code",
      "source": [
        "# label mapping\n",
        "label_mapping = {\n",
        "    0: 'Low Cost',\n",
        "    1: 'Medium Cost',\n",
        "    2: 'High Cost',\n",
        "    3: 'Very High Cost'\n",
        "}\n",
        "\n",
        "# Decode numeric predictions\n",
        "unseen_pred_labels = [label_mapping[label] for label in unseen_pred_classes]\n",
        "\n",
        "# Display predictions with readable labels\n",
        "print(\"\\nPredicted Price Range Labels:\", unseen_pred_labels)"
      ],
      "metadata": {
        "colab": {
          "base_uri": "https://localhost:8080/"
        },
        "id": "BXshyh7JjgZL",
        "outputId": "953a9bee-56c3-4371-f1ef-9275f8f31c57"
      },
      "execution_count": 59,
      "outputs": [
        {
          "output_type": "stream",
          "name": "stdout",
          "text": [
            "\n",
            "Predicted Price Range Labels: ['Very High Cost', 'Low Cost', 'Very High Cost']\n"
          ]
        }
      ]
    },
    {
      "cell_type": "markdown",
      "source": [
        "## 6.5  Combine Predictions with Unseen Data"
      ],
      "metadata": {
        "id": "hFJwRIT4krWA"
      }
    },
    {
      "cell_type": "code",
      "source": [
        "# Add predictions to the unseen data for a clear view\n",
        "unseen_df['Predicted_Price_Range'] = unseen_pred_labels\n",
        "\n",
        "# Display the final DataFrame\n",
        "print(\"\\nFinal Unseen Data with Predictions:\\n\")\n",
        "print(unseen_df)\n"
      ],
      "metadata": {
        "colab": {
          "base_uri": "https://localhost:8080/"
        },
        "id": "zfca5oJRj1vG",
        "outputId": "444ad25e-5b91-4dfd-8753-aeb175bcd1e8"
      },
      "execution_count": 60,
      "outputs": [
        {
          "output_type": "stream",
          "name": "stdout",
          "text": [
            "\n",
            "Final Unseen Data with Predictions:\n",
            "\n",
            "   battery_power  bluetooth  clock_speed  dual_sim  front_cam  4G  int_memory  \\\n",
            "0           4962          1         2.40         0         18   1         215   \n",
            "1            999          0         1.41         1          6   0         115   \n",
            "2           4729          1         2.74         1          0   1         109   \n",
            "\n",
            "   m_dep  mobile_wt  n_cores  ...  px_height  px_width   ram  sc_h  sc_w  \\\n",
            "0   0.41        181        8  ...        657      2100  1191    24    17   \n",
            "1   0.52        168        1  ...       2769       637   755    15    17   \n",
            "2   1.82        157        8  ...        549      2710  1954     8    13   \n",
            "\n",
            "   talk_time  three_g  touch_screen  wifi  Predicted_Price_Range  \n",
            "0         18        0             0     0         Very High Cost  \n",
            "1         18        0             0     1               Low Cost  \n",
            "2         23        1             1     1         Very High Cost  \n",
            "\n",
            "[3 rows x 21 columns]\n"
          ]
        }
      ]
    },
    {
      "cell_type": "markdown",
      "source": [
        "**Insight:-**\n",
        "\n",
        "The model successfully differentiated the price categories for the unseen mobile samples:\n",
        "\n",
        "* Samples 1 and 3 were predicted as “Very High Cost”, consistent with their high-end specifications such as powerful batteries, higher RAM, and more CPU cores.\n",
        "\n",
        "* Sample 2 was predicted as “Low Cost”, aligning with its comparatively weaker specifications (low battery power, less RAM, and single-core processor).\n",
        "\n",
        "**Conclusion:**\n",
        "The predictions indicate that the model generalizes well and accurately associates key features (like RAM, battery power, and number of cores) with mobile price ranges — showing reliable performance on unseen data."
      ],
      "metadata": {
        "id": "doAWZzSBnYJp"
      }
    },
    {
      "cell_type": "code",
      "source": [
        "import matplotlib.pyplot as plt\n",
        "import seaborn as sns\n",
        "\n",
        "# Bar chart for predicted price range distribution\n",
        "plt.figure(figsize=(6,4))\n",
        "sns.countplot(x='Predicted_Price_Range', data=unseen_df,hue='Predicted_Price_Range' ,palette='viridis')\n",
        "plt.title('Predicted Price Range Distribution for Unseen Data')\n",
        "plt.xlabel('Predicted Price Range')\n",
        "plt.ylabel('Count')\n",
        "plt.show()\n"
      ],
      "metadata": {
        "colab": {
          "base_uri": "https://localhost:8080/",
          "height": 419
        },
        "id": "kaPGcgsVkyb3",
        "outputId": "fe7a6caf-1d9d-4804-b2c3-e523819d46c6"
      },
      "execution_count": 61,
      "outputs": [
        {
          "output_type": "display_data",
          "data": {
            "text/plain": [
              "<Figure size 600x400 with 1 Axes>"
            ],
            "image/png": "[encoded data removed]"
          },
          "metadata": {}
        }
      ]
    },
    {
      "cell_type": "markdown",
      "source": [
        "**Insights:-**\n",
        "\n",
        "The bar chart shows the predicted price range distribution for the unseen mobile data. Out of three samples, two were categorized as “Very High Cost” and one as “Low Cost.” This indicates that the model effectively identifies high-end smartphones based on their technical specifications such as higher battery power, RAM, and number of cores. The single “Low Cost” prediction corresponds to the device with comparatively lower performance features, reflecting the model’s ability to generalize well on new, unseen inputs."
      ],
      "metadata": {
        "id": "dRHVoPZ0m-Y2"
      }
    },
    {
      "cell_type": "markdown",
      "source": [
        "# Overall Conclusion:\n",
        "\n",
        "In this assignment, we developed an **artificial neural network (ANN)-based classifier** to predict mobile price ranges using features such as RAM, internal memory, battery power, camera quality, and connectivity options, etc. The base model achieved a test accuracy of **91.75%**, which increased to **96.5%** after **hyperparameter tuning**, showing the effectiveness of model optimization. The evaluation metrics demonstrate that the model performs well across all price categories, and testing on unseen data confirms its reliability. This project provides Bob with a robust tool to estimate mobile prices, helping his company make informed decisions in a competitive market.\n"
      ],
      "metadata": {
        "id": "cvHNqowMpCqa"
      }
    }
  ]
}