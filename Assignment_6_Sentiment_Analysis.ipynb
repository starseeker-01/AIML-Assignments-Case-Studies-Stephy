{
  "nbformat": 4,
  "nbformat_minor": 0,
  "metadata": {
    "colab": {
      "provenance": []
    },
    "kernelspec": {
      "name": "python3",
      "display_name": "Python 3"
    },
    "language_info": {
      "name": "python"
    }
  },
  "cells": [
    {
      "cell_type": "markdown",
      "source": [
        "# **ASSIGNMENT - 6**\n",
        "# **SENTIMENT ANALYSIS**"
      ],
      "metadata": {
        "id": "ZBqlayT0s538"
      }
    },
    {
      "cell_type": "markdown",
      "source": [
        "# Introduction\n",
        "\n",
        "In the modern digital age, social media platforms like Twitter, Facebook, and Instagram allow millions of users to express opinions about products and services. Analyzing this data provides insights into customer satisfaction, brand perception, and market trends.\n",
        "\n",
        "Natural Language Processing (NLP), a branch of Artificial Intelligence, enables machines to understand and analyze human language. One common application is Sentiment Analysis, which identifies the emotional tone behind text—positive, negative, or neutral.\n",
        "\n",
        "This project builds a machine learning system to classify tweets about technology products into positive (1) or negative (0) categories.\n",
        "\n",
        "---\n",
        "\n",
        "# Objective\n",
        "\n",
        "The primary objective of this project is to:\n",
        "\n",
        "* Develop a sentiment classification system using Natural Language Processing and Machine Learning.\n",
        "\n",
        "* Clean and preprocess the tweet text to remove noise (such as links, hashtags, and mentions).\n",
        "\n",
        "* Convert text data into numerical format using TF-IDF Vectorization.\n",
        "\n",
        "* Train multiple machine learning models for classification.\n",
        "\n",
        "* Evaluate the performance of the model using Accuracy as the main metric.\n",
        "\n",
        "---\n",
        "\n",
        "# Problem Statement\n",
        "\n",
        "To design and implement a sentiment analysis model that can accurately classify tweets about technology companies into Positive or Negative categories.\n",
        "\n",
        "---\n",
        "\n",
        "# About the Dataset\n",
        "\n",
        "The dataset used in this project consists of tweets posted by users on Twitter, expressing their opinions about technology companies that produce and sell devices such as mobile phones, laptops, and computers.\n",
        "\n",
        "Each record in the dataset contains:\n",
        "\n",
        "* Tweet Text – The actual content of the tweet written by the user.\n",
        "\n",
        "* Sentiment Label – The target value representing the tweet’s sentiment:\n",
        "\n",
        "  * 1 → Positive sentiment (praise, satisfaction, or appreciation)\n",
        "\n",
        "  * 0 → Negative sentiment (complaint, frustration, or dislike)\n",
        "\n",
        "The dataset is used to train and test the sentiment classification model. It is divided into training and testing sets so that the model can learn from known examples and then be evaluated on unseen data.\n",
        "\n",
        "The data is textual and unstructured, which makes preprocessing (like removing stopwords, punctuation, URLs, and special characters) a crucial step before applying machine learning algorithms.\n",
        "\n"
      ],
      "metadata": {
        "id": "Olj_gyrywzhK"
      }
    },
    {
      "cell_type": "markdown",
      "source": [
        "# 1. Importing Required Libraries"
      ],
      "metadata": {
        "id": "sU5qVg-gyqLt"
      }
    },
    {
      "cell_type": "code",
      "execution_count": 1,
      "metadata": {
        "id": "2gA8f50tsluf"
      },
      "outputs": [],
      "source": [
        "# -------------------------------------------\n",
        "# Importing Necessary Python Libraries\n",
        "# -------------------------------------------\n",
        "\n",
        "# For handling and analyzing structured data (tables, CSVs, etc.)\n",
        "import pandas as pd\n",
        "\n",
        "# For numerical computations and working with arrays/matrices\n",
        "import numpy as np\n",
        "\n",
        "# For performing text cleaning using regular expressions\n",
        "import re\n",
        "\n",
        "# Natural Language Toolkit (NLP library) for text preprocessing\n",
        "import nltk\n",
        "\n",
        "# For creating visualizations like plots and charts\n",
        "import matplotlib.pyplot as plt\n",
        "\n",
        "# For advanced visualizations and attractive statistical plots\n",
        "import seaborn as sns\n",
        "\n",
        "\n",
        "# -------------------------------------------\n",
        "# NLP Preprocessing Tools from NLTK\n",
        "# -------------------------------------------\n",
        "\n",
        "# List of common English words (like 'the', 'is', 'and') to remove\n",
        "from nltk.corpus import stopwords\n",
        "\n",
        "# Lemmatizer converts words to their root form (e.g., “running” → “run”)\n",
        "from nltk.stem import WordNetLemmatizer\n",
        "\n",
        "\n",
        "# -------------------------------------------\n",
        "# Model Training and Evaluation Utilities\n",
        "# -------------------------------------------\n",
        "\n",
        "# Used to split dataset into training and testing subsets\n",
        "from sklearn.model_selection import train_test_split, cross_val_score\n",
        "\n",
        "# Converts text data into numerical features based on TF-IDF scoring\n",
        "from sklearn.feature_extraction.text import TfidfVectorizer\n",
        "\n",
        "\n",
        "# -------------------------------------------\n",
        "# Machine Learning Classification Models\n",
        "# -------------------------------------------\n",
        "\n",
        "# Logistic Regression – linear model suitable for text classification\n",
        "from sklearn.linear_model import LogisticRegression\n",
        "\n",
        "# Random Forest – ensemble model combining multiple decision trees\n",
        "from sklearn.ensemble import (\n",
        "    RandomForestClassifier,    # Bagging-based ensemble method\n",
        "    AdaBoostClassifier,        # Boosting model that combines weak learners\n",
        "    GradientBoostingClassifier # Sequential boosting model for improved accuracy\n",
        ")\n",
        "\n",
        "# Support Vector Machine – effective for text classification using hyperplanes\n",
        "from sklearn.svm import SVC\n",
        "\n",
        "# Naive Bayes – probabilistic classifier, works well with text data\n",
        "from sklearn.naive_bayes import MultinomialNB\n",
        "\n",
        "# XGBoost – advanced gradient boosting algorithm, often achieves high accuracy\n",
        "from xgboost import XGBClassifier\n",
        "\n",
        "\n",
        "# -------------------------------------------\n",
        "# Model Evaluation Metrics\n",
        "# -------------------------------------------\n",
        "\n",
        "# accuracy_score → Measures overall correctness of predictions\n",
        "# classification_report → Gives precision, recall, and F1-score\n",
        "# confusion_matrix → Shows correctly and incorrectly classified examples\n",
        "from sklearn.metrics import accuracy_score, classification_report, confusion_matrix"
      ]
    },
    {
      "cell_type": "code",
      "source": [
        "# Download necessary resources from NLTK (only once)\n",
        "nltk.download('stopwords')   # Downloads the list of stopwords for English\n",
        "nltk.download('wordnet')     # Downloads WordNet dictionary for lemmatization\n",
        "nltk.download('omw-1.4')     # Downloads WordNet's multilingual dictionary (needed for proper lemmatization)"
      ],
      "metadata": {
        "colab": {
          "base_uri": "https://localhost:8080/"
        },
        "id": "UqC6nNTjZOSS",
        "outputId": "a3b0cbee-b69b-40c9-9145-872640052ae9"
      },
      "execution_count": 2,
      "outputs": [
        {
          "output_type": "stream",
          "name": "stderr",
          "text": [
            "[nltk_data] Downloading package stopwords to /root/nltk_data...\n",
            "[nltk_data]   Unzipping corpora/stopwords.zip.\n",
            "[nltk_data] Downloading package wordnet to /root/nltk_data...\n",
            "[nltk_data] Downloading package omw-1.4 to /root/nltk_data...\n"
          ]
        },
        {
          "output_type": "execute_result",
          "data": {
            "text/plain": [
              "True"
            ]
          },
          "metadata": {},
          "execution_count": 2
        }
      ]
    },
    {
      "cell_type": "markdown",
      "source": [
        "# 2. Loading the Dataset"
      ],
      "metadata": {
        "id": "442Z_55dzE1H"
      }
    },
    {
      "cell_type": "code",
      "source": [
        "# Import the drive module from Google Colab to access files stored on Google Drive\n",
        "from google.colab import drive\n",
        "\n",
        "# Mount Google Drive to the Colab environment to access files\n",
        "drive.mount('/content/drive')"
      ],
      "metadata": {
        "colab": {
          "base_uri": "https://localhost:8080/"
        },
        "id": "DXeR8gRXy1Y5",
        "outputId": "510481d1-6b9e-417d-a9e3-1cdf1f61e6b2"
      },
      "execution_count": 3,
      "outputs": [
        {
          "output_type": "stream",
          "name": "stdout",
          "text": [
            "Mounted at /content/drive\n"
          ]
        }
      ]
    },
    {
      "cell_type": "code",
      "source": [
        "# After mounting, specify the dataset path inside Google Drive\n",
        "file_path = '/content/drive/MyDrive/Colab Notebooks/AI_ML_ICT/NOTES/Codes/Data/tweets.csv'"
      ],
      "metadata": {
        "id": "2Jh0Iw3GzLq3"
      },
      "execution_count": 4,
      "outputs": []
    },
    {
      "cell_type": "code",
      "source": [
        "# Load the dataset using pandas 'read_csv()' function\n",
        "# This function reads the CSV file and stores it as a DataFrame\n",
        "df = pd.read_csv(file_path)"
      ],
      "metadata": {
        "id": "J6RBHPAmzowy"
      },
      "execution_count": 5,
      "outputs": []
    },
    {
      "cell_type": "code",
      "source": [
        "# Display the first five rows of the dataset\n",
        "# Helps to understand the structure and content of the data\n",
        "print(\"Sample Data:\")\n",
        "df.head()"
      ],
      "metadata": {
        "colab": {
          "base_uri": "https://localhost:8080/",
          "height": 223
        },
        "id": "BbI-gvUnzvM4",
        "outputId": "e60b680d-e6a3-4dc5-adc1-02b52e31b26b"
      },
      "execution_count": 6,
      "outputs": [
        {
          "output_type": "stream",
          "name": "stdout",
          "text": [
            "Sample Data:\n"
          ]
        },
        {
          "output_type": "execute_result",
          "data": {
            "text/plain": [
              "   id  label                                              tweet\n",
              "0   1      0  #fingerprint #Pregnancy Test https://goo.gl/h1...\n",
              "1   2      0  Finally a transparant silicon case ^^ Thanks t...\n",
              "2   3      0  We love this! Would you go? #talk #makememorie...\n",
              "3   4      0  I'm wired I know I'm George I was made that wa...\n",
              "4   5      1  What amazing service! Apple won't even talk to..."
            ],
            "text/html": [
              "\n",
              "  <div id=\"df-bea697ec-7cc1-4269-8771-aaafb243a7ea\" class=\"colab-df-container\">\n",
              "    <div>\n",
              "<style scoped>\n",
              "    .dataframe tbody tr th:only-of-type {\n",
              "        vertical-align: middle;\n",
              "    }\n",
              "\n",
              "    .dataframe tbody tr th {\n",
              "        vertical-align: top;\n",
              "    }\n",
              "\n",
              "    .dataframe thead th {\n",
              "        text-align: right;\n",
              "    }\n",
              "</style>\n",
              "<table border=\"1\" class=\"dataframe\">\n",
              "  <thead>\n",
              "    <tr style=\"text-align: right;\">\n",
              "      <th></th>\n",
              "      <th>id</th>\n",
              "      <th>label</th>\n",
              "      <th>tweet</th>\n",
              "    </tr>\n",
              "  </thead>\n",
              "  <tbody>\n",
              "    <tr>\n",
              "      <th>0</th>\n",
              "      <td>1</td>\n",
              "      <td>0</td>\n",
              "      <td>#fingerprint #Pregnancy Test https://goo.gl/h1...</td>\n",
              "    </tr>\n",
              "    <tr>\n",
              "      <th>1</th>\n",
              "      <td>2</td>\n",
              "      <td>0</td>\n",
              "      <td>Finally a transparant silicon case ^^ Thanks t...</td>\n",
              "    </tr>\n",
              "    <tr>\n",
              "      <th>2</th>\n",
              "      <td>3</td>\n",
              "      <td>0</td>\n",
              "      <td>We love this! Would you go? #talk #makememorie...</td>\n",
              "    </tr>\n",
              "    <tr>\n",
              "      <th>3</th>\n",
              "      <td>4</td>\n",
              "      <td>0</td>\n",
              "      <td>I'm wired I know I'm George I was made that wa...</td>\n",
              "    </tr>\n",
              "    <tr>\n",
              "      <th>4</th>\n",
              "      <td>5</td>\n",
              "      <td>1</td>\n",
              "      <td>What amazing service! Apple won't even talk to...</td>\n",
              "    </tr>\n",
              "  </tbody>\n",
              "</table>\n",
              "</div>\n",
              "    <div class=\"colab-df-buttons\">\n",
              "\n",
              "  <div class=\"colab-df-container\">\n",
              "    <button class=\"colab-df-convert\" onclick=\"convertToInteractive('df-bea697ec-7cc1-4269-8771-aaafb243a7ea')\"\n",
              "            title=\"Convert this dataframe to an interactive table.\"\n",
              "            style=\"display:none;\">\n",
              "\n",
              "  <svg xmlns=\"http://www.w3.org/2000/svg\" height=\"24px\" viewBox=\"0 -960 960 960\">\n",
              "    <path d=\"M120-120v-720h720v720H120Zm60-500h600v-160H180v160Zm220 220h160v-160H400v160Zm0 220h160v-160H400v160ZM180-400h160v-160H180v160Zm440 0h160v-160H620v160ZM180-180h160v-160H180v160Zm440 0h160v-160H620v160Z\"/>\n",
              "  </svg>\n",
              "    </button>\n",
              "\n",
              "  <style>\n",
              "    .colab-df-container {\n",
              "      display:flex;\n",
              "      gap: 12px;\n",
              "    }\n",
              "\n",
              "    .colab-df-convert {\n",
              "      background-color: #E8F0FE;\n",
              "      border: none;\n",
              "      border-radius: 50%;\n",
              "      cursor: pointer;\n",
              "      display: none;\n",
              "      fill: #1967D2;\n",
              "      height: 32px;\n",
              "      padding: 0 0 0 0;\n",
              "      width: 32px;\n",
              "    }\n",
              "\n",
              "    .colab-df-convert:hover {\n",
              "      background-color: #E2EBFA;\n",
              "      box-shadow: 0px 1px 2px rgba(60, 64, 67, 0.3), 0px 1px 3px 1px rgba(60, 64, 67, 0.15);\n",
              "      fill: #174EA6;\n",
              "    }\n",
              "\n",
              "    .colab-df-buttons div {\n",
              "      margin-bottom: 4px;\n",
              "    }\n",
              "\n",
              "    [theme=dark] .colab-df-convert {\n",
              "      background-color: #3B4455;\n",
              "      fill: #D2E3FC;\n",
              "    }\n",
              "\n",
              "    [theme=dark] .colab-df-convert:hover {\n",
              "      background-color: #434B5C;\n",
              "      box-shadow: 0px 1px 3px 1px rgba(0, 0, 0, 0.15);\n",
              "      filter: drop-shadow(0px 1px 2px rgba(0, 0, 0, 0.3));\n",
              "      fill: #FFFFFF;\n",
              "    }\n",
              "  </style>\n",
              "\n",
              "    <script>\n",
              "      const buttonEl =\n",
              "        document.querySelector('#df-bea697ec-7cc1-4269-8771-aaafb243a7ea button.colab-df-convert');\n",
              "      buttonEl.style.display =\n",
              "        google.colab.kernel.accessAllowed ? 'block' : 'none';\n",
              "\n",
              "      async function convertToInteractive(key) {\n",
              "        const element = document.querySelector('#df-bea697ec-7cc1-4269-8771-aaafb243a7ea');\n",
              "        const dataTable =\n",
              "          await google.colab.kernel.invokeFunction('convertToInteractive',\n",
              "                                                    [key], {});\n",
              "        if (!dataTable) return;\n",
              "\n",
              "        const docLinkHtml = 'Like what you see? Visit the ' +\n",
              "          '<a target=\"_blank\" href=https://colab.research.google.com/notebooks/data_table.ipynb>data table notebook</a>'\n",
              "          + ' to learn more about interactive tables.';\n",
              "        element.innerHTML = '';\n",
              "        dataTable['output_type'] = 'display_data';\n",
              "        await google.colab.output.renderOutput(dataTable, element);\n",
              "        const docLink = document.createElement('div');\n",
              "        docLink.innerHTML = docLinkHtml;\n",
              "        element.appendChild(docLink);\n",
              "      }\n",
              "    </script>\n",
              "  </div>\n",
              "\n",
              "\n",
              "    <div id=\"df-35b67897-5416-491c-8041-783737ed6102\">\n",
              "      <button class=\"colab-df-quickchart\" onclick=\"quickchart('df-35b67897-5416-491c-8041-783737ed6102')\"\n",
              "                title=\"Suggest charts\"\n",
              "                style=\"display:none;\">\n",
              "\n",
              "<svg xmlns=\"http://www.w3.org/2000/svg\" height=\"24px\"viewBox=\"0 0 24 24\"\n",
              "     width=\"24px\">\n",
              "    <g>\n",
              "        <path d=\"M19 3H5c-1.1 0-2 .9-2 2v14c0 1.1.9 2 2 2h14c1.1 0 2-.9 2-2V5c0-1.1-.9-2-2-2zM9 17H7v-7h2v7zm4 0h-2V7h2v10zm4 0h-2v-4h2v4z\"/>\n",
              "    </g>\n",
              "</svg>\n",
              "      </button>\n",
              "\n",
              "<style>\n",
              "  .colab-df-quickchart {\n",
              "      --bg-color: #E8F0FE;\n",
              "      --fill-color: #1967D2;\n",
              "      --hover-bg-color: #E2EBFA;\n",
              "      --hover-fill-color: #174EA6;\n",
              "      --disabled-fill-color: #AAA;\n",
              "      --disabled-bg-color: #DDD;\n",
              "  }\n",
              "\n",
              "  [theme=dark] .colab-df-quickchart {\n",
              "      --bg-color: #3B4455;\n",
              "      --fill-color: #D2E3FC;\n",
              "      --hover-bg-color: #434B5C;\n",
              "      --hover-fill-color: #FFFFFF;\n",
              "      --disabled-bg-color: #3B4455;\n",
              "      --disabled-fill-color: #666;\n",
              "  }\n",
              "\n",
              "  .colab-df-quickchart {\n",
              "    background-color: var(--bg-color);\n",
              "    border: none;\n",
              "    border-radius: 50%;\n",
              "    cursor: pointer;\n",
              "    display: none;\n",
              "    fill: var(--fill-color);\n",
              "    height: 32px;\n",
              "    padding: 0;\n",
              "    width: 32px;\n",
              "  }\n",
              "\n",
              "  .colab-df-quickchart:hover {\n",
              "    background-color: var(--hover-bg-color);\n",
              "    box-shadow: 0 1px 2px rgba(60, 64, 67, 0.3), 0 1px 3px 1px rgba(60, 64, 67, 0.15);\n",
              "    fill: var(--button-hover-fill-color);\n",
              "  }\n",
              "\n",
              "  .colab-df-quickchart-complete:disabled,\n",
              "  .colab-df-quickchart-complete:disabled:hover {\n",
              "    background-color: var(--disabled-bg-color);\n",
              "    fill: var(--disabled-fill-color);\n",
              "    box-shadow: none;\n",
              "  }\n",
              "\n",
              "  .colab-df-spinner {\n",
              "    border: 2px solid var(--fill-color);\n",
              "    border-color: transparent;\n",
              "    border-bottom-color: var(--fill-color);\n",
              "    animation:\n",
              "      spin 1s steps(1) infinite;\n",
              "  }\n",
              "\n",
              "  @keyframes spin {\n",
              "    0% {\n",
              "      border-color: transparent;\n",
              "      border-bottom-color: var(--fill-color);\n",
              "      border-left-color: var(--fill-color);\n",
              "    }\n",
              "    20% {\n",
              "      border-color: transparent;\n",
              "      border-left-color: var(--fill-color);\n",
              "      border-top-color: var(--fill-color);\n",
              "    }\n",
              "    30% {\n",
              "      border-color: transparent;\n",
              "      border-left-color: var(--fill-color);\n",
              "      border-top-color: var(--fill-color);\n",
              "      border-right-color: var(--fill-color);\n",
              "    }\n",
              "    40% {\n",
              "      border-color: transparent;\n",
              "      border-right-color: var(--fill-color);\n",
              "      border-top-color: var(--fill-color);\n",
              "    }\n",
              "    60% {\n",
              "      border-color: transparent;\n",
              "      border-right-color: var(--fill-color);\n",
              "    }\n",
              "    80% {\n",
              "      border-color: transparent;\n",
              "      border-right-color: var(--fill-color);\n",
              "      border-bottom-color: var(--fill-color);\n",
              "    }\n",
              "    90% {\n",
              "      border-color: transparent;\n",
              "      border-bottom-color: var(--fill-color);\n",
              "    }\n",
              "  }\n",
              "</style>\n",
              "\n",
              "      <script>\n",
              "        async function quickchart(key) {\n",
              "          const quickchartButtonEl =\n",
              "            document.querySelector('#' + key + ' button');\n",
              "          quickchartButtonEl.disabled = true;  // To prevent multiple clicks.\n",
              "          quickchartButtonEl.classList.add('colab-df-spinner');\n",
              "          try {\n",
              "            const charts = await google.colab.kernel.invokeFunction(\n",
              "                'suggestCharts', [key], {});\n",
              "          } catch (error) {\n",
              "            console.error('Error during call to suggestCharts:', error);\n",
              "          }\n",
              "          quickchartButtonEl.classList.remove('colab-df-spinner');\n",
              "          quickchartButtonEl.classList.add('colab-df-quickchart-complete');\n",
              "        }\n",
              "        (() => {\n",
              "          let quickchartButtonEl =\n",
              "            document.querySelector('#df-35b67897-5416-491c-8041-783737ed6102 button');\n",
              "          quickchartButtonEl.style.display =\n",
              "            google.colab.kernel.accessAllowed ? 'block' : 'none';\n",
              "        })();\n",
              "      </script>\n",
              "    </div>\n",
              "\n",
              "    </div>\n",
              "  </div>\n"
            ],
            "application/vnd.google.colaboratory.intrinsic+json": {
              "type": "dataframe",
              "variable_name": "df",
              "summary": "{\n  \"name\": \"df\",\n  \"rows\": 7920,\n  \"fields\": [\n    {\n      \"column\": \"id\",\n      \"properties\": {\n        \"dtype\": \"number\",\n        \"std\": 2286,\n        \"min\": 1,\n        \"max\": 7920,\n        \"num_unique_values\": 7920,\n        \"samples\": [\n          4897,\n          7540,\n          1678\n        ],\n        \"semantic_type\": \"\",\n        \"description\": \"\"\n      }\n    },\n    {\n      \"column\": \"label\",\n      \"properties\": {\n        \"dtype\": \"number\",\n        \"std\": 0,\n        \"min\": 0,\n        \"max\": 1,\n        \"num_unique_values\": 2,\n        \"samples\": [\n          1,\n          0\n        ],\n        \"semantic_type\": \"\",\n        \"description\": \"\"\n      }\n    },\n    {\n      \"column\": \"tweet\",\n      \"properties\": {\n        \"dtype\": \"string\",\n        \"num_unique_values\": 7918,\n        \"samples\": [\n          \"My face as dad gave me cards worth \\u00a320, 000.00 #gay #shopping #boy #macbook #apple #blonde #pickofthe http://instagr.am/p/Uo5Ue7H7A8/\",\n          \"@skullcandy your product is brutal, 1 headphone always stops working. Get it together #Sony ftw\"\n        ],\n        \"semantic_type\": \"\",\n        \"description\": \"\"\n      }\n    }\n  ]\n}"
            }
          },
          "metadata": {},
          "execution_count": 6
        }
      ]
    },
    {
      "cell_type": "markdown",
      "source": [
        "## 2.1 Dataset Overview"
      ],
      "metadata": {
        "id": "3HMODAuqz7zW"
      }
    },
    {
      "cell_type": "code",
      "source": [
        "# Display the shape of the dataset\n",
        "print(f\"Dataset shape: {df.shape}\")  # Number of rows and columns"
      ],
      "metadata": {
        "colab": {
          "base_uri": "https://localhost:8080/"
        },
        "id": "LO8kbT3BZmlI",
        "outputId": "c271b22f-6543-4fe9-e2ca-5eb1a06d9a03"
      },
      "execution_count": 7,
      "outputs": [
        {
          "output_type": "stream",
          "name": "stdout",
          "text": [
            "Dataset shape: (7920, 3)\n"
          ]
        }
      ]
    },
    {
      "cell_type": "code",
      "source": [
        "# Display the distribution of labels\n",
        "print(f\"Label distribution:\\n{df['label'].value_counts()}\")  # Counts of each class"
      ],
      "metadata": {
        "colab": {
          "base_uri": "https://localhost:8080/"
        },
        "id": "1cpnJHkaajiL",
        "outputId": "452f5f4a-5ead-4ebe-d050-2dac403739d9"
      },
      "execution_count": 8,
      "outputs": [
        {
          "output_type": "stream",
          "name": "stdout",
          "text": [
            "Label distribution:\n",
            "label\n",
            "0    5894\n",
            "1    2026\n",
            "Name: count, dtype: int64\n"
          ]
        }
      ]
    },
    {
      "cell_type": "code",
      "source": [
        "# Display count of positive and negative tweets explicitly\n",
        "print(f\"Positive tweets (Label 0): {(df['label'] == 0).sum()}\")  # Number of positive tweets\n",
        "print(f\"Negative tweets (Label 1): {(df['label'] == 1).sum()}\")  # Number of negative tweets"
      ],
      "metadata": {
        "colab": {
          "base_uri": "https://localhost:8080/"
        },
        "id": "34FBG8-Rajex",
        "outputId": "6938a378-0ca4-49b2-cc37-eabfd415f054"
      },
      "execution_count": 9,
      "outputs": [
        {
          "output_type": "stream",
          "name": "stdout",
          "text": [
            "Positive tweets (Label 0): 5894\n",
            "Negative tweets (Label 1): 2026\n"
          ]
        }
      ]
    },
    {
      "cell_type": "code",
      "source": [
        "# Check for duplicate rows in the dataset\n",
        "print(f\"Number of duplicate rows: {df.duplicated().sum()}\")  # Duplicates can affect model performance"
      ],
      "metadata": {
        "colab": {
          "base_uri": "https://localhost:8080/"
        },
        "id": "5Ca_WZQ7ajb9",
        "outputId": "e0f1ccaa-79d2-454c-e15d-521d71760cad"
      },
      "execution_count": 10,
      "outputs": [
        {
          "output_type": "stream",
          "name": "stdout",
          "text": [
            "Number of duplicate rows: 0\n"
          ]
        }
      ]
    },
    {
      "cell_type": "code",
      "source": [
        "# Display sample tweets from each class to understand the data\n",
        "\n",
        "# Print a header for the positive tweets section\n",
        "print(\"\\nSample Positive Tweets (Label 0):\")\n",
        "\n",
        "# Loop through the first 3 positive tweets and display them\n",
        "for i in range(3):\n",
        "    # Access the i-th tweet where label is 0 (positive) and print it with numbering\n",
        "    print(f\"{i+1}. {df[df['label'] == 0]['tweet'].iloc[i]}\")  # Sample positive tweet\n",
        "\n",
        "# Print a header for the negative tweets section\n",
        "print(\"\\nSample Negative Tweets (Label 1):\")\n",
        "\n",
        "# Loop through the first 3 negative tweets and display them\n",
        "for i in range(3):\n",
        "    # Access the i-th tweet where label is 1 (negative) and print it with numbering\n",
        "    print(f\"{i+1}. {df[df['label'] == 1]['tweet'].iloc[i]}\")  # Sample negative tweet\n"
      ],
      "metadata": {
        "colab": {
          "base_uri": "https://localhost:8080/"
        },
        "id": "jRl-TYczav2d",
        "outputId": "758dfffc-b3bb-4c67-87b6-1914fc14f71a"
      },
      "execution_count": 11,
      "outputs": [
        {
          "output_type": "stream",
          "name": "stdout",
          "text": [
            "\n",
            "Sample Positive Tweets (Label 0):\n",
            "1. #fingerprint #Pregnancy Test https://goo.gl/h1MfQV #android #apps #beautiful #cute #health #igers #iphoneonly #iphonesia #iphone\n",
            "2. Finally a transparant silicon case ^^ Thanks to my uncle :) #yay #Sony #Xperia #S #sonyexperias… http://instagram.com/p/YGEt5JC6JM/\n",
            "3. We love this! Would you go? #talk #makememories #unplug #relax #iphone #smartphone #wifi #connect... http://fb.me/6N3LsUpCu\n",
            "\n",
            "Sample Negative Tweets (Label 1):\n",
            "1. What amazing service! Apple won't even talk to me about a question I have unless I pay them $19.95 for their stupid support!\n",
            "2. iPhone software update fucked up my phone big time Stupid iPhones\n",
            "3. hey #apple when you make a new ipod dont make it a new color or .2inches thinner make it not crash every five fuckin minite.\n"
          ]
        }
      ]
    },
    {
      "cell_type": "code",
      "source": [
        "# Display detailed information about the dataset\n",
        "print(\"\\nDataset Information:\")\n",
        "df.info()  # Provides data types, non-null counts, memory usage"
      ],
      "metadata": {
        "colab": {
          "base_uri": "https://localhost:8080/"
        },
        "id": "xEwQCQH9avrC",
        "outputId": "3470d054-62e0-4895-ac9e-939752ed343f"
      },
      "execution_count": 12,
      "outputs": [
        {
          "output_type": "stream",
          "name": "stdout",
          "text": [
            "\n",
            "Dataset Information:\n",
            "<class 'pandas.core.frame.DataFrame'>\n",
            "RangeIndex: 7920 entries, 0 to 7919\n",
            "Data columns (total 3 columns):\n",
            " #   Column  Non-Null Count  Dtype \n",
            "---  ------  --------------  ----- \n",
            " 0   id      7920 non-null   int64 \n",
            " 1   label   7920 non-null   int64 \n",
            " 2   tweet   7920 non-null   object\n",
            "dtypes: int64(2), object(1)\n",
            "memory usage: 185.8+ KB\n"
          ]
        }
      ]
    },
    {
      "cell_type": "code",
      "source": [
        "# Check for any missing or null values\n",
        "print(\"\\nMissing Values in Each Column:\")\n",
        "print(df.isnull().sum())  # Null values can affect preprocessing and model training"
      ],
      "metadata": {
        "colab": {
          "base_uri": "https://localhost:8080/"
        },
        "id": "F8xy-9oNa8mv",
        "outputId": "f934d8f6-aff1-4343-b44a-5349f76552b6"
      },
      "execution_count": 13,
      "outputs": [
        {
          "output_type": "stream",
          "name": "stdout",
          "text": [
            "\n",
            "Missing Values in Each Column:\n",
            "id       0\n",
            "label    0\n",
            "tweet    0\n",
            "dtype: int64\n"
          ]
        }
      ]
    },
    {
      "cell_type": "markdown",
      "source": [
        "# 3. Data Preprocessing & Cleaning"
      ],
      "metadata": {
        "id": "QXUXPw4n1Dia"
      }
    },
    {
      "cell_type": "markdown",
      "source": [
        "## 3.1 Stopwords Setup and Lemmatization\n"
      ],
      "metadata": {
        "id": "SO7UsBJbblpf"
      }
    },
    {
      "cell_type": "code",
      "source": [
        "# Create a set of English stopwords\n",
        "stop_words = set(stopwords.words('english'))\n",
        "# Converts the NLTK stopwords list to a set for faster lookup during text preprocessing\n",
        "\n",
        "# Initialize WordNet Lemmatizer to get base forms of words\n",
        "lemmatizer = WordNetLemmatizer()\n",
        "# Lemmatizer converts words to their root form (e.g., 'running' → 'run') for normalization\n",
        "\n",
        "# Define a set of important words to retain\n",
        "important_words = {'not', 'no', 'but', 'very', 'too', 'so'}\n",
        "# These words are negations or intensifiers, crucial for sentiment analysis\n",
        "\n",
        "# Remove the important words from the stopwords set\n",
        "stop_words = stop_words - important_words\n",
        "# Ensures that negation and key modifiers are preserved in the text"
      ],
      "metadata": {
        "id": "u6nUVblL1zmh"
      },
      "execution_count": 14,
      "outputs": []
    },
    {
      "cell_type": "markdown",
      "source": [
        "## 3.2 Define Text Cleaning Function"
      ],
      "metadata": {
        "id": "SV7S4aIK15Pa"
      }
    },
    {
      "cell_type": "code",
      "source": [
        "def clean_tweet(text):\n",
        "    \"\"\"\n",
        "    Complete tweet cleaning and preprocessing pipeline.\n",
        "    Steps include: noise removal, lowercasing, tokenization,\n",
        "    stopwords removal, and lemmatization.\n",
        "    \"\"\"\n",
        "    # Handle missing values represented as floats (NaN)\n",
        "    if isinstance(text, float):\n",
        "        return \"\"  # Return empty string if input is NaN\n",
        "\n",
        "    # 1. Remove URLs from tweet\n",
        "    text = re.sub(r'http\\S+|www\\S+', '', text)\n",
        "    # Regular expression removes all http://, https://, or www links\n",
        "\n",
        "    # 2. Remove Twitter handles (@username)\n",
        "    text = re.sub(r'@\\w+', '', text)\n",
        "    # Removes mentions to avoid user-specific bias in analysis\n",
        "\n",
        "    # 3. Remove hashtags while keeping the word\n",
        "    text = re.sub(r'#', '', text)\n",
        "    # Converts #word → word, keeping the content but removing symbol\n",
        "\n",
        "    # 4. Keep only letters and basic punctuation (!, ?)\n",
        "    text = re.sub(r'[^a-zA-Z\\s!?]', '', text)\n",
        "    # Removes numbers, special characters, and symbols that are not relevant\n",
        "\n",
        "    # 5. Convert text to lowercase\n",
        "    text = text.lower()\n",
        "    # Ensures uniformity and avoids case-sensitive mismatches\n",
        "\n",
        "    # 6. Tokenize tweet into individual words\n",
        "    words = text.split()\n",
        "    # Splits text into a list of words for further processing\n",
        "\n",
        "    # 7️. Remove stopwords and lemmatize remaining words\n",
        "    words = [lemmatizer.lemmatize(word) for word in words if word not in stop_words]\n",
        "    # Keeps only meaningful words and normalizes them to root form\n",
        "\n",
        "    # 8. Join the list of words back into a single string\n",
        "    return \" \".join(words)\n",
        "    # Returns cleaned and preprocessed tweet\n"
      ],
      "metadata": {
        "id": "zZNQNLnY13V4"
      },
      "execution_count": 15,
      "outputs": []
    },
    {
      "cell_type": "markdown",
      "source": [
        "## 3.3 Apply Cleaning Function to Dataset"
      ],
      "metadata": {
        "id": "ai6tPa1D2NkE"
      }
    },
    {
      "cell_type": "code",
      "source": [
        "# Apply cleaning function to each tweet in the dataset\n",
        "df['clean_tweet'] = df['tweet'].apply(clean_tweet)\n",
        "# Creates a new column 'clean_tweet' with the cleaned and preprocessed version\n",
        "\n",
        "# Display a few samples before and after cleaning\n",
        "print(\"Sample of Cleaned Tweets:\")\n",
        "# Header for better readability\n",
        "\n",
        "df[['tweet', 'clean_tweet']].head()\n",
        "# Shows the original tweet and its cleaned version side by side\n",
        "# Helps verify that preprocessing is working correctly"
      ],
      "metadata": {
        "colab": {
          "base_uri": "https://localhost:8080/",
          "height": 223
        },
        "id": "iNrlZKcO2Jjl",
        "outputId": "5efbb473-c7c7-4e27-ca8f-3b266865740e"
      },
      "execution_count": 16,
      "outputs": [
        {
          "output_type": "stream",
          "name": "stdout",
          "text": [
            "Sample of Cleaned Tweets:\n"
          ]
        },
        {
          "output_type": "execute_result",
          "data": {
            "text/plain": [
              "                                               tweet  \\\n",
              "0  #fingerprint #Pregnancy Test https://goo.gl/h1...   \n",
              "1  Finally a transparant silicon case ^^ Thanks t...   \n",
              "2  We love this! Would you go? #talk #makememorie...   \n",
              "3  I'm wired I know I'm George I was made that wa...   \n",
              "4  What amazing service! Apple won't even talk to...   \n",
              "\n",
              "                                         clean_tweet  \n",
              "0  fingerprint pregnancy test android apps beauti...  \n",
              "1  finally transparant silicon case thanks uncle ...  \n",
              "2  love this! would go? talk makememories unplug ...  \n",
              "3  im wired know im george made way iphone cute d...  \n",
              "4  amazing service! apple wont even talk question...  "
            ],
            "text/html": [
              "\n",
              "  <div id=\"df-769e4967-8a52-4c13-8b29-42f1d345fdcf\" class=\"colab-df-container\">\n",
              "    <div>\n",
              "<style scoped>\n",
              "    .dataframe tbody tr th:only-of-type {\n",
              "        vertical-align: middle;\n",
              "    }\n",
              "\n",
              "    .dataframe tbody tr th {\n",
              "        vertical-align: top;\n",
              "    }\n",
              "\n",
              "    .dataframe thead th {\n",
              "        text-align: right;\n",
              "    }\n",
              "</style>\n",
              "<table border=\"1\" class=\"dataframe\">\n",
              "  <thead>\n",
              "    <tr style=\"text-align: right;\">\n",
              "      <th></th>\n",
              "      <th>tweet</th>\n",
              "      <th>clean_tweet</th>\n",
              "    </tr>\n",
              "  </thead>\n",
              "  <tbody>\n",
              "    <tr>\n",
              "      <th>0</th>\n",
              "      <td>#fingerprint #Pregnancy Test https://goo.gl/h1...</td>\n",
              "      <td>fingerprint pregnancy test android apps beauti...</td>\n",
              "    </tr>\n",
              "    <tr>\n",
              "      <th>1</th>\n",
              "      <td>Finally a transparant silicon case ^^ Thanks t...</td>\n",
              "      <td>finally transparant silicon case thanks uncle ...</td>\n",
              "    </tr>\n",
              "    <tr>\n",
              "      <th>2</th>\n",
              "      <td>We love this! Would you go? #talk #makememorie...</td>\n",
              "      <td>love this! would go? talk makememories unplug ...</td>\n",
              "    </tr>\n",
              "    <tr>\n",
              "      <th>3</th>\n",
              "      <td>I'm wired I know I'm George I was made that wa...</td>\n",
              "      <td>im wired know im george made way iphone cute d...</td>\n",
              "    </tr>\n",
              "    <tr>\n",
              "      <th>4</th>\n",
              "      <td>What amazing service! Apple won't even talk to...</td>\n",
              "      <td>amazing service! apple wont even talk question...</td>\n",
              "    </tr>\n",
              "  </tbody>\n",
              "</table>\n",
              "</div>\n",
              "    <div class=\"colab-df-buttons\">\n",
              "\n",
              "  <div class=\"colab-df-container\">\n",
              "    <button class=\"colab-df-convert\" onclick=\"convertToInteractive('df-769e4967-8a52-4c13-8b29-42f1d345fdcf')\"\n",
              "            title=\"Convert this dataframe to an interactive table.\"\n",
              "            style=\"display:none;\">\n",
              "\n",
              "  <svg xmlns=\"http://www.w3.org/2000/svg\" height=\"24px\" viewBox=\"0 -960 960 960\">\n",
              "    <path d=\"M120-120v-720h720v720H120Zm60-500h600v-160H180v160Zm220 220h160v-160H400v160Zm0 220h160v-160H400v160ZM180-400h160v-160H180v160Zm440 0h160v-160H620v160ZM180-180h160v-160H180v160Zm440 0h160v-160H620v160Z\"/>\n",
              "  </svg>\n",
              "    </button>\n",
              "\n",
              "  <style>\n",
              "    .colab-df-container {\n",
              "      display:flex;\n",
              "      gap: 12px;\n",
              "    }\n",
              "\n",
              "    .colab-df-convert {\n",
              "      background-color: #E8F0FE;\n",
              "      border: none;\n",
              "      border-radius: 50%;\n",
              "      cursor: pointer;\n",
              "      display: none;\n",
              "      fill: #1967D2;\n",
              "      height: 32px;\n",
              "      padding: 0 0 0 0;\n",
              "      width: 32px;\n",
              "    }\n",
              "\n",
              "    .colab-df-convert:hover {\n",
              "      background-color: #E2EBFA;\n",
              "      box-shadow: 0px 1px 2px rgba(60, 64, 67, 0.3), 0px 1px 3px 1px rgba(60, 64, 67, 0.15);\n",
              "      fill: #174EA6;\n",
              "    }\n",
              "\n",
              "    .colab-df-buttons div {\n",
              "      margin-bottom: 4px;\n",
              "    }\n",
              "\n",
              "    [theme=dark] .colab-df-convert {\n",
              "      background-color: #3B4455;\n",
              "      fill: #D2E3FC;\n",
              "    }\n",
              "\n",
              "    [theme=dark] .colab-df-convert:hover {\n",
              "      background-color: #434B5C;\n",
              "      box-shadow: 0px 1px 3px 1px rgba(0, 0, 0, 0.15);\n",
              "      filter: drop-shadow(0px 1px 2px rgba(0, 0, 0, 0.3));\n",
              "      fill: #FFFFFF;\n",
              "    }\n",
              "  </style>\n",
              "\n",
              "    <script>\n",
              "      const buttonEl =\n",
              "        document.querySelector('#df-769e4967-8a52-4c13-8b29-42f1d345fdcf button.colab-df-convert');\n",
              "      buttonEl.style.display =\n",
              "        google.colab.kernel.accessAllowed ? 'block' : 'none';\n",
              "\n",
              "      async function convertToInteractive(key) {\n",
              "        const element = document.querySelector('#df-769e4967-8a52-4c13-8b29-42f1d345fdcf');\n",
              "        const dataTable =\n",
              "          await google.colab.kernel.invokeFunction('convertToInteractive',\n",
              "                                                    [key], {});\n",
              "        if (!dataTable) return;\n",
              "\n",
              "        const docLinkHtml = 'Like what you see? Visit the ' +\n",
              "          '<a target=\"_blank\" href=https://colab.research.google.com/notebooks/data_table.ipynb>data table notebook</a>'\n",
              "          + ' to learn more about interactive tables.';\n",
              "        element.innerHTML = '';\n",
              "        dataTable['output_type'] = 'display_data';\n",
              "        await google.colab.output.renderOutput(dataTable, element);\n",
              "        const docLink = document.createElement('div');\n",
              "        docLink.innerHTML = docLinkHtml;\n",
              "        element.appendChild(docLink);\n",
              "      }\n",
              "    </script>\n",
              "  </div>\n",
              "\n",
              "\n",
              "    <div id=\"df-11826d96-47ea-42fb-a8d1-7a706c4a5260\">\n",
              "      <button class=\"colab-df-quickchart\" onclick=\"quickchart('df-11826d96-47ea-42fb-a8d1-7a706c4a5260')\"\n",
              "                title=\"Suggest charts\"\n",
              "                style=\"display:none;\">\n",
              "\n",
              "<svg xmlns=\"http://www.w3.org/2000/svg\" height=\"24px\"viewBox=\"0 0 24 24\"\n",
              "     width=\"24px\">\n",
              "    <g>\n",
              "        <path d=\"M19 3H5c-1.1 0-2 .9-2 2v14c0 1.1.9 2 2 2h14c1.1 0 2-.9 2-2V5c0-1.1-.9-2-2-2zM9 17H7v-7h2v7zm4 0h-2V7h2v10zm4 0h-2v-4h2v4z\"/>\n",
              "    </g>\n",
              "</svg>\n",
              "      </button>\n",
              "\n",
              "<style>\n",
              "  .colab-df-quickchart {\n",
              "      --bg-color: #E8F0FE;\n",
              "      --fill-color: #1967D2;\n",
              "      --hover-bg-color: #E2EBFA;\n",
              "      --hover-fill-color: #174EA6;\n",
              "      --disabled-fill-color: #AAA;\n",
              "      --disabled-bg-color: #DDD;\n",
              "  }\n",
              "\n",
              "  [theme=dark] .colab-df-quickchart {\n",
              "      --bg-color: #3B4455;\n",
              "      --fill-color: #D2E3FC;\n",
              "      --hover-bg-color: #434B5C;\n",
              "      --hover-fill-color: #FFFFFF;\n",
              "      --disabled-bg-color: #3B4455;\n",
              "      --disabled-fill-color: #666;\n",
              "  }\n",
              "\n",
              "  .colab-df-quickchart {\n",
              "    background-color: var(--bg-color);\n",
              "    border: none;\n",
              "    border-radius: 50%;\n",
              "    cursor: pointer;\n",
              "    display: none;\n",
              "    fill: var(--fill-color);\n",
              "    height: 32px;\n",
              "    padding: 0;\n",
              "    width: 32px;\n",
              "  }\n",
              "\n",
              "  .colab-df-quickchart:hover {\n",
              "    background-color: var(--hover-bg-color);\n",
              "    box-shadow: 0 1px 2px rgba(60, 64, 67, 0.3), 0 1px 3px 1px rgba(60, 64, 67, 0.15);\n",
              "    fill: var(--button-hover-fill-color);\n",
              "  }\n",
              "\n",
              "  .colab-df-quickchart-complete:disabled,\n",
              "  .colab-df-quickchart-complete:disabled:hover {\n",
              "    background-color: var(--disabled-bg-color);\n",
              "    fill: var(--disabled-fill-color);\n",
              "    box-shadow: none;\n",
              "  }\n",
              "\n",
              "  .colab-df-spinner {\n",
              "    border: 2px solid var(--fill-color);\n",
              "    border-color: transparent;\n",
              "    border-bottom-color: var(--fill-color);\n",
              "    animation:\n",
              "      spin 1s steps(1) infinite;\n",
              "  }\n",
              "\n",
              "  @keyframes spin {\n",
              "    0% {\n",
              "      border-color: transparent;\n",
              "      border-bottom-color: var(--fill-color);\n",
              "      border-left-color: var(--fill-color);\n",
              "    }\n",
              "    20% {\n",
              "      border-color: transparent;\n",
              "      border-left-color: var(--fill-color);\n",
              "      border-top-color: var(--fill-color);\n",
              "    }\n",
              "    30% {\n",
              "      border-color: transparent;\n",
              "      border-left-color: var(--fill-color);\n",
              "      border-top-color: var(--fill-color);\n",
              "      border-right-color: var(--fill-color);\n",
              "    }\n",
              "    40% {\n",
              "      border-color: transparent;\n",
              "      border-right-color: var(--fill-color);\n",
              "      border-top-color: var(--fill-color);\n",
              "    }\n",
              "    60% {\n",
              "      border-color: transparent;\n",
              "      border-right-color: var(--fill-color);\n",
              "    }\n",
              "    80% {\n",
              "      border-color: transparent;\n",
              "      border-right-color: var(--fill-color);\n",
              "      border-bottom-color: var(--fill-color);\n",
              "    }\n",
              "    90% {\n",
              "      border-color: transparent;\n",
              "      border-bottom-color: var(--fill-color);\n",
              "    }\n",
              "  }\n",
              "</style>\n",
              "\n",
              "      <script>\n",
              "        async function quickchart(key) {\n",
              "          const quickchartButtonEl =\n",
              "            document.querySelector('#' + key + ' button');\n",
              "          quickchartButtonEl.disabled = true;  // To prevent multiple clicks.\n",
              "          quickchartButtonEl.classList.add('colab-df-spinner');\n",
              "          try {\n",
              "            const charts = await google.colab.kernel.invokeFunction(\n",
              "                'suggestCharts', [key], {});\n",
              "          } catch (error) {\n",
              "            console.error('Error during call to suggestCharts:', error);\n",
              "          }\n",
              "          quickchartButtonEl.classList.remove('colab-df-spinner');\n",
              "          quickchartButtonEl.classList.add('colab-df-quickchart-complete');\n",
              "        }\n",
              "        (() => {\n",
              "          let quickchartButtonEl =\n",
              "            document.querySelector('#df-11826d96-47ea-42fb-a8d1-7a706c4a5260 button');\n",
              "          quickchartButtonEl.style.display =\n",
              "            google.colab.kernel.accessAllowed ? 'block' : 'none';\n",
              "        })();\n",
              "      </script>\n",
              "    </div>\n",
              "\n",
              "    </div>\n",
              "  </div>\n"
            ],
            "application/vnd.google.colaboratory.intrinsic+json": {
              "type": "dataframe",
              "summary": "{\n  \"name\": \"# Helps verify that preprocessing is working correctly\",\n  \"rows\": 5,\n  \"fields\": [\n    {\n      \"column\": \"tweet\",\n      \"properties\": {\n        \"dtype\": \"string\",\n        \"num_unique_values\": 5,\n        \"samples\": [\n          \"Finally a transparant silicon case ^^ Thanks to my uncle :) #yay #Sony #Xperia #S #sonyexperias\\u2026 http://instagram.com/p/YGEt5JC6JM/\",\n          \"What amazing service! Apple won't even talk to me about a question I have unless I pay them $19.95 for their stupid support!\",\n          \"We love this! Would you go? #talk #makememories #unplug #relax #iphone #smartphone #wifi #connect... http://fb.me/6N3LsUpCu\"\n        ],\n        \"semantic_type\": \"\",\n        \"description\": \"\"\n      }\n    },\n    {\n      \"column\": \"clean_tweet\",\n      \"properties\": {\n        \"dtype\": \"string\",\n        \"num_unique_values\": 5,\n        \"samples\": [\n          \"finally transparant silicon case thanks uncle yay sony xperia sonyexperias\",\n          \"amazing service! apple wont even talk question unless pay stupid support!\",\n          \"love this! would go? talk makememories unplug relax iphone smartphone wifi connect\"\n        ],\n        \"semantic_type\": \"\",\n        \"description\": \"\"\n      }\n    }\n  ]\n}"
            }
          },
          "metadata": {},
          "execution_count": 16
        }
      ]
    },
    {
      "cell_type": "markdown",
      "source": [
        "# 4. Feature Extraction"
      ],
      "metadata": {
        "id": "rz8IDl1E7DzP"
      }
    },
    {
      "cell_type": "code",
      "source": [
        "# Initialize the TF-IDF Vectorizer\n",
        "tfidf_vectorizer = TfidfVectorizer(\n",
        "    max_features=8000,       # Limit the number of features (top 8000) to reduce dimensionality\n",
        "    ngram_range=(1,2),       # Include unigrams (1-word) and bigrams (2-word combinations)\n",
        "    min_df=2,                # Ignore words that appear in less than 2 documents\n",
        "    max_df=0.8,              # Ignore words that appear in more than 80% of documents (too common)\n",
        "    stop_words='english'     # Remove standard English stopwords during vectorization\n",
        ")\n",
        "\n",
        "# Fit the vectorizer on the cleaned tweets and transform into TF-IDF feature matrix\n",
        "X = tfidf_vectorizer.fit_transform(df['clean_tweet'])\n",
        "# 'X' is a sparse matrix representing TF-IDF features of all tweets\n",
        "\n",
        "# Set target variable (labels) for sentiment classification\n",
        "y = df['label']\n",
        "# 'y' contains the sentiment labels: 0 = Negative, 1 = Positive\n",
        "\n",
        "# Display the shape of the TF-IDF feature matrix\n",
        "print(f\"\\nTF-IDF Matrix: {X.shape}\")\n",
        "# Shows number of tweets (rows) and number of features (columns)"
      ],
      "metadata": {
        "colab": {
          "base_uri": "https://localhost:8080/"
        },
        "id": "hvsLoABXchKX",
        "outputId": "b97e5c03-8529-4b77-e511-365a3cf862f5"
      },
      "execution_count": 17,
      "outputs": [
        {
          "output_type": "stream",
          "name": "stdout",
          "text": [
            "\n",
            "TF-IDF Matrix: (7920, 8000)\n"
          ]
        }
      ]
    },
    {
      "cell_type": "markdown",
      "source": [
        "# 5. Dataset Splitting (Train-Test Split)"
      ],
      "metadata": {
        "id": "adzwVzpccvoP"
      }
    },
    {
      "cell_type": "code",
      "source": [
        "# Split the dataset into training and testing sets\n",
        "X_train, X_test, y_train, y_test = train_test_split(\n",
        "    X, y,                   # Feature matrix X and target labels y\n",
        "    test_size=0.2,          # 20% of data will be used for testing\n",
        "    random_state=42,        # Ensures reproducibility of the split\n",
        "    stratify=y              # Maintains the same proportion of labels in train and test sets\n",
        ")"
      ],
      "metadata": {
        "id": "d1hRLoYDcoYJ"
      },
      "execution_count": 18,
      "outputs": []
    },
    {
      "cell_type": "code",
      "source": [
        "# Display the shapes of training and testing sets\n",
        "print(f\"Train: {X_train.shape}, Test: {X_test.shape}\")\n",
        "# Confirms correct split: number of samples and features for both sets"
      ],
      "metadata": {
        "colab": {
          "base_uri": "https://localhost:8080/"
        },
        "id": "8ckBTaSfc57n",
        "outputId": "6e5ea623-ab65-48b8-a999-aa8a54945b87"
      },
      "execution_count": 19,
      "outputs": [
        {
          "output_type": "stream",
          "name": "stdout",
          "text": [
            "Train: (6336, 8000), Test: (1584, 8000)\n"
          ]
        }
      ]
    },
    {
      "cell_type": "markdown",
      "source": [
        "# 6. Model Definition"
      ],
      "metadata": {
        "id": "5UhiKu7wd94S"
      }
    },
    {
      "cell_type": "code",
      "source": [
        "# Define multiple machine learning models for sentiment classification\n",
        "# Each model is stored in a dictionary with its name as the key\n",
        "models = {\n",
        "    # Logistic Regression – Linear model suitable for text classification\n",
        "    'Logistic Regression': LogisticRegression(\n",
        "        max_iter=1000,      # Maximum number of iterations for convergence\n",
        "        random_state=42     # Ensures reproducibility\n",
        "    ),\n",
        "\n",
        "    # Random Forest – Ensemble of decision trees using bagging\n",
        "    'Random Forest': RandomForestClassifier(\n",
        "        n_estimators=150,   # Number of trees in the forest\n",
        "        random_state=42     # Reproducibility\n",
        "    ),\n",
        "\n",
        "    # Support Vector Machine (Linear Kernel) – Effective for high-dimensional data\n",
        "    'SVM (Linear)': SVC(\n",
        "        kernel='linear',    # Linear decision boundary\n",
        "        probability=True,   # Enables probability estimates\n",
        "        random_state=42     # Reproducibility\n",
        "    ),\n",
        "\n",
        "    # Naive Bayes – Probabilistic classifier, suitable for text data\n",
        "    'Naive Bayes': MultinomialNB(),  # Uses term frequencies for prediction\n",
        "\n",
        "    # Gradient Boosting – Sequential boosting to reduce errors\n",
        "    'Gradient Boosting': GradientBoostingClassifier(\n",
        "        random_state=42     # Reproducibility\n",
        "    ),\n",
        "\n",
        "    # AdaBoost – Boosting ensemble of weak learners\n",
        "    'AdaBoost': AdaBoostClassifier(\n",
        "        n_estimators=100,   # Number of weak learners\n",
        "        random_state=42     # Reproducibility\n",
        "    ),\n",
        "\n",
        "    # XGBoost – Advanced gradient boosting algorithm\n",
        "    'XGBoost': XGBClassifier(\n",
        "        n_estimators=150,       # Number of boosting rounds\n",
        "        learning_rate=0.1,      # Step size shrinkage to prevent overfitting\n",
        "        random_state=42,        # Reproducibility\n",
        "        eval_metric='logloss',  # Evaluation metric for classification\n",
        "        use_label_encoder=False # Avoids deprecation warning\n",
        "    )\n",
        "}"
      ],
      "metadata": {
        "id": "lFe-KVu_c7tW"
      },
      "execution_count": 20,
      "outputs": []
    },
    {
      "cell_type": "markdown",
      "source": [
        "# 7. Model Training and Evaluation"
      ],
      "metadata": {
        "id": "pUn1oJrfeIv5"
      }
    },
    {
      "cell_type": "code",
      "source": [
        "# Initialize dictionaries to store results and predictions for each model\n",
        "results = {}       # Stores accuracy scores for all models\n",
        "predictions = {}   # Stores predicted labels for each model\n",
        "\n",
        "# Print a message to indicate training has started\n",
        "print(\"\\nTraining models...\")\n",
        "\n",
        "# Loop through each model defined in the 'models' dictionary\n",
        "for name, model in models.items():\n",
        "\n",
        "    # Print the name of the model currently being trained\n",
        "    print(f\"\\n Training: {name}\")\n",
        "\n",
        "    # Train the model using the training set\n",
        "    model.fit(X_train, y_train)\n",
        "    # Fits the model parameters to the training data\n",
        "\n",
        "    # Make predictions on the test set\n",
        "    y_pred = model.predict(X_test)\n",
        "\n",
        "    # Calculate accuracy of the model on the test set\n",
        "    acc = accuracy_score(y_test, y_pred)\n",
        "\n",
        "    # Store the accuracy in the results dictionary\n",
        "    results[name] = acc\n",
        "\n",
        "    # Store the predicted labels in the predictions dictionary\n",
        "    predictions[name] = y_pred\n",
        "\n",
        "    # Print the accuracy of the model\n",
        "    print(f\"Accuracy: {acc:.4f}\")\n",
        "\n",
        "    # Print a detailed classification report\n",
        "    # Includes precision, recall, f1-score, and support for each class\n",
        "    print(classification_report(\n",
        "        y_test,\n",
        "        y_pred,\n",
        "        target_names=['Positive','Negative']  # Map 0 and 1 to readable class names\n",
        "    ))"
      ],
      "metadata": {
        "colab": {
          "base_uri": "https://localhost:8080/"
        },
        "id": "WJV12YlKeHCZ",
        "outputId": "0b36a564-4e29-4384-b908-f2b8b6bd7e48"
      },
      "execution_count": 21,
      "outputs": [
        {
          "output_type": "stream",
          "name": "stdout",
          "text": [
            "\n",
            "Training models...\n",
            "\n",
            " Training: Logistic Regression\n",
            "Accuracy: 0.8782\n",
            "              precision    recall  f1-score   support\n",
            "\n",
            "    Positive       0.89      0.96      0.92      1179\n",
            "    Negative       0.85      0.64      0.73       405\n",
            "\n",
            "    accuracy                           0.88      1584\n",
            "   macro avg       0.87      0.80      0.83      1584\n",
            "weighted avg       0.88      0.88      0.87      1584\n",
            "\n",
            "\n",
            " Training: Random Forest\n",
            "Accuracy: 0.8737\n",
            "              precision    recall  f1-score   support\n",
            "\n",
            "    Positive       0.89      0.95      0.92      1179\n",
            "    Negative       0.82      0.65      0.72       405\n",
            "\n",
            "    accuracy                           0.87      1584\n",
            "   macro avg       0.85      0.80      0.82      1584\n",
            "weighted avg       0.87      0.87      0.87      1584\n",
            "\n",
            "\n",
            " Training: SVM (Linear)\n",
            "Accuracy: 0.8914\n",
            "              precision    recall  f1-score   support\n",
            "\n",
            "    Positive       0.92      0.94      0.93      1179\n",
            "    Negative       0.81      0.75      0.78       405\n",
            "\n",
            "    accuracy                           0.89      1584\n",
            "   macro avg       0.86      0.85      0.85      1584\n",
            "weighted avg       0.89      0.89      0.89      1584\n",
            "\n",
            "\n",
            " Training: Naive Bayes\n",
            "Accuracy: 0.8864\n",
            "              precision    recall  f1-score   support\n",
            "\n",
            "    Positive       0.91      0.94      0.93      1179\n",
            "    Negative       0.82      0.72      0.76       405\n",
            "\n",
            "    accuracy                           0.89      1584\n",
            "   macro avg       0.86      0.83      0.84      1584\n",
            "weighted avg       0.88      0.89      0.88      1584\n",
            "\n",
            "\n",
            " Training: Gradient Boosting\n",
            "Accuracy: 0.8384\n",
            "              precision    recall  f1-score   support\n",
            "\n",
            "    Positive       0.84      0.96      0.90      1179\n",
            "    Negative       0.82      0.47      0.60       405\n",
            "\n",
            "    accuracy                           0.84      1584\n",
            "   macro avg       0.83      0.72      0.75      1584\n",
            "weighted avg       0.84      0.84      0.82      1584\n",
            "\n",
            "\n",
            " Training: AdaBoost\n",
            "Accuracy: 0.7759\n",
            "              precision    recall  f1-score   support\n",
            "\n",
            "    Positive       0.82      0.90      0.86      1179\n",
            "    Negative       0.58      0.43      0.49       405\n",
            "\n",
            "    accuracy                           0.78      1584\n",
            "   macro avg       0.70      0.66      0.67      1584\n",
            "weighted avg       0.76      0.78      0.76      1584\n",
            "\n",
            "\n",
            " Training: XGBoost\n"
          ]
        },
        {
          "output_type": "stream",
          "name": "stderr",
          "text": [
            "/usr/local/lib/python3.12/dist-packages/xgboost/training.py:199: UserWarning: [15:16:08] WARNING: /workspace/src/learner.cc:790: \n",
            "Parameters: { \"use_label_encoder\" } are not used.\n",
            "\n",
            "  bst.update(dtrain, iteration=i, fobj=obj)\n"
          ]
        },
        {
          "output_type": "stream",
          "name": "stdout",
          "text": [
            "Accuracy: 0.8674\n",
            "              precision    recall  f1-score   support\n",
            "\n",
            "    Positive       0.88      0.95      0.91      1179\n",
            "    Negative       0.81      0.62      0.71       405\n",
            "\n",
            "    accuracy                           0.87      1584\n",
            "   macro avg       0.85      0.79      0.81      1584\n",
            "weighted avg       0.86      0.87      0.86      1584\n",
            "\n"
          ]
        }
      ]
    },
    {
      "cell_type": "markdown",
      "source": [
        "# 8. Model Performance Comparison"
      ],
      "metadata": {
        "id": "9taLwZRUebaJ"
      }
    },
    {
      "cell_type": "code",
      "source": [
        "# Print a formatted header for the comparison section\n",
        "print(\"\\n\" + \"=\"*60)\n",
        "print(\"MODEL PERFORMANCE COMPARISON\")\n",
        "print(\"=\"*60)\n",
        "\n",
        "# Identify the best model based on accuracy\n",
        "best_model_name = max(results, key=results.get)\n",
        "# 'max' returns the key (model name) with the highest accuracy value\n",
        "\n",
        "best_accuracy = results[best_model_name]\n",
        "# Get the corresponding accuracy value of the best model\n",
        "\n",
        "# Print the best model and its accuracy\n",
        "print(f\"Best Model: {best_model_name} ({best_accuracy:.4f} Accuracy)\\n\")\n",
        "\n",
        "# Print accuracy of all models in descending order\n",
        "for name, acc in sorted(results.items(), key=lambda x: x[1], reverse=True):\n",
        "    # 'sorted' orders models by accuracy from highest to lowest\n",
        "    # 'x[1]' refers to the accuracy value in the (model_name, accuracy) tuple\n",
        "    # '<20' ensures model names are left-aligned with uniform spacing for readability\n",
        "    print(f\"{name:<20}: {acc:.4f}\")"
      ],
      "metadata": {
        "colab": {
          "base_uri": "https://localhost:8080/"
        },
        "id": "q9PY0AcQeVNO",
        "outputId": "bb246306-32dc-40ad-9c91-baa04141b964"
      },
      "execution_count": 22,
      "outputs": [
        {
          "output_type": "stream",
          "name": "stdout",
          "text": [
            "\n",
            "============================================================\n",
            "MODEL PERFORMANCE COMPARISON\n",
            "============================================================\n",
            "Best Model: SVM (Linear) (0.8914 Accuracy)\n",
            "\n",
            "SVM (Linear)        : 0.8914\n",
            "Naive Bayes         : 0.8864\n",
            "Logistic Regression : 0.8782\n",
            "Random Forest       : 0.8737\n",
            "XGBoost             : 0.8674\n",
            "Gradient Boosting   : 0.8384\n",
            "AdaBoost            : 0.7759\n"
          ]
        }
      ]
    },
    {
      "cell_type": "markdown",
      "source": [
        "# 9. Visualization of Model Performance"
      ],
      "metadata": {
        "id": "7gI7h5iiewNq"
      }
    },
    {
      "cell_type": "code",
      "source": [
        "# Set the figure size for the plot\n",
        "plt.figure(figsize=(14,9))\n",
        "# Creates a wide figure for better visibility of all model names\n",
        "\n",
        "# Create a barplot using Seaborn to visualize model accuracies\n",
        "sns.barplot(\n",
        "    x=list(results.keys()),    # X-axis: Model names\n",
        "    y=list(results.values()),  # Y-axis: Corresponding accuracy values\n",
        "    palette='viridis',         # Color palette for bars\n",
        "\n",
        ")\n",
        "\n",
        "# Add a title to the plot\n",
        "plt.title(\"Model Accuracy Comparison\", fontsize=14)\n",
        "# Describes the purpose of the chart\n",
        "\n",
        "# Label the Y-axis\n",
        "plt.ylabel(\"Accuracy\")\n",
        "# Shows metric being compared\n",
        "\n",
        "# Rotate X-axis labels for better readability\n",
        "plt.xticks(rotation=45)\n",
        "# Prevents overlap of model names\n",
        "\n",
        "# Adjust layout to prevent clipping of labels/titles\n",
        "plt.tight_layout()\n",
        "\n",
        "# Display the plot\n",
        "plt.show()\n",
        "# Renders the visualization in the output"
      ],
      "metadata": {
        "colab": {
          "base_uri": "https://localhost:8080/",
          "height": 994
        },
        "id": "gPTO6qzzepbt",
        "outputId": "370dc920-8dca-40da-a974-6f00cf4818e9"
      },
      "execution_count": 23,
      "outputs": [
        {
          "output_type": "stream",
          "name": "stderr",
          "text": [
            "/tmp/ipython-input-1326625230.py:6: FutureWarning: \n",
            "\n",
            "Passing `palette` without assigning `hue` is deprecated and will be removed in v0.14.0. Assign the `x` variable to `hue` and set `legend=False` for the same effect.\n",
            "\n",
            "  sns.barplot(\n"
          ]
        },
        {
          "output_type": "display_data",
          "data": {
            "text/plain": [
              "<Figure size 1400x900 with 1 Axes>"
            ],
            "image/png": "[encoded data removed]"
          },
          "metadata": {}
        }
      ]
    },
    {
      "cell_type": "markdown",
      "source": [
        "**Insight:**\n",
        "\n",
        "The bar plot shows that SVM (Linear) achieved the highest accuracy (0.8914) among seven models, followed by Naive Bayes (0.8864) and Logistic Regression (0.8782), while ensemble methods like Random Forest, Gradient Boosting, AdaBoost, and XGBoost performed slightly lower, with AdaBoost the least (0.7759). This indicates that linear and probabilistic models are highly effective for text-based sentiment analysis, and simpler linear separation can outperform complex ensembles for this dataset.\n",
        "\n",
        "**Conclusion:** **SVM (Linear) is the most reliable choice for classifying tweet sentiments.**"
      ],
      "metadata": {
        "id": "eHZxTux4obNl"
      }
    },
    {
      "cell_type": "markdown",
      "source": [
        "# 10. Confusion Matrix of the Best Model"
      ],
      "metadata": {
        "id": "Eu2lM6rZgWR6"
      }
    },
    {
      "cell_type": "code",
      "source": [
        "# Set the figure size for the confusion matrix plot\n",
        "plt.figure(figsize=(5,4))\n",
        "# Creates a compact figure suitable for a single confusion matrix\n",
        "\n",
        "# Compute the confusion matrix\n",
        "cm = confusion_matrix(y_test, predictions[best_model_name])\n",
        "# Compares actual labels (y_test) with predicted labels of the best model\n",
        "\n",
        "# Plot the confusion matrix as a heatmap using Seaborn\n",
        "sns.heatmap(\n",
        "    cm,                      # Confusion matrix data\n",
        "    annot=True,              # Display numbers in each cell\n",
        "    fmt='d',                 # Format numbers as integers\n",
        "    cmap='Blues',            # Color map for visual appeal\n",
        "    xticklabels=['Positive','Negative'],  # X-axis labels\n",
        "    yticklabels=['Positive','Negative']   # Y-axis labels\n",
        ")\n",
        "\n",
        "# Add a title indicating which model this confusion matrix represents\n",
        "plt.title(f\"Confusion Matrix - {best_model_name}\")\n",
        "\n",
        "# Label X-axis\n",
        "plt.xlabel(\"Predicted\")\n",
        "\n",
        "# Label Y-axis\n",
        "plt.ylabel(\"Actual\")\n",
        "\n",
        "# Display the plot\n",
        "plt.show()\n",
        "# Renders the confusion matrix visualization"
      ],
      "metadata": {
        "colab": {
          "base_uri": "https://localhost:8080/",
          "height": 410
        },
        "id": "ygN9ZQ2Ye2L7",
        "outputId": "cfb6cc89-8514-4877-d2d4-e003a0a01154"
      },
      "execution_count": 24,
      "outputs": [
        {
          "output_type": "display_data",
          "data": {
            "text/plain": [
              "<Figure size 500x400 with 2 Axes>"
            ],
            "image/png": "[encoded data removed]"
          },
          "metadata": {}
        }
      ]
    },
    {
      "cell_type": "markdown",
      "source": [
        "**Insight:**\n",
        "\n",
        "The confusion matrix shows that out of 1179 positive tweets, 1108 were correctly classified, and out of 405 negative tweets, 304 were correctly classified. The model demonstrates higher recall for positive tweets (0.94) than negative (0.75), indicating a slight bias toward positive sentiment due to class imbalance. Most misclassifications occur in the smaller negative class, suggesting that adding features or addressing imbalance could improve performance.\n",
        "\n",
        "**Conclusion: SVM (Linear) provides robust predictions with minor bias toward positive tweets.**"
      ],
      "metadata": {
        "id": "oQgYA_hUoxl0"
      }
    },
    {
      "cell_type": "markdown",
      "source": [
        "# 11. Train Final Model on Entire Dataset"
      ],
      "metadata": {
        "id": "tIUhoMu4gcl7"
      }
    },
    {
      "cell_type": "code",
      "source": [
        "# Select the best performing model based on previous evaluation\n",
        "final_model = models[best_model_name]\n",
        "# 'best_model_name' contains the model with highest accuracy\n",
        "\n",
        "# Train the selected model on the entire dataset (features + labels)\n",
        "final_model.fit(X, y)\n",
        "# Allows the model to learn from all available data for future predictions\n",
        "# This is done after evaluation to maximize the knowledge used in the final model"
      ],
      "metadata": {
        "colab": {
          "base_uri": "https://localhost:8080/",
          "height": 80
        },
        "id": "8ZWkXAgngZvQ",
        "outputId": "74e0e058-3165-49fc-8c20-521907017f7b"
      },
      "execution_count": 25,
      "outputs": [
        {
          "output_type": "execute_result",
          "data": {
            "text/plain": [
              "SVC(kernel='linear', probability=True, random_state=42)"
            ],
            "text/html": [
              "<style>#sk-container-id-1 {\n",
              "  /* Definition of color scheme common for light and dark mode */\n",
              "  --sklearn-color-text: #000;\n",
              "  --sklearn-color-text-muted: #666;\n",
              "  --sklearn-color-line: gray;\n",
              "  /* Definition of color scheme for unfitted estimators */\n",
              "  --sklearn-color-unfitted-level-0: #fff5e6;\n",
              "  --sklearn-color-unfitted-level-1: #f6e4d2;\n",
              "  --sklearn-color-unfitted-level-2: #ffe0b3;\n",
              "  --sklearn-color-unfitted-level-3: chocolate;\n",
              "  /* Definition of color scheme for fitted estimators */\n",
              "  --sklearn-color-fitted-level-0: #f0f8ff;\n",
              "  --sklearn-color-fitted-level-1: #d4ebff;\n",
              "  --sklearn-color-fitted-level-2: #b3dbfd;\n",
              "  --sklearn-color-fitted-level-3: cornflowerblue;\n",
              "\n",
              "  /* Specific color for light theme */\n",
              "  --sklearn-color-text-on-default-background: var(--sg-text-color, var(--theme-code-foreground, var(--jp-content-font-color1, black)));\n",
              "  --sklearn-color-background: var(--sg-background-color, var(--theme-background, var(--jp-layout-color0, white)));\n",
              "  --sklearn-color-border-box: var(--sg-text-color, var(--theme-code-foreground, var(--jp-content-font-color1, black)));\n",
              "  --sklearn-color-icon: #696969;\n",
              "\n",
              "  @media (prefers-color-scheme: dark) {\n",
              "    /* Redefinition of color scheme for dark theme */\n",
              "    --sklearn-color-text-on-default-background: var(--sg-text-color, var(--theme-code-foreground, var(--jp-content-font-color1, white)));\n",
              "    --sklearn-color-background: var(--sg-background-color, var(--theme-background, var(--jp-layout-color0, #111)));\n",
              "    --sklearn-color-border-box: var(--sg-text-color, var(--theme-code-foreground, var(--jp-content-font-color1, white)));\n",
              "    --sklearn-color-icon: #878787;\n",
              "  }\n",
              "}\n",
              "\n",
              "#sk-container-id-1 {\n",
              "  color: var(--sklearn-color-text);\n",
              "}\n",
              "\n",
              "#sk-container-id-1 pre {\n",
              "  padding: 0;\n",
              "}\n",
              "\n",
              "#sk-container-id-1 input.sk-hidden--visually {\n",
              "  border: 0;\n",
              "  clip: rect(1px 1px 1px 1px);\n",
              "  clip: rect(1px, 1px, 1px, 1px);\n",
              "  height: 1px;\n",
              "  margin: -1px;\n",
              "  overflow: hidden;\n",
              "  padding: 0;\n",
              "  position: absolute;\n",
              "  width: 1px;\n",
              "}\n",
              "\n",
              "#sk-container-id-1 div.sk-dashed-wrapped {\n",
              "  border: 1px dashed var(--sklearn-color-line);\n",
              "  margin: 0 0.4em 0.5em 0.4em;\n",
              "  box-sizing: border-box;\n",
              "  padding-bottom: 0.4em;\n",
              "  background-color: var(--sklearn-color-background);\n",
              "}\n",
              "\n",
              "#sk-container-id-1 div.sk-container {\n",
              "  /* jupyter's `normalize.less` sets `[hidden] { display: none; }`\n",
              "     but bootstrap.min.css set `[hidden] { display: none !important; }`\n",
              "     so we also need the `!important` here to be able to override the\n",
              "     default hidden behavior on the sphinx rendered scikit-learn.org.\n",
              "     See: https://github.com/scikit-learn/scikit-learn/issues/21755 */\n",
              "  display: inline-block !important;\n",
              "  position: relative;\n",
              "}\n",
              "\n",
              "#sk-container-id-1 div.sk-text-repr-fallback {\n",
              "  display: none;\n",
              "}\n",
              "\n",
              "div.sk-parallel-item,\n",
              "div.sk-serial,\n",
              "div.sk-item {\n",
              "  /* draw centered vertical line to link estimators */\n",
              "  background-image: linear-gradient(var(--sklearn-color-text-on-default-background), var(--sklearn-color-text-on-default-background));\n",
              "  background-size: 2px 100%;\n",
              "  background-repeat: no-repeat;\n",
              "  background-position: center center;\n",
              "}\n",
              "\n",
              "/* Parallel-specific style estimator block */\n",
              "\n",
              "#sk-container-id-1 div.sk-parallel-item::after {\n",
              "  content: \"\";\n",
              "  width: 100%;\n",
              "  border-bottom: 2px solid var(--sklearn-color-text-on-default-background);\n",
              "  flex-grow: 1;\n",
              "}\n",
              "\n",
              "#sk-container-id-1 div.sk-parallel {\n",
              "  display: flex;\n",
              "  align-items: stretch;\n",
              "  justify-content: center;\n",
              "  background-color: var(--sklearn-color-background);\n",
              "  position: relative;\n",
              "}\n",
              "\n",
              "#sk-container-id-1 div.sk-parallel-item {\n",
              "  display: flex;\n",
              "  flex-direction: column;\n",
              "}\n",
              "\n",
              "#sk-container-id-1 div.sk-parallel-item:first-child::after {\n",
              "  align-self: flex-end;\n",
              "  width: 50%;\n",
              "}\n",
              "\n",
              "#sk-container-id-1 div.sk-parallel-item:last-child::after {\n",
              "  align-self: flex-start;\n",
              "  width: 50%;\n",
              "}\n",
              "\n",
              "#sk-container-id-1 div.sk-parallel-item:only-child::after {\n",
              "  width: 0;\n",
              "}\n",
              "\n",
              "/* Serial-specific style estimator block */\n",
              "\n",
              "#sk-container-id-1 div.sk-serial {\n",
              "  display: flex;\n",
              "  flex-direction: column;\n",
              "  align-items: center;\n",
              "  background-color: var(--sklearn-color-background);\n",
              "  padding-right: 1em;\n",
              "  padding-left: 1em;\n",
              "}\n",
              "\n",
              "\n",
              "/* Toggleable style: style used for estimator/Pipeline/ColumnTransformer box that is\n",
              "clickable and can be expanded/collapsed.\n",
              "- Pipeline and ColumnTransformer use this feature and define the default style\n",
              "- Estimators will overwrite some part of the style using the `sk-estimator` class\n",
              "*/\n",
              "\n",
              "/* Pipeline and ColumnTransformer style (default) */\n",
              "\n",
              "#sk-container-id-1 div.sk-toggleable {\n",
              "  /* Default theme specific background. It is overwritten whether we have a\n",
              "  specific estimator or a Pipeline/ColumnTransformer */\n",
              "  background-color: var(--sklearn-color-background);\n",
              "}\n",
              "\n",
              "/* Toggleable label */\n",
              "#sk-container-id-1 label.sk-toggleable__label {\n",
              "  cursor: pointer;\n",
              "  display: flex;\n",
              "  width: 100%;\n",
              "  margin-bottom: 0;\n",
              "  padding: 0.5em;\n",
              "  box-sizing: border-box;\n",
              "  text-align: center;\n",
              "  align-items: start;\n",
              "  justify-content: space-between;\n",
              "  gap: 0.5em;\n",
              "}\n",
              "\n",
              "#sk-container-id-1 label.sk-toggleable__label .caption {\n",
              "  font-size: 0.6rem;\n",
              "  font-weight: lighter;\n",
              "  color: var(--sklearn-color-text-muted);\n",
              "}\n",
              "\n",
              "#sk-container-id-1 label.sk-toggleable__label-arrow:before {\n",
              "  /* Arrow on the left of the label */\n",
              "  content: \"▸\";\n",
              "  float: left;\n",
              "  margin-right: 0.25em;\n",
              "  color: var(--sklearn-color-icon);\n",
              "}\n",
              "\n",
              "#sk-container-id-1 label.sk-toggleable__label-arrow:hover:before {\n",
              "  color: var(--sklearn-color-text);\n",
              "}\n",
              "\n",
              "/* Toggleable content - dropdown */\n",
              "\n",
              "#sk-container-id-1 div.sk-toggleable__content {\n",
              "  max-height: 0;\n",
              "  max-width: 0;\n",
              "  overflow: hidden;\n",
              "  text-align: left;\n",
              "  /* unfitted */\n",
              "  background-color: var(--sklearn-color-unfitted-level-0);\n",
              "}\n",
              "\n",
              "#sk-container-id-1 div.sk-toggleable__content.fitted {\n",
              "  /* fitted */\n",
              "  background-color: var(--sklearn-color-fitted-level-0);\n",
              "}\n",
              "\n",
              "#sk-container-id-1 div.sk-toggleable__content pre {\n",
              "  margin: 0.2em;\n",
              "  border-radius: 0.25em;\n",
              "  color: var(--sklearn-color-text);\n",
              "  /* unfitted */\n",
              "  background-color: var(--sklearn-color-unfitted-level-0);\n",
              "}\n",
              "\n",
              "#sk-container-id-1 div.sk-toggleable__content.fitted pre {\n",
              "  /* unfitted */\n",
              "  background-color: var(--sklearn-color-fitted-level-0);\n",
              "}\n",
              "\n",
              "#sk-container-id-1 input.sk-toggleable__control:checked~div.sk-toggleable__content {\n",
              "  /* Expand drop-down */\n",
              "  max-height: 200px;\n",
              "  max-width: 100%;\n",
              "  overflow: auto;\n",
              "}\n",
              "\n",
              "#sk-container-id-1 input.sk-toggleable__control:checked~label.sk-toggleable__label-arrow:before {\n",
              "  content: \"▾\";\n",
              "}\n",
              "\n",
              "/* Pipeline/ColumnTransformer-specific style */\n",
              "\n",
              "#sk-container-id-1 div.sk-label input.sk-toggleable__control:checked~label.sk-toggleable__label {\n",
              "  color: var(--sklearn-color-text);\n",
              "  background-color: var(--sklearn-color-unfitted-level-2);\n",
              "}\n",
              "\n",
              "#sk-container-id-1 div.sk-label.fitted input.sk-toggleable__control:checked~label.sk-toggleable__label {\n",
              "  background-color: var(--sklearn-color-fitted-level-2);\n",
              "}\n",
              "\n",
              "/* Estimator-specific style */\n",
              "\n",
              "/* Colorize estimator box */\n",
              "#sk-container-id-1 div.sk-estimator input.sk-toggleable__control:checked~label.sk-toggleable__label {\n",
              "  /* unfitted */\n",
              "  background-color: var(--sklearn-color-unfitted-level-2);\n",
              "}\n",
              "\n",
              "#sk-container-id-1 div.sk-estimator.fitted input.sk-toggleable__control:checked~label.sk-toggleable__label {\n",
              "  /* fitted */\n",
              "  background-color: var(--sklearn-color-fitted-level-2);\n",
              "}\n",
              "\n",
              "#sk-container-id-1 div.sk-label label.sk-toggleable__label,\n",
              "#sk-container-id-1 div.sk-label label {\n",
              "  /* The background is the default theme color */\n",
              "  color: var(--sklearn-color-text-on-default-background);\n",
              "}\n",
              "\n",
              "/* On hover, darken the color of the background */\n",
              "#sk-container-id-1 div.sk-label:hover label.sk-toggleable__label {\n",
              "  color: var(--sklearn-color-text);\n",
              "  background-color: var(--sklearn-color-unfitted-level-2);\n",
              "}\n",
              "\n",
              "/* Label box, darken color on hover, fitted */\n",
              "#sk-container-id-1 div.sk-label.fitted:hover label.sk-toggleable__label.fitted {\n",
              "  color: var(--sklearn-color-text);\n",
              "  background-color: var(--sklearn-color-fitted-level-2);\n",
              "}\n",
              "\n",
              "/* Estimator label */\n",
              "\n",
              "#sk-container-id-1 div.sk-label label {\n",
              "  font-family: monospace;\n",
              "  font-weight: bold;\n",
              "  display: inline-block;\n",
              "  line-height: 1.2em;\n",
              "}\n",
              "\n",
              "#sk-container-id-1 div.sk-label-container {\n",
              "  text-align: center;\n",
              "}\n",
              "\n",
              "/* Estimator-specific */\n",
              "#sk-container-id-1 div.sk-estimator {\n",
              "  font-family: monospace;\n",
              "  border: 1px dotted var(--sklearn-color-border-box);\n",
              "  border-radius: 0.25em;\n",
              "  box-sizing: border-box;\n",
              "  margin-bottom: 0.5em;\n",
              "  /* unfitted */\n",
              "  background-color: var(--sklearn-color-unfitted-level-0);\n",
              "}\n",
              "\n",
              "#sk-container-id-1 div.sk-estimator.fitted {\n",
              "  /* fitted */\n",
              "  background-color: var(--sklearn-color-fitted-level-0);\n",
              "}\n",
              "\n",
              "/* on hover */\n",
              "#sk-container-id-1 div.sk-estimator:hover {\n",
              "  /* unfitted */\n",
              "  background-color: var(--sklearn-color-unfitted-level-2);\n",
              "}\n",
              "\n",
              "#sk-container-id-1 div.sk-estimator.fitted:hover {\n",
              "  /* fitted */\n",
              "  background-color: var(--sklearn-color-fitted-level-2);\n",
              "}\n",
              "\n",
              "/* Specification for estimator info (e.g. \"i\" and \"?\") */\n",
              "\n",
              "/* Common style for \"i\" and \"?\" */\n",
              "\n",
              ".sk-estimator-doc-link,\n",
              "a:link.sk-estimator-doc-link,\n",
              "a:visited.sk-estimator-doc-link {\n",
              "  float: right;\n",
              "  font-size: smaller;\n",
              "  line-height: 1em;\n",
              "  font-family: monospace;\n",
              "  background-color: var(--sklearn-color-background);\n",
              "  border-radius: 1em;\n",
              "  height: 1em;\n",
              "  width: 1em;\n",
              "  text-decoration: none !important;\n",
              "  margin-left: 0.5em;\n",
              "  text-align: center;\n",
              "  /* unfitted */\n",
              "  border: var(--sklearn-color-unfitted-level-1) 1pt solid;\n",
              "  color: var(--sklearn-color-unfitted-level-1);\n",
              "}\n",
              "\n",
              ".sk-estimator-doc-link.fitted,\n",
              "a:link.sk-estimator-doc-link.fitted,\n",
              "a:visited.sk-estimator-doc-link.fitted {\n",
              "  /* fitted */\n",
              "  border: var(--sklearn-color-fitted-level-1) 1pt solid;\n",
              "  color: var(--sklearn-color-fitted-level-1);\n",
              "}\n",
              "\n",
              "/* On hover */\n",
              "div.sk-estimator:hover .sk-estimator-doc-link:hover,\n",
              ".sk-estimator-doc-link:hover,\n",
              "div.sk-label-container:hover .sk-estimator-doc-link:hover,\n",
              ".sk-estimator-doc-link:hover {\n",
              "  /* unfitted */\n",
              "  background-color: var(--sklearn-color-unfitted-level-3);\n",
              "  color: var(--sklearn-color-background);\n",
              "  text-decoration: none;\n",
              "}\n",
              "\n",
              "div.sk-estimator.fitted:hover .sk-estimator-doc-link.fitted:hover,\n",
              ".sk-estimator-doc-link.fitted:hover,\n",
              "div.sk-label-container:hover .sk-estimator-doc-link.fitted:hover,\n",
              ".sk-estimator-doc-link.fitted:hover {\n",
              "  /* fitted */\n",
              "  background-color: var(--sklearn-color-fitted-level-3);\n",
              "  color: var(--sklearn-color-background);\n",
              "  text-decoration: none;\n",
              "}\n",
              "\n",
              "/* Span, style for the box shown on hovering the info icon */\n",
              ".sk-estimator-doc-link span {\n",
              "  display: none;\n",
              "  z-index: 9999;\n",
              "  position: relative;\n",
              "  font-weight: normal;\n",
              "  right: .2ex;\n",
              "  padding: .5ex;\n",
              "  margin: .5ex;\n",
              "  width: min-content;\n",
              "  min-width: 20ex;\n",
              "  max-width: 50ex;\n",
              "  color: var(--sklearn-color-text);\n",
              "  box-shadow: 2pt 2pt 4pt #999;\n",
              "  /* unfitted */\n",
              "  background: var(--sklearn-color-unfitted-level-0);\n",
              "  border: .5pt solid var(--sklearn-color-unfitted-level-3);\n",
              "}\n",
              "\n",
              ".sk-estimator-doc-link.fitted span {\n",
              "  /* fitted */\n",
              "  background: var(--sklearn-color-fitted-level-0);\n",
              "  border: var(--sklearn-color-fitted-level-3);\n",
              "}\n",
              "\n",
              ".sk-estimator-doc-link:hover span {\n",
              "  display: block;\n",
              "}\n",
              "\n",
              "/* \"?\"-specific style due to the `<a>` HTML tag */\n",
              "\n",
              "#sk-container-id-1 a.estimator_doc_link {\n",
              "  float: right;\n",
              "  font-size: 1rem;\n",
              "  line-height: 1em;\n",
              "  font-family: monospace;\n",
              "  background-color: var(--sklearn-color-background);\n",
              "  border-radius: 1rem;\n",
              "  height: 1rem;\n",
              "  width: 1rem;\n",
              "  text-decoration: none;\n",
              "  /* unfitted */\n",
              "  color: var(--sklearn-color-unfitted-level-1);\n",
              "  border: var(--sklearn-color-unfitted-level-1) 1pt solid;\n",
              "}\n",
              "\n",
              "#sk-container-id-1 a.estimator_doc_link.fitted {\n",
              "  /* fitted */\n",
              "  border: var(--sklearn-color-fitted-level-1) 1pt solid;\n",
              "  color: var(--sklearn-color-fitted-level-1);\n",
              "}\n",
              "\n",
              "/* On hover */\n",
              "#sk-container-id-1 a.estimator_doc_link:hover {\n",
              "  /* unfitted */\n",
              "  background-color: var(--sklearn-color-unfitted-level-3);\n",
              "  color: var(--sklearn-color-background);\n",
              "  text-decoration: none;\n",
              "}\n",
              "\n",
              "#sk-container-id-1 a.estimator_doc_link.fitted:hover {\n",
              "  /* fitted */\n",
              "  background-color: var(--sklearn-color-fitted-level-3);\n",
              "}\n",
              "</style><div id=\"sk-container-id-1\" class=\"sk-top-container\"><div class=\"sk-text-repr-fallback\"><pre>SVC(kernel=&#x27;linear&#x27;, probability=True, random_state=42)</pre><b>In a Jupyter environment, please rerun this cell to show the HTML representation or trust the notebook. <br />On GitHub, the HTML representation is unable to render, please try loading this page with nbviewer.org.</b></div><div class=\"sk-container\" hidden><div class=\"sk-item\"><div class=\"sk-estimator fitted sk-toggleable\"><input class=\"sk-toggleable__control sk-hidden--visually\" id=\"sk-estimator-id-1\" type=\"checkbox\" checked><label for=\"sk-estimator-id-1\" class=\"sk-toggleable__label fitted sk-toggleable__label-arrow\"><div><div>SVC</div></div><div><a class=\"sk-estimator-doc-link fitted\" rel=\"noreferrer\" target=\"_blank\" href=\"https://scikit-learn.org/1.6/modules/generated/sklearn.svm.SVC.html\">?<span>Documentation for SVC</span></a><span class=\"sk-estimator-doc-link fitted\">i<span>Fitted</span></span></div></label><div class=\"sk-toggleable__content fitted\"><pre>SVC(kernel=&#x27;linear&#x27;, probability=True, random_state=42)</pre></div> </div></div></div></div>"
            ]
          },
          "metadata": {},
          "execution_count": 25
        }
      ]
    },
    {
      "cell_type": "markdown",
      "source": [
        "# 12. Sentiment Prediction Function"
      ],
      "metadata": {
        "id": "iNirG0tDg3X2"
      }
    },
    {
      "cell_type": "code",
      "source": [
        "def predict_sentiment(tweet, model=final_model, vectorizer=tfidf_vectorizer):\n",
        "    \"\"\"\n",
        "    Predict the sentiment of a single tweet using the trained model.\n",
        "\n",
        "    Parameters:\n",
        "    - tweet: str, raw tweet text\n",
        "    - model: trained ML model (default = final_model)\n",
        "    - vectorizer: TF-IDF vectorizer used to transform the text\n",
        "\n",
        "    Returns:\n",
        "    - Dictionary containing the original tweet, predicted sentiment,\n",
        "      confidence score, and probabilities for positive/negative classes\n",
        "    \"\"\"\n",
        "\n",
        "    # 1. Clean and preprocess the input tweet\n",
        "    processed = clean_tweet(tweet)\n",
        "    # Applies the same preprocessing steps as during training\n",
        "\n",
        "    # 2. Transform the processed tweet into TF-IDF features\n",
        "    vec = vectorizer.transform([processed])\n",
        "    # Converts the tweet into the same feature space as the trained model\n",
        "\n",
        "    # 3. Predict the class label (0 or 1)\n",
        "    pred = model.predict(vec)[0]\n",
        "    # 0 = Positive, 1 = Negative as per dataset labeling\n",
        "\n",
        "    # 4️. Get predicted probabilities for each class\n",
        "    proba = model.predict_proba(vec)[0]\n",
        "    # Array of probabilities: [prob_positive, prob_negative]\n",
        "\n",
        "    # 5. Map predicted label to human-readable sentiment\n",
        "    sentiment = \"Positive\" if pred == 0 else \"Negative\"\n",
        "\n",
        "    # 6. Get confidence score of the predicted class\n",
        "    confidence = proba[pred]\n",
        "\n",
        "    # 7️. Return results as a dictionary for easy interpretation\n",
        "    return {\n",
        "        'tweet': tweet,               # Original tweet\n",
        "        'sentiment': sentiment,       # Predicted sentiment\n",
        "        'confidence': confidence,     # Confidence of prediction\n",
        "        'positive_prob': proba[0],    # Probability of positive sentiment\n",
        "        'negative_prob': proba[1]     # Probability of negative sentiment\n",
        "    }"
      ],
      "metadata": {
        "id": "cI4bKUWqggFm"
      },
      "execution_count": 26,
      "outputs": []
    },
    {
      "cell_type": "markdown",
      "source": [
        "# 13. Test Example Predictions"
      ],
      "metadata": {
        "id": "lVqm23nThHKx"
      }
    },
    {
      "cell_type": "code",
      "source": [
        "# Define a list of sample tweets to test the sentiment prediction function\n",
        "sample_tweets = [\n",
        "    \"Absolutely love the new camera features, pictures look amazing!\",       # Positive example\n",
        "    \"This phone keeps freezing, very disappointed with the update.\",        # Negative example\n",
        "    \"Customer support was fast and helpful, really satisfied.\",             # Positive example\n",
        "    \"The battery drains too quickly, not good at all.\",                     # Negative example\n",
        "    \"Loving the smooth performance and sleek design of my new laptop!\",     # Positive example\n",
        "    \"The app keeps crashing every time I open it, terrible experience.\",    # Negative example\n",
        "    \"Super impressed with the speed of this device, highly recommend!\",    # Positive example\n",
        "    \"I regret buying this product, it’s nothing like advertised.\",          # Negative example\n",
        "]\n",
        "\n",
        "# Print a formatted header for sample predictions\n",
        "print(\"\\n\" + \"=\"*60)\n",
        "print(\"SAMPLE PREDICTIONS\")\n",
        "print(\"=\"*60)\n",
        "\n",
        "# Loop through each sample tweet\n",
        "for t in sample_tweets:\n",
        "    # Predict sentiment using the trained model\n",
        "    res = predict_sentiment(t)\n",
        "\n",
        "    # Print the original tweet\n",
        "    print(f\"\\nTweet: {t}\")\n",
        "\n",
        "    # Print predicted sentiment and confidence score\n",
        "    print(f\"Sentiment: {res['sentiment']} | Confidence: {res['confidence']:.3f}\")\n",
        "\n",
        "    # Print probabilities for positive and negative classes\n",
        "    print(f\"Positive Prob: {res['positive_prob']:.3f}, Negative Prob: {res['negative_prob']:.3f}\")"
      ],
      "metadata": {
        "colab": {
          "base_uri": "https://localhost:8080/"
        },
        "id": "vhEzyRaTg-bG",
        "outputId": "2baa7464-ff5a-4b7e-f7d6-82a72908e1e4"
      },
      "execution_count": 27,
      "outputs": [
        {
          "output_type": "stream",
          "name": "stdout",
          "text": [
            "\n",
            "============================================================\n",
            "SAMPLE PREDICTIONS\n",
            "============================================================\n",
            "\n",
            "Tweet: Absolutely love the new camera features, pictures look amazing!\n",
            "Sentiment: Positive | Confidence: 0.986\n",
            "Positive Prob: 0.986, Negative Prob: 0.014\n",
            "\n",
            "Tweet: This phone keeps freezing, very disappointed with the update.\n",
            "Sentiment: Negative | Confidence: 0.744\n",
            "Positive Prob: 0.256, Negative Prob: 0.744\n",
            "\n",
            "Tweet: Customer support was fast and helpful, really satisfied.\n",
            "Sentiment: Positive | Confidence: 0.892\n",
            "Positive Prob: 0.892, Negative Prob: 0.108\n",
            "\n",
            "Tweet: The battery drains too quickly, not good at all.\n",
            "Sentiment: Negative | Confidence: 0.649\n",
            "Positive Prob: 0.351, Negative Prob: 0.649\n",
            "\n",
            "Tweet: Loving the smooth performance and sleek design of my new laptop!\n",
            "Sentiment: Positive | Confidence: 0.962\n",
            "Positive Prob: 0.962, Negative Prob: 0.038\n",
            "\n",
            "Tweet: The app keeps crashing every time I open it, terrible experience.\n",
            "Sentiment: Negative | Confidence: 0.784\n",
            "Positive Prob: 0.216, Negative Prob: 0.784\n",
            "\n",
            "Tweet: Super impressed with the speed of this device, highly recommend!\n",
            "Sentiment: Positive | Confidence: 0.783\n",
            "Positive Prob: 0.783, Negative Prob: 0.217\n",
            "\n",
            "Tweet: I regret buying this product, it’s nothing like advertised.\n",
            "Sentiment: Negative | Confidence: 0.898\n",
            "Positive Prob: 0.102, Negative Prob: 0.898\n"
          ]
        }
      ]
    },
    {
      "cell_type": "markdown",
      "source": [
        "# 14. System Ready Message"
      ],
      "metadata": {
        "id": "mGqHIi71jqr-"
      }
    },
    {
      "cell_type": "code",
      "source": [
        "# Print a formatted header to indicate the sentiment analysis system is ready\n",
        "print(\"\\n\" + \"=\"*60)\n",
        "print(\"SENTIMENT ANALYSIS SYSTEM READY!\")\n",
        "print(\"=\"*60)\n",
        "\n",
        "# Display the best performing model from training\n",
        "print(f\"Best Model: {best_model_name}\")\n",
        "# Shows which model achieved the highest accuracy\n",
        "\n",
        "# Display the expected accuracy of the best model\n",
        "print(f\"Expected Accuracy: {best_accuracy:.4f}\")\n",
        "# Provides a quick reference of model performance\n",
        "\n"
      ],
      "metadata": {
        "colab": {
          "base_uri": "https://localhost:8080/"
        },
        "id": "u39B27uvhFnl",
        "outputId": "a1c2b16b-e91b-4f5e-a0c0-81ddd443723a"
      },
      "execution_count": 28,
      "outputs": [
        {
          "output_type": "stream",
          "name": "stdout",
          "text": [
            "\n",
            "============================================================\n",
            "SENTIMENT ANALYSIS SYSTEM READY!\n",
            "============================================================\n",
            "Best Model: SVM (Linear)\n",
            "Expected Accuracy: 0.8914\n"
          ]
        }
      ]
    },
    {
      "cell_type": "markdown",
      "source": [
        "# Conclusion:\n",
        "\n",
        "In this project, a **Sentiment Analysis system** was developed to classify tweets about technology products as **positive** or **negative**. The dataset was preprocessed using NLP techniques, including cleaning text, removing noise, and lemmatization to ensure accurate feature representation.\n",
        "\n",
        "Multiple machine learning models were trained and evaluated, including **Logistic Regression**, **Random Forest**, **SVM (Linear)**, **Naive Bayes**, **Gradient Boosting**, **AdaBoost**, and **XGBoost**. Based on **accuracy, precision, recall, and F1-score**, the **SVM (Linear)** model performed best with an accuracy of **0.8914**, demonstrating its ability to effectively distinguish between positive and negative tweets.\n",
        "\n",
        "Visualizations such as ** bar plots and confusion matrices** confirmed the models’ performance and highlighted that most tweets were classified correctly, though nuanced or sarcastic tweets may still present challenges.\n",
        "\n",
        "The developed system can be applied for **real-time monitoring of public sentiment**, enabling companies to gain insights into customer opinions and improve products or services.\n",
        "\n",
        "**Overall, this project demonstrates the practical application of NLP and machine learning to extract actionable insights from social media data.**"
      ],
      "metadata": {
        "id": "ddxKoiAslMLM"
      }
    }
  ]
}